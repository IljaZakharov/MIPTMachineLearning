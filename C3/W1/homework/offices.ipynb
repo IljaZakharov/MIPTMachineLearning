{
 "metadata": {
  "language_info": {
   "codemirror_mode": {
    "name": "ipython",
    "version": 3
   },
   "file_extension": ".py",
   "mimetype": "text/x-python",
   "name": "python",
   "nbconvert_exporter": "python",
   "pygments_lexer": "ipython3",
   "version": "3.7.7-final"
  },
  "orig_nbformat": 2,
  "kernelspec": {
   "name": "python37564bitvenvvenv1a8af70f652a4d16a30b0efa466a70b7",
   "display_name": "Python 3.7.5 64-bit ('venv': venv)",
   "language": "python"
  }
 },
 "nbformat": 4,
 "nbformat_minor": 2,
 "cells": [
  {
   "cell_type": "code",
   "execution_count": 8,
   "metadata": {},
   "outputs": [],
   "source": [
    "import numpy as np\n",
    "import pandas as ps\n",
    "from sklearn.cluster import MeanShift"
   ]
  },
  {
   "source": [
    "def write_answer(val, name):\n",
    "    with open(name, \"w\") as fp:\n",
    "        fp.write(val)"
   ],
   "cell_type": "code",
   "metadata": {},
   "execution_count": 64,
   "outputs": []
  },
  {
   "cell_type": "code",
   "execution_count": 22,
   "metadata": {},
   "outputs": [],
   "source": [
    "def import_checkin_foursquare_dat(file_name, save_to):\n",
    "    with open(file_name, 'r') as fp:\n",
    "        header = fp.readline()\n",
    "        header = list(map(str.strip, header.split('|')))[3:5]\n",
    "        _ = fp.readline()\n",
    "\n",
    "        cnt = 0\n",
    "        rows = [header]    \n",
    "        while len(rows) <= 100001:\n",
    "            new = fp.readline()\n",
    "            la, lo = list(map(str.strip, new.split('|')))[3:5]\n",
    "            cnt += 1 \n",
    "            \n",
    "            if la and lo:\n",
    "                rows.append((la, lo))\n",
    "            \n",
    "    with open(save_to, 'w') as fp:\n",
    "        fp.writelines((','.join(line) + '\\n' for line in rows))"
   ]
  },
  {
   "cell_type": "code",
   "execution_count": 23,
   "metadata": {},
   "outputs": [],
   "source": [
    "# Do this ones to reduce the size of the dataset\n",
    "import_checkin_foursquare_dat('checkins.dat', 'checkins.csv')"
   ]
  },
  {
   "cell_type": "code",
   "execution_count": 24,
   "metadata": {},
   "outputs": [],
   "source": [
    "frame = ps.read_csv('checkins.csv')"
   ]
  },
  {
   "cell_type": "code",
   "execution_count": 68,
   "metadata": {},
   "outputs": [
    {
     "output_type": "execute_result",
     "data": {
      "text/plain": [
       "(100001, 2)"
      ]
     },
     "metadata": {},
     "execution_count": 68
    }
   ],
   "source": [
    "frame.shape"
   ]
  },
  {
   "cell_type": "code",
   "execution_count": 26,
   "metadata": {},
   "outputs": [],
   "source": [
    "ms = MeanShift(bandwidth=0.1)"
   ]
  },
  {
   "cell_type": "code",
   "execution_count": 27,
   "metadata": {},
   "outputs": [
    {
     "output_type": "execute_result",
     "data": {
      "text/plain": [
       "MeanShift(bandwidth=0.1)"
      ]
     },
     "metadata": {},
     "execution_count": 27
    }
   ],
   "source": [
    "ms.fit(frame)"
   ]
  },
  {
   "cell_type": "code",
   "execution_count": 34,
   "metadata": {},
   "outputs": [],
   "source": [
    "result = ms.predict(frame)\n"
   ]
  },
  {
   "cell_type": "code",
   "execution_count": 69,
   "metadata": {},
   "outputs": [],
   "source": [
    "cnt = {}\n",
    "for item in result:\n",
    "    cnt.setdefault(item, 0)\n",
    "    cnt[item] += 1\n"
   ]
  },
  {
   "cell_type": "code",
   "execution_count": 70,
   "metadata": {},
   "outputs": [
    {
     "output_type": "stream",
     "name": "stdout",
     "text": [
      "3231\n3231\n"
     ]
    }
   ],
   "source": [
    "print(len(cnt))\n",
    "print(len(ms.cluster_centers_))"
   ]
  },
  {
   "cell_type": "code",
   "execution_count": 72,
   "metadata": {},
   "outputs": [],
   "source": [
    "clusters = {i: cnt[i] for i in cnt if cnt[i] > 15}"
   ]
  },
  {
   "cell_type": "code",
   "execution_count": 73,
   "metadata": {},
   "outputs": [],
   "source": [
    "centers = [ms.cluster_centers_[c] for c in clusters]"
   ]
  },
  {
   "cell_type": "code",
   "execution_count": 75,
   "metadata": {},
   "outputs": [],
   "source": [
    "offices = [[33.751277, -118.188740],\n",
    "           [25.867736, -80.324116],\n",
    "           [51.503016, -0.075479],\n",
    "           [52.378894, 4.885084],\n",
    "           [39.366487, 117.036146],\n",
    "           [-33.868457, 151.205134]]\n"
   ]
  },
  {
   "cell_type": "code",
   "execution_count": 76,
   "metadata": {},
   "outputs": [],
   "source": [
    "from scipy.spatial import distance"
   ]
  },
  {
   "cell_type": "code",
   "execution_count": 78,
   "metadata": {},
   "outputs": [],
   "source": [
    "selected = None\n",
    "dist = None\n",
    "for center in centers:\n",
    "    new_distance = min(distance.euclidean(center, office) for office in offices)\n",
    "    if not dist or dist > new_distance:\n",
    "        selected = center\n",
    "        dist = new_distance"
   ]
  },
  {
   "cell_type": "code",
   "execution_count": 79,
   "metadata": {},
   "outputs": [],
   "source": [
    "write_answer(' '.join(str(i) for i in selected), 'results.txt')"
   ]
  },
  {
   "cell_type": "code",
   "execution_count": null,
   "metadata": {},
   "outputs": [],
   "source": []
  }
 ]
}