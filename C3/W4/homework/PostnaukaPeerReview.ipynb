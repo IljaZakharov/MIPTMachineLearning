{
 "cells": [
  {
   "cell_type": "markdown",
   "source": [
    "# Тематическая модель [Постнауки](http://postnauka.ru)\n",
    "## Peer Review (optional)"
   ],
   "metadata": {}
  },
  {
   "cell_type": "markdown",
   "source": [
    "В этом задании мы применим аппарат тематического моделирования к коллекции текстовых записей видеолекций, скачанных с сайта Постнаука. Мы будем визуализировать модель и создавать прототип тематического навигатора по коллекции. В коллекции 1728 документов, размер словаря - 38467 слов. Слова лемматизированы, то есть приведены к начальной форме, с помощью программы [mystem](https://tech.yandex.ru/mystem/), коллекция сохранена в [формате vowpal wabbit](http://docs.bigartm.org/en/latest/formats.html). В каждой строке до первой черты записана информация о документе (ссылка на страницу с лекцией), после первой черты следует описание документа. Используются две модальности - текстовая (\"text\") и модальность авторов (\"author\"); у каждого документа один автор."
   ],
   "metadata": {}
  },
  {
   "cell_type": "markdown",
   "source": [
    "Для выполнения задания понадобится библиотека [BigARTM](http://docs.bigartm.org). В демонстрации показан пример использования библиотеки версии 0.9.0. В новой версии изменены принципы работы со словарями: они вынесены в отдельный класс (пример в [Release Notes](http://docs.bigartm.org/en/stable/release_notes/python.html)).\n",
    "\n",
    "Спецификации всех функций вы можете смотреть на странице [Python API](http://bigartm.readthedocs.io/en/stable/python_interface.html)."
   ],
   "metadata": {}
  },
  {
   "cell_type": "code",
   "execution_count": 19,
   "source": [
    "import artm"
   ],
   "outputs": [],
   "metadata": {
    "collapsed": true
   }
  },
  {
   "cell_type": "code",
   "execution_count": 20,
   "source": [
    "from matplotlib import pyplot as plt\n",
    "import seaborn\n",
    "%matplotlib inline\n",
    "seaborn.set_style(\"whitegrid\", {'axes.grid' : False})"
   ],
   "outputs": [],
   "metadata": {
    "collapsed": true
   }
  },
  {
   "cell_type": "code",
   "execution_count": 21,
   "source": [
    "import numpy as np\n",
    "import pandas as pd"
   ],
   "outputs": [],
   "metadata": {
    "collapsed": true
   }
  },
  {
   "cell_type": "markdown",
   "source": [
    "##### Считывание данных"
   ],
   "metadata": {}
  },
  {
   "cell_type": "markdown",
   "source": [
    "Создайте объект класса artm.BatchVectorizer, который будет ссылаться на директорию с пакетами данных (батчами). Чтобы библиотека могла преобразовать текстовый файл в батчи, создайте пустую директорию и укажите ее название в параметре target_folder. Размер батча для небольших коллекций (как наша) не важен, вы можете указать любой."
   ],
   "metadata": {}
  },
  {
   "cell_type": "code",
   "execution_count": 22,
   "source": [
    "# Ваш код\n",
    "batch_vectorizer = artm.BatchVectorizer(data_path=\"lectures.txt\", data_format=\"vowpal_wabbit\", target_folder=\"target_folder\", \n",
    "                                        batch_size=100)"
   ],
   "outputs": [],
   "metadata": {
    "collapsed": true
   }
  },
  {
   "cell_type": "markdown",
   "source": [
    "##### Инициализация модели"
   ],
   "metadata": {}
  },
  {
   "cell_type": "markdown",
   "source": [
    "Создайте объект класса artm.Model с 30 темами, именами тем, указанными ниже и единичными весами обеих модальностей. Количество тем выбрано не очень большим, чтобы вам было удобнее работать с темами. На этой коллекции можно строить и большее число тем, тогда они будут более узко специализированы."
   ],
   "metadata": {}
  },
  {
   "cell_type": "code",
   "execution_count": 23,
   "source": [
    "T = 30   # количество тем\n",
    "topic_names=[\"sbj\"+str(i) for i in range(T-1)]+[\"bcg\"]\n",
    "# Ваш код\n",
    "model_artm = artm.ARTM(num_topics=T, topic_names=topic_names, seed=1, class_ids={\"text\":1, \"author\":1}, cache_theta=True)"
   ],
   "outputs": [],
   "metadata": {
    "collapsed": true
   }
  },
  {
   "cell_type": "markdown",
   "source": [
    "Мы будем строить 29 предметных тем и одну фоновую. \n",
    "\n",
    "Соберите словарь с помощью метода gather_dictionary и инициализируйте модель, указав random_seed=1. Обязательно укажите свое название словаря, оно понадобится при добавлении регуляризаторов."
   ],
   "metadata": {}
  },
  {
   "cell_type": "code",
   "execution_count": 24,
   "source": [
    "# Ваш код\n",
    "dictionary = artm.Dictionary('dictionary')\n",
    "dictionary.gather(batch_vectorizer.data_path)\n",
    "model_artm.initialize('dictionary')"
   ],
   "outputs": [],
   "metadata": {
    "collapsed": true
   }
  },
  {
   "cell_type": "markdown",
   "source": [
    "##### Добавление score"
   ],
   "metadata": {}
  },
  {
   "cell_type": "markdown",
   "source": [
    "Создайте два измерителя качества artm.TopTokensScore - по одному для каждой модальности; количество токенов 15. Названия для score придумайте самостоятельно."
   ],
   "metadata": {}
  },
  {
   "cell_type": "code",
   "execution_count": 25,
   "source": [
    "model_artm.class_ids"
   ],
   "outputs": [
    {
     "output_type": "execute_result",
     "data": {
      "text/plain": [
       "{'text': 1, 'author': 1}"
      ]
     },
     "metadata": {},
     "execution_count": 25
    }
   ],
   "metadata": {}
  },
  {
   "cell_type": "code",
   "execution_count": 26,
   "source": [
    "# Ваш код\n",
    "model_artm.scores.add(artm.TopTokensScore(name=\"top_words_text\", num_tokens=15, class_id='text'))\n",
    "model_artm.scores.add(artm.TopTokensScore(name=\"top_words_authors\", num_tokens=15, class_id='author'))"
   ],
   "outputs": [],
   "metadata": {
    "collapsed": true
   }
  },
  {
   "cell_type": "markdown",
   "source": [
    "##### Построение модели"
   ],
   "metadata": {}
  },
  {
   "cell_type": "markdown",
   "source": [
    "Мы будем строить модель в два этапа: сначала добавим сглаживающий регуляризатор фоновой темы и настроим параметры модели, затем - добавим разреживающий регуляризатор предметрых тем и выполним еще несколько итераций. Так мы сможем получить наиболее чистые от фоновых слов предметные темы. Сглаживающий и разреживающий регуляризаторы задаются одним и тем же классом artm.SmoothSparsePhiRegularizer: если коэффициент tau положительный, то регуляризатор будет сглаживающий, если отрицательный - разреживающий.\n",
    "\n",
    "Если вы хотите подробнее разобраться, как выполняется регуляризация тематической модели в BigARTM, вы можете прочитать [статью](https://s3-eu-west-1.amazonaws.com/artm/voron-potap14artm-rus.pdf), раздел 4."
   ],
   "metadata": {}
  },
  {
   "cell_type": "markdown",
   "source": [
    "Добавьте сглаживающий регуляризатор с коэффициентом tau = 1e5, указав название своего словаря в dictionary, модальность текста в class_ids и тему \"bcg\" в topic_names."
   ],
   "metadata": {}
  },
  {
   "cell_type": "code",
   "execution_count": 27,
   "source": [
    "# Ваш код\n",
    "model_artm.regularizers.add(artm.SmoothSparsePhiRegularizer(name='SparsePhi_bcg', tau=1e5, dictionary='dictionary', class_ids=['text'], topic_names=['bcg']))"
   ],
   "outputs": [],
   "metadata": {
    "collapsed": true
   }
  },
  {
   "cell_type": "markdown",
   "source": [
    "Выполните 30 итераций по коллекции (num_collection_passes), количество внутренних итераций установите равным 1. Используйте метод fit_offline модели."
   ],
   "metadata": {}
  },
  {
   "cell_type": "code",
   "execution_count": 28,
   "source": [
    "# Ваш код\n",
    "model_artm.fit_offline(batch_vectorizer=batch_vectorizer, num_collection_passes=30)"
   ],
   "outputs": [],
   "metadata": {
    "collapsed": true
   }
  },
  {
   "cell_type": "markdown",
   "source": [
    "Добавьте разреживающий регуляризатор с коэффициентом tau=-1e5, указав название своего словаря, модальность текста в class_ids и все темы \"sbjX\" в topic_names."
   ],
   "metadata": {}
  },
  {
   "cell_type": "code",
   "execution_count": 29,
   "source": [
    "# Ваш код\n",
    "model_artm.regularizers.add(artm.SmoothSparsePhiRegularizer(name='SparsePhi_all_topics', tau=-1e5, dictionary='dictionary', class_ids=['text']))"
   ],
   "outputs": [],
   "metadata": {
    "collapsed": true
   }
  },
  {
   "cell_type": "markdown",
   "source": [
    "Выполните еще 15 проходов по коллекции."
   ],
   "metadata": {}
  },
  {
   "cell_type": "code",
   "execution_count": 30,
   "source": [
    "# Ваш код\n",
    "model_artm.fit_offline(batch_vectorizer=batch_vectorizer, num_collection_passes=15)"
   ],
   "outputs": [],
   "metadata": {
    "collapsed": true
   }
  },
  {
   "cell_type": "markdown",
   "source": [
    "##### Интерпретация тем"
   ],
   "metadata": {}
  },
  {
   "cell_type": "markdown",
   "source": [
    "Используя созданные score, выведите топы слов и топы авторов в темах. Удобнее всего выводить топ слов каждой темы с новой строки, указывая название темы в начале строки, и аналогично с авторами."
   ],
   "metadata": {}
  },
  {
   "cell_type": "code",
   "execution_count": 31,
   "source": [
    "# Ваш код\n",
    "def print_top_words(add_authors=False):\n",
    "    trackers = {\"текст\": \"top_words_text\"}\n",
    "    if add_authors:\n",
    "        trackers.update({\"автор\": \"top_words_authors\"})\n",
    "    for name, tracker in trackers.items():\n",
    "        print(f'\\nСлова по модальности {name}')\n",
    "        tokens = model_artm.score_tracker[tracker].last_tokens    \n",
    "        for topic_name in model_artm.topic_names:        \n",
    "            words = ', '.join(tokens.get(topic_name, []))\n",
    "            print(f\"{topic_name}: {words}\")"
   ],
   "outputs": [],
   "metadata": {
    "collapsed": true
   }
  },
  {
   "cell_type": "code",
   "execution_count": 32,
   "source": [
    "print_top_words()"
   ],
   "outputs": [
    {
     "output_type": "stream",
     "name": "stdout",
     "text": [
      "\n",
      "Слова по модальности текст\n",
      "sbj0: частица, энергия, взаимодействие, физика, кварк, симметрия, элементарный, стандартный, нейтрино, материя, заряд, масса, протон, бозон, слабый\n",
      "sbj1: материал, температура, структура, вещество, химический, соединение, поверхность, свойство, химия, молекула, давление, углерод, металл, сверхпроводимость, применение\n",
      "sbj2: политический, государство, власть, царь, партия, народ, церковь, средневековый, правитель, император, враг, сага, папа, шмитт, государь\n",
      "sbj3: знание, социология, социологический, познание, школа, предмет, виктор, социолог, факультет, аргумент, высказывание, логика, кафедра, прикладной, концепт\n",
      "sbj4: мозг, мышление, нейрон, предложение, категория, взрослый, чтение, синтаксический, лицо, детство, обезьяна, синтаксис, речевой, творческий, шимпанзе\n",
      "sbj5: бог, миф, греческий, герой, религия, ритуал, душа, мифология, грек, море, мифологический, культ, персонаж, божество, гусейнов\n",
      "sbj6: слово, русский, текст, словарь, перевод, корпус, гласный, согласный, немецкий, говор, академия, древнерусский, произносить, цитата, издание\n",
      "sbj7: трудность, раса, африка, праздник, шаман, станислав, нос, остров, америка, тест, задание, монголоид, дробышевский, шаманский, индеец\n",
      "sbj8: право, римский, правовой, юрист, суд, юридический, должник, собственность, обязательство, владение, исполнение, рим, собственник, поэзия, договор\n",
      "sbj9: болезнь, заболевание, пациент, лечение, медицина, врач, боль, препарат, медицинский, лекарство, иммунный, сон, операция, опухоль, больной\n",
      "sbj10: животное, вода, организм, робот, растение, микроорганизм, рецептор, биологический, океан, мембрана, популяция, кислород, метан, микроб, мышца\n",
      "sbj11: память, восприятие, психология, сознание, когнитивный, внимание, психолог, психологический, ощущение, эмоциональный, активность, зрительный, феномен, психический, нервный\n",
      "sbj12: германия, университет, русь, святой, немецкий, князь, андрей, византийский, апостол, польский, илья, иван, повесть, николай, византия\n",
      "sbj13: город, социальный, общество, исторический, история, понятие, наука, рассказывать, культурный, политика, кандидат, российский, городской, каков, искусство\n",
      "sbj14: галактика, планета, земля, черный, дыра, газ, масса, атмосфера, солнце, диск, солнечный, расстояние, скопление, вокруг, спутник\n",
      "sbj15: решение, экономический, экономика, деньги, компания, оценка, принятие, критерий, выбор, ценность, рынок, финансовый, экономист, безопасность, поведенческий\n",
      "sbj16: ребенок, женщина, поведение, семья, эмоция, конфликт, личность, мужчина, мать, коллективный, родитель, стратегия, социальный, травма, метро\n",
      "sbj17: задача, данные, компьютер, сеть, программа, компьютерный, интернет, искусственный, алгоритм, интеллект, обучение, разработка, ошибка, сложность, вычислительный\n",
      "sbj18: территория, древний, восток, империя, письменность, северный, китай, памятник, письмо, население, восточный, южный, китайский, регион, местный\n",
      "sbj19: клетка, ген, днк, белок, генетический, организм, молекула, биологический, молекулярный, геном, бактерия, ткань, рнк, мутация, биология\n",
      "sbj20: квантовый, поле, свет, магнитный, волна, атом, электрон, эффект, фотон, измерение, оптический, частота, ток, импульс, жидкость\n",
      "sbj21: культура, философия, литература, философский, философ, произведение, литературный, автор, роман, платон, писать, писатель, поэт, критика, мысль\n",
      "sbj22: революция, страна, государственный, король, французский, реформа, петр, франция, историк, против, сталин, смерть, крестьянин, кризис, гражданин\n",
      "sbj23: война, россия, советский, мировой, союз, военный, гражданский, песня, армия, обряд, самка, ссср, самец, эмиграция, большевик\n",
      "sbj24: язык, христианский, христианство, лингвист, глагол, лингвистика, языковой, христианин, грамматика, английский, лингвистический, филологический, арабский, падеж, сирийский\n",
      "sbj25: теория, пространство, математический, матрица, уравнение, математика, описание, описывать, теоретический, линейный, эйнштейн, относительность, геометрия, механика, математик\n",
      "sbj26: театр, костюм, пьеса, актер, сцена, театральный, фильтр, телесный, скелет, зритель, одежда, порнография, термоэлектрический, зуб, чувствительность\n",
      "sbj27: звезда, вселенная, скорость, излучение, объект, телескоп, белый, космический, гравитационный, нейтронный, вещество, карлик, темный, спектр, измерять\n",
      "sbj28: фильм, свобода, кино, кинематограф, культовый, климат, глобальный, тема, классика, вечный, насилие, жанр, радиация, бердяев, климатический\n",
      "bcg: быть, что, это, который, этот, как, они, мочь, такой, очень, для, человек, или, тот, один\n"
     ]
    }
   ],
   "metadata": {}
  },
  {
   "cell_type": "markdown",
   "source": [
    "В последней теме \"bcg\" должны находиться общеупотребительные слова.\n",
    "\n",
    "Важный шаг в работе с тематической моделью, когда речь идет о визуализации или создании тематического навигатора, это именование тем. Понять, о чем каждая тема, можно по списку ее топовых слов. Например, тему\n",
    "    \n",
    "    частица взаимодействие физика кварк симметрия элементарный нейтрино стандартный материя протон бозон заряд масса ускоритель слабый\n",
    "    \n",
    "можно назвать \"Физика элементарных частиц\". \n",
    "\n",
    "Дайте названия 29 предметным темам. Если вы не знаете, как назвать тему, назовите ее первым встретившимся в ней существительным, хотя при таком подходе навигатор будет менее информативным. Из названий тем составьте список из 29 строк и запишите го в переменную sbj_topic_labels. В переменной topic_labels будут храниться названия всех тем, включая фоновую."
   ],
   "metadata": {}
  },
  {
   "cell_type": "code",
   "execution_count": 33,
   "source": [
    "sbj_topic_labels = [\n",
    "    'физика элементарных частиц', 'химия и материалы', 'история и политика', 'социология', \"мозг и речь\",\n",
    "    \"мифология\", \"словесность\", \"география\", \"право\", \"медицина\", \"биология\", \"психология\", \"история Руси\", \n",
    "    \"общество и культура\", \"астрофизика\", \"экономика\", \"семья\", \"информатика\", \"письменность\", \n",
    "    \"клеточная теория и биология\", \"квантовая теория\", \"философия и литература\", \"история и государственность\", \"СССР\",\n",
    "    \"христианство и язык\", \"математика\", \"театр\", \"астрономия\", \"кинематограф\"\n",
    "\n",
    "]   \n",
    "topic_labels = sbj_topic_labels + [\"Фоновая тема\"]"
   ],
   "outputs": [],
   "metadata": {
    "collapsed": true
   }
  },
  {
   "cell_type": "markdown",
   "source": [
    "##### Анализ тем"
   ],
   "metadata": {}
  },
  {
   "cell_type": "markdown",
   "source": [
    "Далее мы будем работать с распределениями тем в документах (матрица $\\Theta$) и авторов в темах (одна из двух матриц $\\Phi$, соответствующая модальности авторов). \n",
    "Создайте переменные, содержащие две этих матрицы, с помощью методов get_phi и get_theta модели. Назовите переменные theta и phi_a. Выведите формы обеих матриц, чтобы понять, по каким осям стоят темы."
   ],
   "metadata": {}
  },
  {
   "cell_type": "code",
   "execution_count": 34,
   "source": [
    "model_artm.theta_columns_naming = \"title\" # включает именование столбцов Theta их названиями-ссылками, а не внутренними id \n",
    "# Ваш код\n",
    "phi_a = model_artm.get_phi(class_ids=['author'])\n",
    "theta = model_artm.get_theta()\n",
    "print(theta.shape)\n",
    "print(phi_a.shape)"
   ],
   "outputs": [
    {
     "output_type": "stream",
     "name": "stdout",
     "text": [
      "(30, 1728)\n",
      "(539, 30)\n"
     ]
    }
   ],
   "metadata": {
    "collapsed": true
   }
  },
  {
   "cell_type": "markdown",
   "source": [
    "Визуализируем фрагмент матрицы $\\Theta$ - первые 100 документов (это наиболее простой способ визуально оценить, как темы распределяются в документах). С помощью метода seaborn.heatmap выведите фрагмент theta как изображение. Рекомендация: создайте фигуру pyplot размера (20, 10)."
   ],
   "metadata": {}
  },
  {
   "cell_type": "code",
   "execution_count": 35,
   "source": [
    "# Ваш код\n",
    "plt.figure(figsize=(20, 10))\n",
    "seaborn.heatmap(theta[theta.columns[0:100]])"
   ],
   "outputs": [
    {
     "output_type": "stream",
     "name": "stderr",
     "text": [
      "/home/zakharov/src/MIPTMachineLearning/venv/lib/python3.7/site-packages/seaborn/matrix.py:68: DeprecationWarning: `np.bool` is a deprecated alias for the builtin `bool`. To silence this warning, use `bool` by itself. Doing this will not modify any behavior and is safe. If you specifically wanted the numpy scalar type, use `np.bool_` here.\n",
      "Deprecated in NumPy 1.20; for more details and guidance: https://numpy.org/devdocs/release/1.20.0-notes.html#deprecations\n",
      "  mask = np.zeros(data.shape, np.bool)\n"
     ]
    },
    {
     "output_type": "execute_result",
     "data": {
      "text/plain": [
       "<matplotlib.axes._subplots.AxesSubplot at 0x7fbf414db590>"
      ]
     },
     "metadata": {},
     "execution_count": 35
    },
    {
     "output_type": "display_data",
     "data": {
      "text/plain": [
       "<Figure size 1440x720 with 2 Axes>"
      ],
      "image/png": "[encoded data removed]"
     },
     "metadata": {}
    }
   ],
   "metadata": {
    "collapsed": true
   }
  },
  {
   "cell_type": "markdown",
   "source": [
    "Вы должны увидеть, что фоновая тема имеет большую вероятность в почти каждом документе, и это логично. Кроме того, есть еще одна тема, которая чаще других встречается в документах. Судя по всему, это тема содержит много слов по науку в целом, а каждый документ (видео) в нашей коллекции связан с наукой. Можно (необязательно) дать этой теме название \"Наука\".\n",
    "\n",
    "Помимо этих двух тем, фоновой и общенаучной, каждый документ характеризуется малым числом других тем."
   ],
   "metadata": {}
  },
  {
   "cell_type": "markdown",
   "source": [
    "Оценим $p(t)$ - долю каждой темы во всей коллекции. По формуле полной вероятности вычислять эти величины нужно как\n",
    "$p(t) = \\sum_d p(t|d) p(d)$. Согласно вероятностной модели, $p(d)$ пропорционально длине документа d. Поступим проще: будем полагать, что все документы равновероятны. Тогда оценить $p(t)$ можно, просуммировав $p(t|d)$ по всем документам, а затем разделив полученный вектор на его сумму. \n",
    "\n",
    "Создайте переменную-датафрейм с T строками, индексированными названиями тем, и 1 столбцом, содержащим оценки $p(t)$. Выведите датафрейм на печать."
   ],
   "metadata": {}
  },
  {
   "cell_type": "code",
   "execution_count": 147,
   "source": [
    "p_t = theta.sum(axis=1)\n",
    "p_t = p_t / p_t.sum()"
   ],
   "outputs": [],
   "metadata": {}
  },
  {
   "cell_type": "code",
   "execution_count": 149,
   "source": [
    "# Ваш код\n",
    "pt = pd.DataFrame(data=np.array(p_t), index=topic_labels, columns=['p(t)'])\n",
    "pt.sort_values(by='p(t)')"
   ],
   "outputs": [
    {
     "output_type": "execute_result",
     "data": {
      "text/plain": [
       "                                 p(t)\n",
       "театр                        0.003269\n",
       "география                    0.004957\n",
       "кинематограф                 0.005999\n",
       "мозг и речь                  0.006533\n",
       "психология                   0.006779\n",
       "СССР                         0.007776\n",
       "право                        0.007801\n",
       "социология                   0.007838\n",
       "словесность                  0.008636\n",
       "мифология                    0.008646\n",
       "семья                        0.009017\n",
       "история и государственность  0.009861\n",
       "математика                   0.010143\n",
       "экономика                    0.010187\n",
       "история Руси                 0.010578\n",
       "физика элементарных частиц   0.010687\n",
       "информатика                  0.010806\n",
       "история и политика           0.011659\n",
       "медицина                     0.011961\n",
       "астрономия                   0.012239\n",
       "астрофизика                  0.012536\n",
       "христианство и язык          0.013630\n",
       "письменность                 0.013983\n",
       "химия и материалы            0.014459\n",
       "биология                     0.015636\n",
       "философия и литература       0.016304\n",
       "квантовая теория             0.016608\n",
       "клеточная теория и биология  0.022560\n",
       "общество и культура          0.042966\n",
       "Фоновая тема                 0.655947"
      ],
      "text/html": [
       "<div>\n",
       "<style scoped>\n",
       "    .dataframe tbody tr th:only-of-type {\n",
       "        vertical-align: middle;\n",
       "    }\n",
       "\n",
       "    .dataframe tbody tr th {\n",
       "        vertical-align: top;\n",
       "    }\n",
       "\n",
       "    .dataframe thead th {\n",
       "        text-align: right;\n",
       "    }\n",
       "</style>\n",
       "<table border=\"1\" class=\"dataframe\">\n",
       "  <thead>\n",
       "    <tr style=\"text-align: right;\">\n",
       "      <th></th>\n",
       "      <th>p(t)</th>\n",
       "    </tr>\n",
       "  </thead>\n",
       "  <tbody>\n",
       "    <tr>\n",
       "      <th>театр</th>\n",
       "      <td>0.003269</td>\n",
       "    </tr>\n",
       "    <tr>\n",
       "      <th>география</th>\n",
       "      <td>0.004957</td>\n",
       "    </tr>\n",
       "    <tr>\n",
       "      <th>кинематограф</th>\n",
       "      <td>0.005999</td>\n",
       "    </tr>\n",
       "    <tr>\n",
       "      <th>мозг и речь</th>\n",
       "      <td>0.006533</td>\n",
       "    </tr>\n",
       "    <tr>\n",
       "      <th>психология</th>\n",
       "      <td>0.006779</td>\n",
       "    </tr>\n",
       "    <tr>\n",
       "      <th>СССР</th>\n",
       "      <td>0.007776</td>\n",
       "    </tr>\n",
       "    <tr>\n",
       "      <th>право</th>\n",
       "      <td>0.007801</td>\n",
       "    </tr>\n",
       "    <tr>\n",
       "      <th>социология</th>\n",
       "      <td>0.007838</td>\n",
       "    </tr>\n",
       "    <tr>\n",
       "      <th>словесность</th>\n",
       "      <td>0.008636</td>\n",
       "    </tr>\n",
       "    <tr>\n",
       "      <th>мифология</th>\n",
       "      <td>0.008646</td>\n",
       "    </tr>\n",
       "    <tr>\n",
       "      <th>семья</th>\n",
       "      <td>0.009017</td>\n",
       "    </tr>\n",
       "    <tr>\n",
       "      <th>история и государственность</th>\n",
       "      <td>0.009861</td>\n",
       "    </tr>\n",
       "    <tr>\n",
       "      <th>математика</th>\n",
       "      <td>0.010143</td>\n",
       "    </tr>\n",
       "    <tr>\n",
       "      <th>экономика</th>\n",
       "      <td>0.010187</td>\n",
       "    </tr>\n",
       "    <tr>\n",
       "      <th>история Руси</th>\n",
       "      <td>0.010578</td>\n",
       "    </tr>\n",
       "    <tr>\n",
       "      <th>физика элементарных частиц</th>\n",
       "      <td>0.010687</td>\n",
       "    </tr>\n",
       "    <tr>\n",
       "      <th>информатика</th>\n",
       "      <td>0.010806</td>\n",
       "    </tr>\n",
       "    <tr>\n",
       "      <th>история и политика</th>\n",
       "      <td>0.011659</td>\n",
       "    </tr>\n",
       "    <tr>\n",
       "      <th>медицина</th>\n",
       "      <td>0.011961</td>\n",
       "    </tr>\n",
       "    <tr>\n",
       "      <th>астрономия</th>\n",
       "      <td>0.012239</td>\n",
       "    </tr>\n",
       "    <tr>\n",
       "      <th>астрофизика</th>\n",
       "      <td>0.012536</td>\n",
       "    </tr>\n",
       "    <tr>\n",
       "      <th>христианство и язык</th>\n",
       "      <td>0.013630</td>\n",
       "    </tr>\n",
       "    <tr>\n",
       "      <th>письменность</th>\n",
       "      <td>0.013983</td>\n",
       "    </tr>\n",
       "    <tr>\n",
       "      <th>химия и материалы</th>\n",
       "      <td>0.014459</td>\n",
       "    </tr>\n",
       "    <tr>\n",
       "      <th>биология</th>\n",
       "      <td>0.015636</td>\n",
       "    </tr>\n",
       "    <tr>\n",
       "      <th>философия и литература</th>\n",
       "      <td>0.016304</td>\n",
       "    </tr>\n",
       "    <tr>\n",
       "      <th>квантовая теория</th>\n",
       "      <td>0.016608</td>\n",
       "    </tr>\n",
       "    <tr>\n",
       "      <th>клеточная теория и биология</th>\n",
       "      <td>0.022560</td>\n",
       "    </tr>\n",
       "    <tr>\n",
       "      <th>общество и культура</th>\n",
       "      <td>0.042966</td>\n",
       "    </tr>\n",
       "    <tr>\n",
       "      <th>Фоновая тема</th>\n",
       "      <td>0.655947</td>\n",
       "    </tr>\n",
       "  </tbody>\n",
       "</table>\n",
       "</div>"
      ]
     },
     "metadata": {},
     "execution_count": 149
    }
   ],
   "metadata": {
    "collapsed": true
   }
  },
  {
   "cell_type": "markdown",
   "source": [
    "Найдите 5 самых распространенных и 3 наименее освещенных темы в коллекции (наибольшие и наименьшие $p(t)$ соответственно), не считая фоновую и общенаучную. Укажите названия, которые вы дали этим темам."
   ],
   "metadata": {}
  },
  {
   "cell_type": "raw",
   "source": [
    "Ваш ответ:\n",
    "5 тем с max p(t):  клеточная теория и биология, квантовая теория, философия и литература, биология, химия и материалы\n",
    "3 темы с min p(t): театр, география, кинематограф"
   ],
   "metadata": {}
  },
  {
   "cell_type": "markdown",
   "source": [
    "Визуализируйте матрицу $\\Phi$ модальности авторов в виде изображения. Рекомендация: установите yticklabels=False в heatmap."
   ],
   "metadata": {}
  },
  {
   "cell_type": "code",
   "execution_count": 150,
   "source": [
    "# Ваш код\n",
    "plt.figure(figsize=(20,20))\n",
    "seaborn.heatmap(phi_a, yticklabels=False)\n"
   ],
   "outputs": [
    {
     "output_type": "stream",
     "name": "stderr",
     "text": [
      "/home/zakharov/src/MIPTMachineLearning/venv/lib/python3.7/site-packages/seaborn/matrix.py:68: DeprecationWarning: `np.bool` is a deprecated alias for the builtin `bool`. To silence this warning, use `bool` by itself. Doing this will not modify any behavior and is safe. If you specifically wanted the numpy scalar type, use `np.bool_` here.\n",
      "Deprecated in NumPy 1.20; for more details and guidance: https://numpy.org/devdocs/release/1.20.0-notes.html#deprecations\n",
      "  mask = np.zeros(data.shape, np.bool)\n"
     ]
    },
    {
     "output_type": "execute_result",
     "data": {
      "text/plain": [
       "<matplotlib.axes._subplots.AxesSubplot at 0x7fbf1d3e7150>"
      ]
     },
     "metadata": {},
     "execution_count": 150
    },
    {
     "output_type": "display_data",
     "data": {
      "text/plain": [
       "<Figure size 1440x1440 with 2 Axes>"
      ],
      "image/png": "[encoded data removed]"
     },
     "metadata": {}
    }
   ],
   "metadata": {
    "collapsed": true
   }
  },
  {
   "cell_type": "markdown",
   "source": [
    "Каждой теме соответствует не очень большое число авторов - матрица достаточно разреженная. Кроме того, некоторые темы имеют доминирующего автора $a$, имеющего большую вероятность $p(a|t)$ - этот автор записал больше всего лекций по теме. "
   ],
   "metadata": {}
  },
  {
   "cell_type": "markdown",
   "source": [
    "Будем считать, что автор $a$ значим в теме, если $p(a|t) > 0.01$. Для каждого автора посчитайте, в скольких темах он значим. Найдите авторов-рекордсменов, которые значимы (а значит, читали лекции) в >= 3 темах."
   ],
   "metadata": {}
  },
  {
   "cell_type": "code",
   "execution_count": 151,
   "source": [
    "author_topics = ((phi_a > 0.01)*1).sum(axis=1)\n",
    "author_topics = pd.DataFrame(author_topics[author_topics >= 3], columns=[\"freq\"]).sort_values([\"freq\"], ascending=False)\n",
    "author_topics"
   ],
   "outputs": [
    {
     "output_type": "execute_result",
     "data": {
      "text/plain": [
       "                                freq\n",
       "(author, Ольга_Вайнштейн)          4\n",
       "(author, Андрей_Журавлев)          3\n",
       "(author, Сергей_Неклюдов)          3\n",
       "(author, Фёдор_Успенский)          3\n",
       "(author, Дина_Гусейнова)           3\n",
       "(author, Александр_Воеводский)     3"
      ],
      "text/html": [
       "<div>\n",
       "<style scoped>\n",
       "    .dataframe tbody tr th:only-of-type {\n",
       "        vertical-align: middle;\n",
       "    }\n",
       "\n",
       "    .dataframe tbody tr th {\n",
       "        vertical-align: top;\n",
       "    }\n",
       "\n",
       "    .dataframe thead th {\n",
       "        text-align: right;\n",
       "    }\n",
       "</style>\n",
       "<table border=\"1\" class=\"dataframe\">\n",
       "  <thead>\n",
       "    <tr style=\"text-align: right;\">\n",
       "      <th></th>\n",
       "      <th>freq</th>\n",
       "    </tr>\n",
       "  </thead>\n",
       "  <tbody>\n",
       "    <tr>\n",
       "      <th>(author, Ольга_Вайнштейн)</th>\n",
       "      <td>4</td>\n",
       "    </tr>\n",
       "    <tr>\n",
       "      <th>(author, Андрей_Журавлев)</th>\n",
       "      <td>3</td>\n",
       "    </tr>\n",
       "    <tr>\n",
       "      <th>(author, Сергей_Неклюдов)</th>\n",
       "      <td>3</td>\n",
       "    </tr>\n",
       "    <tr>\n",
       "      <th>(author, Фёдор_Успенский)</th>\n",
       "      <td>3</td>\n",
       "    </tr>\n",
       "    <tr>\n",
       "      <th>(author, Дина_Гусейнова)</th>\n",
       "      <td>3</td>\n",
       "    </tr>\n",
       "    <tr>\n",
       "      <th>(author, Александр_Воеводский)</th>\n",
       "      <td>3</td>\n",
       "    </tr>\n",
       "  </tbody>\n",
       "</table>\n",
       "</div>"
      ]
     },
     "metadata": {},
     "execution_count": 151
    }
   ],
   "metadata": {}
  },
  {
   "cell_type": "raw",
   "source": [
    "Ваш ответ:\n",
    "авторы, значимые в не менее чем 3 темах: Ольга_Вайнштейн, Андрей_Журавлев, Сергей_Неклюдов, Фёдор_Успенский, Дина_Гусейнова, Александр_Воеводский"
   ],
   "metadata": {}
  },
  {
   "cell_type": "markdown",
   "source": [
    "Большинство авторов значимы в 1 теме, что логично."
   ],
   "metadata": {}
  },
  {
   "cell_type": "markdown",
   "source": [
    "##### Построение тематической карты авторов"
   ],
   "metadata": {}
  },
  {
   "cell_type": "markdown",
   "source": [
    "По сути, в матрице $\\Phi$, соответствующей модальности авторов, записаны тематические кластеры авторов. Для любого автора мы можем составить его тематический круг - авторов, разбирающихся в той же теме, что и данный. Интересующиеся слушатели могут попробовать выполнить эту процедуру для ученых, читающих лекции на Постнауке, которых они знают (например, на Постнауке есть лекции с К. В. Воронцовым - лектором текущего модуля :)\n",
    "\n",
    "Составим карту близости авторов по тематике их исследований. Для этого применим метод понижения размерности MDS к тематическим профилям авторов.\n",
    "\n",
    "Чтобы получить тематический профиль автора, распределение $p(t|a)$, нужно воспользоваться формулой Байеса: \n",
    "$p(t|a) = \\frac {p(a|t) p(t)} {\\sum_t' p(a|t') p(t')}$. Все необходимые для этого величины у вас есть и записаны в переменных phi и pt. \n",
    "\n",
    "Передайте матрицу тематических профилей авторов, записанных по строкам, в метод MDS с n_components=2. Используйте косинусную метрику (она хорошо подходит для поиска расстояний между векторами, имеющими фиксированную сумму компонент)."
   ],
   "metadata": {}
  },
  {
   "cell_type": "code",
   "execution_count": 102,
   "source": [
    "from sklearn.manifold import MDS\n",
    "from sklearn.metrics import pairwise_distances"
   ],
   "outputs": [
    {
     "output_type": "stream",
     "name": "stderr",
     "text": [
      "/home/zakharov/src/MIPTMachineLearning/venv/lib/python3.7/site-packages/sklearn/linear_model/_least_angle.py:34: DeprecationWarning: `np.float` is a deprecated alias for the builtin `float`. To silence this warning, use `float` by itself. Doing this will not modify any behavior and is safe. If you specifically wanted the numpy scalar type, use `np.float64` here.\n",
      "Deprecated in NumPy 1.20; for more details and guidance: https://numpy.org/devdocs/release/1.20.0-notes.html#deprecations\n",
      "  method='lar', copy_X=True, eps=np.finfo(np.float).eps,\n",
      "/home/zakharov/src/MIPTMachineLearning/venv/lib/python3.7/site-packages/sklearn/decomposition/_lda.py:28: DeprecationWarning: `np.float` is a deprecated alias for the builtin `float`. To silence this warning, use `float` by itself. Doing this will not modify any behavior and is safe. If you specifically wanted the numpy scalar type, use `np.float64` here.\n",
      "Deprecated in NumPy 1.20; for more details and guidance: https://numpy.org/devdocs/release/1.20.0-notes.html#deprecations\n",
      "  EPS = np.finfo(np.float).eps\n"
     ]
    }
   ],
   "metadata": {
    "collapsed": true
   }
  },
  {
   "cell_type": "code",
   "execution_count": 152,
   "source": [
    "phit = phi_a*p_t\n",
    "phit_sum = phit.sum(axis=1)\n",
    "for i, author  in enumerate(phit.index):\n",
    "    phit[phit.index == phit.index[i]] = phit[phit.index == phit.index[i]]/phit_sum[i]"
   ],
   "outputs": [],
   "metadata": {}
  },
  {
   "cell_type": "code",
   "execution_count": null,
   "source": [
    "# Ваш код\n",
    "# pairwise_distances(phit, metric='cosine') - не работает, выкидывает исключение\n",
    "pwdist = pairwise_distances(phit)\n",
    "mdsobj = MDS(n_components=2, dissimilarity='precomputed')\n",
    "phi_transformed = mdsobj.fit_transform(pwdist)"
   ],
   "outputs": [],
   "metadata": {
    "collapsed": true
   }
  },
  {
   "cell_type": "markdown",
   "source": [
    "Визуализируйте найденные двумерные представления с помощью функции scatter. "
   ],
   "metadata": {}
  },
  {
   "cell_type": "code",
   "execution_count": 156,
   "source": [
    "# Ваш код\n",
    "plt.scatter(x=phi_transformed[:,0], y=phi_transformed[:,1])"
   ],
   "outputs": [
    {
     "output_type": "execute_result",
     "data": {
      "text/plain": [
       "<matplotlib.collections.PathCollection at 0x7fbf1d59ac10>"
      ]
     },
     "metadata": {},
     "execution_count": 156
    },
    {
     "output_type": "display_data",
     "data": {
      "text/plain": [
       "<Figure size 432x288 with 1 Axes>"
      ],
      "image/png": "[encoded data removed]"
     },
     "metadata": {}
    }
   ],
   "metadata": {
    "collapsed": true
   }
  },
  {
   "cell_type": "markdown",
   "source": [
    "Должно получиться, что некоторые грппы авторов формируют сгустки, которые можно считать тематическими группами авторов.\n",
    "\n",
    "Раскрасим точки следующим образом: для каждого автора выберем наиболее вероятную для него тему ($\\max_t p(t|a)$), и каждой теме сопоставим цвет. Кроме того, добавим на карту имена и фамилии авторов, это можно сделать в цикле по всем точкам с помощью функции plt.annotate, указывая метку точки первым аргументом и ее координаты в аргументе xy. Рекомендуется сделать размер изображения большим, тогда маркеры точек тоже придется увеличить (s=100 в plt.scatter). Изобразите карту авторов и сохраните в pdf-файл с помощью функции plt.savefig. \n",
    "\n",
    "Метки авторов будут пересекаться. Будет очень хорошо, если вы найдете способ, как этого можно избежать."
   ],
   "metadata": {}
  },
  {
   "cell_type": "code",
   "execution_count": 169,
   "source": [
    "colors.shape"
   ],
   "outputs": [
    {
     "output_type": "execute_result",
     "data": {
      "text/plain": [
       "(30, 4)"
      ]
     },
     "metadata": {},
     "execution_count": 169
    }
   ],
   "metadata": {}
  },
  {
   "cell_type": "code",
   "execution_count": 172,
   "source": [
    "import matplotlib.cm as cm\n",
    "colors = cm.rainbow(np.linspace(0, 1, T)) # цвета для тем\n",
    "# Ваш код\n",
    "c = colors[phit.values.argmax(axis=1)]\n",
    "plt.figure(figsize=(20,20))\n",
    "plt.scatter(x=phi_transformed[:,0], y=phi_transformed[:,1], c=c)"
   ],
   "outputs": [
    {
     "output_type": "execute_result",
     "data": {
      "text/plain": [
       "<matplotlib.collections.PathCollection at 0x7fbf17e2b250>"
      ]
     },
     "metadata": {},
     "execution_count": 172
    },
    {
     "output_type": "display_data",
     "data": {
      "text/plain": [
       "<Figure size 1440x1440 with 1 Axes>"
      ],
      "image/png": "[encoded data removed]"
     },
     "metadata": {}
    }
   ],
   "metadata": {
    "collapsed": true
   }
  },
  {
   "cell_type": "markdown",
   "source": [
    "##### Создание простого тематического навигатора по Постнауке"
   ],
   "metadata": {}
  },
  {
   "cell_type": "markdown",
   "source": [
    "Наш тематический навигатор будет для каждой темы показывать ее список слов, а также список релевантных теме документов. \n",
    "\n",
    "Нам понадобятся распределения $p(d|t)$. По формуле Байеса $p(d|t) = \\frac{p(t|d)p(d)}{\\sum_{d'}p(t|d')p(d')}$, но поскольку мы считаем документы равновероятными, достаточно разделить каждую строку $\\Theta$ на ее сумму, чтобы оценить распределение. \n",
    "\n",
    "Отсортируйте матрицу $p(d|t)$ по убыванию $p(d|t)$ в каждой теме (то есть построчно). Нам понадобятся индексы наиболее вероятных документов в каждой теме, поэтому используйте функцию argmax."
   ],
   "metadata": {}
  },
  {
   "cell_type": "code",
   "execution_count": 209,
   "source": [
    "# Ваш код\n",
    "pdt = theta.copy(deep=True)\n",
    "for i, theme in enumerate(pdt.index):\n",
    "    pdt.loc[theme, :] = pdt.loc[theme, :]/pdt.sum(axis=1)[i]\n",
    "\n",
    "docs = []\n",
    "for theme in pdt.index:\n",
    "    docs.append(pdt.loc[pdt.index==theme].sort_values(by=theme, axis=1, ascending=False).columns[:10])"
   ],
   "outputs": [],
   "metadata": {
    "collapsed": true
   }
  },
  {
   "cell_type": "code",
   "execution_count": 210,
   "source": [
    "docs"
   ],
   "outputs": [
    {
     "output_type": "execute_result",
     "data": {
      "text/plain": [
       "[Index(['http://postnauka.ru/video/13043', 'http://postnauka.ru/video/18870',\n",
       "        'http://postnauka.ru/video/18873', 'http://postnauka.ru/video/47950',\n",
       "        'http://postnauka.ru/video/2945', 'http://postnauka.ru/video/18865',\n",
       "        'http://postnauka.ru/video/47826', 'http://postnauka.ru/video/1894',\n",
       "        'http://postnauka.ru/video/47175', 'http://postnauka.ru/video/14282'],\n",
       "       dtype='object'),\n",
       " Index(['http://postnauka.ru/video/13700', 'http://postnauka.ru/video/31182',\n",
       "        'http://postnauka.ru/video/18048', 'http://postnauka.ru/video/57995',\n",
       "        'http://postnauka.ru/video/41686', 'http://postnauka.ru/video/51490',\n",
       "        'http://postnauka.ru/video/46379', 'http://postnauka.ru/video/13544',\n",
       "        'http://postnauka.ru/video/31682', 'http://postnauka.ru/video/50340'],\n",
       "       dtype='object'),\n",
       " Index(['http://postnauka.ru/video/9968', 'http://postnauka.ru/video/28942',\n",
       "        'http://postnauka.ru/video/31677', 'http://postnauka.ru/video/16824',\n",
       "        'http://postnauka.ru/video/23472', 'http://postnauka.ru/video/32906',\n",
       "        'http://postnauka.ru/video/25261', 'http://postnauka.ru/video/42087',\n",
       "        'http://postnauka.ru/video/5633', 'http://postnauka.ru/video/42088'],\n",
       "       dtype='object'),\n",
       " Index(['http://postnauka.ru/video/20720', 'http://postnauka.ru/video/434',\n",
       "        'http://postnauka.ru/video/6380', 'http://postnauka.ru/video/6725',\n",
       "        'http://postnauka.ru/video/12083', 'http://postnauka.ru/video/7731',\n",
       "        'http://postnauka.ru/video/10783', 'http://postnauka.ru/video/14295',\n",
       "        'http://postnauka.ru/video/51350', 'http://postnauka.ru/video/12518'],\n",
       "       dtype='object'),\n",
       " Index(['http://postnauka.ru/video/50793', 'http://postnauka.ru/video/55068',\n",
       "        'http://postnauka.ru/video/7068', 'http://postnauka.ru/video/12521',\n",
       "        'http://postnauka.ru/video/26207', 'http://postnauka.ru/video/47548',\n",
       "        'http://postnauka.ru/video/36350', 'http://postnauka.ru/video/25891',\n",
       "        'http://postnauka.ru/video/25101', 'http://postnauka.ru/video/41350'],\n",
       "       dtype='object'),\n",
       " Index(['http://postnauka.ru/video/9997', 'http://postnauka.ru/video/43664',\n",
       "        'http://postnauka.ru/video/12156', 'http://postnauka.ru/video/47300',\n",
       "        'http://postnauka.ru/video/5999', 'http://postnauka.ru/video/9992',\n",
       "        'http://postnauka.ru/video/31990', 'http://postnauka.ru/video/42796',\n",
       "        'http://postnauka.ru/video/46427', 'http://postnauka.ru/video/12290'],\n",
       "       dtype='object'),\n",
       " Index(['http://postnauka.ru/video/10773', 'http://postnauka.ru/video/51171',\n",
       "        'http://postnauka.ru/video/8964', 'http://postnauka.ru/video/40001',\n",
       "        'http://postnauka.ru/video/48114', 'http://postnauka.ru/video/36272',\n",
       "        'http://postnauka.ru/video/41689', 'http://postnauka.ru/video/48112',\n",
       "        'http://postnauka.ru/video/52957', 'http://postnauka.ru/video/3379'],\n",
       "       dtype='object'),\n",
       " Index(['http://postnauka.ru/video/17397', 'http://postnauka.ru/video/31707',\n",
       "        'http://postnauka.ru/video/37732', 'http://postnauka.ru/video/32898',\n",
       "        'http://postnauka.ru/video/15341', 'http://postnauka.ru/video/35150',\n",
       "        'http://postnauka.ru/video/42707', 'http://postnauka.ru/video/42735',\n",
       "        'http://postnauka.ru/video/40880', 'http://postnauka.ru/video/31675'],\n",
       "       dtype='object'),\n",
       " Index(['http://postnauka.ru/video/9299', 'http://postnauka.ru/video/31688',\n",
       "        'http://postnauka.ru/video/38009', 'http://postnauka.ru/video/34414',\n",
       "        'http://postnauka.ru/video/49455', 'http://postnauka.ru/video/42221',\n",
       "        'http://postnauka.ru/video/17912', 'http://postnauka.ru/video/16822',\n",
       "        'http://postnauka.ru/video/31666', 'http://postnauka.ru/video/17913'],\n",
       "       dtype='object'),\n",
       " Index(['http://postnauka.ru/video/13746', 'http://postnauka.ru/video/12974',\n",
       "        'http://postnauka.ru/video/7753', 'http://postnauka.ru/video/2541',\n",
       "        'http://postnauka.ru/video/532', 'http://postnauka.ru/video/11361',\n",
       "        'http://postnauka.ru/video/57657', 'http://postnauka.ru/video/49206',\n",
       "        'http://postnauka.ru/video/11850', 'http://postnauka.ru/video/45961'],\n",
       "       dtype='object'),\n",
       " Index(['http://postnauka.ru/video/2531', 'http://postnauka.ru/video/9861',\n",
       "        'http://postnauka.ru/video/7113', 'http://postnauka.ru/video/30673',\n",
       "        'http://postnauka.ru/video/8953', 'http://postnauka.ru/video/19071',\n",
       "        'http://postnauka.ru/video/25889', 'http://postnauka.ru/video/32635',\n",
       "        'http://postnauka.ru/video/49437', 'http://postnauka.ru/video/31671'],\n",
       "       dtype='object'),\n",
       " Index(['http://postnauka.ru/video/25267', 'http://postnauka.ru/video/53949',\n",
       "        'http://postnauka.ru/video/17421', 'http://postnauka.ru/video/56052',\n",
       "        'http://postnauka.ru/video/54916', 'http://postnauka.ru/video/16159',\n",
       "        'http://postnauka.ru/video/23829', 'http://postnauka.ru/video/57336',\n",
       "        'http://postnauka.ru/video/48962', 'http://postnauka.ru/video/56050'],\n",
       "       dtype='object'),\n",
       " Index(['http://postnauka.ru/video/3348', 'http://postnauka.ru/video/24034',\n",
       "        'http://postnauka.ru/video/24039', 'http://postnauka.ru/video/19574',\n",
       "        'http://postnauka.ru/video/32637', 'http://postnauka.ru/video/23900',\n",
       "        'http://postnauka.ru/video/50668', 'http://postnauka.ru/video/24030',\n",
       "        'http://postnauka.ru/video/47449', 'http://postnauka.ru/video/34936'],\n",
       "       dtype='object'),\n",
       " Index(['http://postnauka.ru/video/12148', 'http://postnauka.ru/video/7778',\n",
       "        'http://postnauka.ru/video/9870', 'http://postnauka.ru/video/5394',\n",
       "        'http://postnauka.ru/video/9148', 'http://postnauka.ru/video/5878',\n",
       "        'http://postnauka.ru/video/10385', 'http://postnauka.ru/video/5198',\n",
       "        'http://postnauka.ru/video/7541', 'http://postnauka.ru/video/3417'],\n",
       "       dtype='object'),\n",
       " Index(['http://postnauka.ru/video/2971', 'http://postnauka.ru/video/9835',\n",
       "        'http://postnauka.ru/video/48109', 'http://postnauka.ru/video/49451',\n",
       "        'http://postnauka.ru/video/31193', 'http://postnauka.ru/video/57338',\n",
       "        'http://postnauka.ru/video/31695', 'http://postnauka.ru/video/3423',\n",
       "        'http://postnauka.ru/video/59636', 'http://postnauka.ru/video/58744'],\n",
       "       dtype='object'),\n",
       " Index(['http://postnauka.ru/video/24286', 'http://postnauka.ru/video/26616',\n",
       "        'http://postnauka.ru/video/53415', 'http://postnauka.ru/video/13152',\n",
       "        'http://postnauka.ru/video/5465', 'http://postnauka.ru/video/27823',\n",
       "        'http://postnauka.ru/video/6376', 'http://postnauka.ru/video/7781',\n",
       "        'http://postnauka.ru/video/26119', 'http://postnauka.ru/video/28282'],\n",
       "       dtype='object'),\n",
       " Index(['http://postnauka.ru/video/22892', 'http://postnauka.ru/video/26223',\n",
       "        'http://postnauka.ru/video/21643', 'http://postnauka.ru/video/52948',\n",
       "        'http://postnauka.ru/video/30678', 'http://postnauka.ru/video/40866',\n",
       "        'http://postnauka.ru/video/22883', 'http://postnauka.ru/video/31220',\n",
       "        'http://postnauka.ru/video/9865', 'http://postnauka.ru/video/40266'],\n",
       "       dtype='object'),\n",
       " Index(['http://postnauka.ru/video/8313', 'http://postnauka.ru/video/24306',\n",
       "        'http://postnauka.ru/video/32901', 'http://postnauka.ru/video/9998',\n",
       "        'http://postnauka.ru/video/33885', 'http://postnauka.ru/video/12172',\n",
       "        'http://postnauka.ru/video/26228', 'http://postnauka.ru/video/34964',\n",
       "        'http://postnauka.ru/video/47810', 'http://postnauka.ru/video/55303'],\n",
       "       dtype='object'),\n",
       " Index(['http://postnauka.ru/video/53171', 'http://postnauka.ru/video/5891',\n",
       "        'http://postnauka.ru/video/59201', 'http://postnauka.ru/video/2527',\n",
       "        'http://postnauka.ru/video/51380', 'http://postnauka.ru/video/17041',\n",
       "        'http://postnauka.ru/video/56302', 'http://postnauka.ru/video/6377',\n",
       "        'http://postnauka.ru/video/45458', 'http://postnauka.ru/video/52958'],\n",
       "       dtype='object'),\n",
       " Index(['http://postnauka.ru/video/5915', 'http://postnauka.ru/video/5390',\n",
       "        'http://postnauka.ru/video/19436', 'http://postnauka.ru/video/17051',\n",
       "        'http://postnauka.ru/video/16156', 'http://postnauka.ru/video/35051',\n",
       "        'http://postnauka.ru/video/10475', 'http://postnauka.ru/video/35461',\n",
       "        'http://postnauka.ru/video/37537', 'http://postnauka.ru/video/11628'],\n",
       "       dtype='object'),\n",
       " Index(['http://postnauka.ru/video/25875', 'http://postnauka.ru/video/21662',\n",
       "        'http://postnauka.ru/video/19457', 'http://postnauka.ru/video/25902',\n",
       "        'http://postnauka.ru/video/19509', 'http://postnauka.ru/video/36187',\n",
       "        'http://postnauka.ru/video/24434', 'http://postnauka.ru/video/51174',\n",
       "        'http://postnauka.ru/video/26609', 'http://postnauka.ru/video/23335'],\n",
       "       dtype='object'),\n",
       " Index(['http://postnauka.ru/video/2529', 'http://postnauka.ru/video/2524',\n",
       "        'http://postnauka.ru/video/12738', 'http://postnauka.ru/video/7764',\n",
       "        'http://postnauka.ru/video/9728', 'http://postnauka.ru/video/23834',\n",
       "        'http://postnauka.ru/video/32664', 'http://postnauka.ru/video/26234',\n",
       "        'http://postnauka.ru/video/53513', 'http://postnauka.ru/video/13181'],\n",
       "       dtype='object'),\n",
       " Index(['http://postnauka.ru/video/53577', 'http://postnauka.ru/video/36246',\n",
       "        'http://postnauka.ru/video/48492', 'http://postnauka.ru/video/47823',\n",
       "        'http://postnauka.ru/video/51331', 'http://postnauka.ru/video/54175',\n",
       "        'http://postnauka.ru/video/50656', 'http://postnauka.ru/video/25882',\n",
       "        'http://postnauka.ru/video/1893', 'http://postnauka.ru/video/58542'],\n",
       "       dtype='object'),\n",
       " Index(['http://postnauka.ru/video/25906', 'http://postnauka.ru/video/25097',\n",
       "        'http://postnauka.ru/video/34413', 'http://postnauka.ru/video/46939',\n",
       "        'http://postnauka.ru/video/52936', 'http://postnauka.ru/video/30261',\n",
       "        'http://postnauka.ru/video/57259', 'http://postnauka.ru/video/47816',\n",
       "        'http://postnauka.ru/video/41680', 'http://postnauka.ru/video/55219'],\n",
       "       dtype='object'),\n",
       " Index(['http://postnauka.ru/video/7755', 'http://postnauka.ru/video/13041',\n",
       "        'http://postnauka.ru/video/55301', 'http://postnauka.ru/video/10473',\n",
       "        'http://postnauka.ru/video/52778', 'http://postnauka.ru/video/16157',\n",
       "        'http://postnauka.ru/video/53169', 'http://postnauka.ru/video/2957',\n",
       "        'http://postnauka.ru/video/22433', 'http://postnauka.ru/video/9556'],\n",
       "       dtype='object'),\n",
       " Index(['http://postnauka.ru/video/3388', 'http://postnauka.ru/video/57128',\n",
       "        'http://postnauka.ru/video/36804', 'http://postnauka.ru/video/55069',\n",
       "        'http://postnauka.ru/video/18086', 'http://postnauka.ru/video/18085',\n",
       "        'http://postnauka.ru/video/19456', 'http://postnauka.ru/video/7032',\n",
       "        'http://postnauka.ru/video/51371', 'http://postnauka.ru/video/11651'],\n",
       "       dtype='object'),\n",
       " Index(['http://postnauka.ru/video/40004', 'http://postnauka.ru/video/43843',\n",
       "        'http://postnauka.ru/video/31228', 'http://postnauka.ru/video/49866',\n",
       "        'http://postnauka.ru/video/57127', 'http://postnauka.ru/video/37978',\n",
       "        'http://postnauka.ru/video/48624', 'http://postnauka.ru/video/13156',\n",
       "        'http://postnauka.ru/video/46559', 'http://postnauka.ru/video/57524'],\n",
       "       dtype='object'),\n",
       " Index(['http://postnauka.ru/video/53693', 'http://postnauka.ru/video/6673',\n",
       "        'http://postnauka.ru/video/7067', 'http://postnauka.ru/video/30015',\n",
       "        'http://postnauka.ru/video/17779', 'http://postnauka.ru/video/59202',\n",
       "        'http://postnauka.ru/video/10756', 'http://postnauka.ru/video/19085',\n",
       "        'http://postnauka.ru/video/23969', 'http://postnauka.ru/video/23500'],\n",
       "       dtype='object'),\n",
       " Index(['http://postnauka.ru/video/5396', 'http://postnauka.ru/video/11246',\n",
       "        'http://postnauka.ru/video/9429', 'http://postnauka.ru/video/13098',\n",
       "        'http://postnauka.ru/video/10779', 'http://postnauka.ru/video/39723',\n",
       "        'http://postnauka.ru/video/10759', 'http://postnauka.ru/video/13541',\n",
       "        'http://postnauka.ru/video/7074', 'http://postnauka.ru/video/57126'],\n",
       "       dtype='object'),\n",
       " Index(['http://postnauka.ru/video/51365', 'http://postnauka.ru/video/42436',\n",
       "        'http://postnauka.ru/video/58752', 'http://postnauka.ru/video/49851',\n",
       "        'http://postnauka.ru/video/51184', 'http://postnauka.ru/video/12376',\n",
       "        'http://postnauka.ru/video/10750', 'http://postnauka.ru/video/32670',\n",
       "        'http://postnauka.ru/video/31214', 'http://postnauka.ru/video/51494'],\n",
       "       dtype='object')]"
      ]
     },
     "metadata": {},
     "execution_count": 210
    }
   ],
   "metadata": {}
  },
  {
   "cell_type": "markdown",
   "source": [
    "Создавать навигатор мы будем прямо в jupiter notebook: это возможно благодаря тому факту, что при печати ссылки она автоматически превращается в гиперссылку."
   ],
   "metadata": {}
  },
  {
   "cell_type": "code",
   "execution_count": null,
   "source": [
    "print \"http://yandex.ru\"   # получится кликабельная ссылка"
   ],
   "outputs": [],
   "metadata": {}
  },
  {
   "cell_type": "markdown",
   "source": [
    "Кроме того, подключив модуль [ipython.core.display](https://ipython.org/ipython-doc/2/api/generated/IPython.core.display.html), можно использовать html-разметку в выводе. Например:"
   ],
   "metadata": {}
  },
  {
   "cell_type": "code",
   "execution_count": 177,
   "source": [
    "from IPython.core.display import display, HTML\n",
    "display(HTML(u\"<h1>Заголовок</h1>\"))   # также <h2>, <h3>\n",
    "display(HTML(u\"<ul><li>Пункт 1</li><li>Пункт 2</li></ul>\"))\n",
    "display(HTML(u'<font color=\"green\">Зеленый!</font>'))\n",
    "display(HTML(u'<a href=\"http://yandex.ru\">Еще один вариант вывода ссылки</a>'))"
   ],
   "outputs": [
    {
     "output_type": "display_data",
     "data": {
      "text/plain": [
       "<IPython.core.display.HTML object>"
      ],
      "text/html": [
       "<h1>Заголовок</h1>"
      ]
     },
     "metadata": {}
    },
    {
     "output_type": "display_data",
     "data": {
      "text/plain": [
       "<IPython.core.display.HTML object>"
      ],
      "text/html": [
       "<ul><li>Пункт 1</li><li>Пункт 2</li></ul>"
      ]
     },
     "metadata": {}
    },
    {
     "output_type": "display_data",
     "data": {
      "text/plain": [
       "<IPython.core.display.HTML object>"
      ],
      "text/html": [
       "<font color=\"green\">Зеленый!</font>"
      ]
     },
     "metadata": {}
    },
    {
     "output_type": "display_data",
     "data": {
      "text/plain": [
       "<IPython.core.display.HTML object>"
      ],
      "text/html": [
       "<a href=\"http://yandex.ru\">Еще один вариант вывода ссылки</a>"
      ]
     },
     "metadata": {}
    }
   ],
   "metadata": {}
  },
  {
   "cell_type": "markdown",
   "source": [
    "В цикле для каждой темы выведите ее заголовок, в следующей строке - топ-10 слов темы, затем в виде списка ссылки на 10 наиболее релевантных (по $p(d|t)$) теме документов. Используйте html-разметку. Творчество приветствуется :)"
   ],
   "metadata": {}
  },
  {
   "cell_type": "code",
   "execution_count": 213,
   "source": [
    "# Ваш код\n",
    "for topic_name, topic_label, i in zip(model_artm.topic_names, topic_labels, range(len(model_artm.topic_names))):\n",
    "    display(HTML(f\"<h1>{topic_label}</h1>\"))\n",
    "    \n",
    "    tokens = model_artm.score_tracker['top_words_text'].last_tokens    \n",
    "    words = ', '.join(tokens.get(topic_name, []))\n",
    "    print(words.capitalize())\n",
    "\n",
    "    display(HTML(u\"<ul>\"))\n",
    "    for j in range(10):\n",
    "        display(HTML(f\"<li><a href='{docs[i][j]}'>{docs[i][j]}</a></li>\"))\n",
    "    display(HTML(u\"</ul>\"))\n",
    "\n",
    "    "
   ],
   "outputs": [
    {
     "output_type": "display_data",
     "data": {
      "text/plain": [
       "<IPython.core.display.HTML object>"
      ],
      "text/html": [
       "<h1>физика элементарных частиц</h1>"
      ]
     },
     "metadata": {}
    },
    {
     "output_type": "stream",
     "name": "stdout",
     "text": [
      "Частица, энергия, взаимодействие, физика, кварк, симметрия, элементарный, стандартный, нейтрино, материя, заряд, масса, протон, бозон, слабый\n"
     ]
    },
    {
     "output_type": "display_data",
     "data": {
      "text/plain": [
       "<IPython.core.display.HTML object>"
      ],
      "text/html": [
       "<ul>"
      ]
     },
     "metadata": {}
    },
    {
     "output_type": "display_data",
     "data": {
      "text/plain": [
       "<IPython.core.display.HTML object>"
      ],
      "text/html": [
       "<li><a href='http://postnauka.ru/video/13043'>http://postnauka.ru/video/13043</a></li>"
      ]
     },
     "metadata": {}
    },
    {
     "output_type": "display_data",
     "data": {
      "text/plain": [
       "<IPython.core.display.HTML object>"
      ],
      "text/html": [
       "<li><a href='http://postnauka.ru/video/18870'>http://postnauka.ru/video/18870</a></li>"
      ]
     },
     "metadata": {}
    },
    {
     "output_type": "display_data",
     "data": {
      "text/plain": [
       "<IPython.core.display.HTML object>"
      ],
      "text/html": [
       "<li><a href='http://postnauka.ru/video/18873'>http://postnauka.ru/video/18873</a></li>"
      ]
     },
     "metadata": {}
    },
    {
     "output_type": "display_data",
     "data": {
      "text/plain": [
       "<IPython.core.display.HTML object>"
      ],
      "text/html": [
       "<li><a href='http://postnauka.ru/video/47950'>http://postnauka.ru/video/47950</a></li>"
      ]
     },
     "metadata": {}
    },
    {
     "output_type": "display_data",
     "data": {
      "text/plain": [
       "<IPython.core.display.HTML object>"
      ],
      "text/html": [
       "<li><a href='http://postnauka.ru/video/2945'>http://postnauka.ru/video/2945</a></li>"
      ]
     },
     "metadata": {}
    },
    {
     "output_type": "display_data",
     "data": {
      "text/plain": [
       "<IPython.core.display.HTML object>"
      ],
      "text/html": [
       "<li><a href='http://postnauka.ru/video/18865'>http://postnauka.ru/video/18865</a></li>"
      ]
     },
     "metadata": {}
    },
    {
     "output_type": "display_data",
     "data": {
      "text/plain": [
       "<IPython.core.display.HTML object>"
      ],
      "text/html": [
       "<li><a href='http://postnauka.ru/video/47826'>http://postnauka.ru/video/47826</a></li>"
      ]
     },
     "metadata": {}
    },
    {
     "output_type": "display_data",
     "data": {
      "text/plain": [
       "<IPython.core.display.HTML object>"
      ],
      "text/html": [
       "<li><a href='http://postnauka.ru/video/1894'>http://postnauka.ru/video/1894</a></li>"
      ]
     },
     "metadata": {}
    },
    {
     "output_type": "display_data",
     "data": {
      "text/plain": [
       "<IPython.core.display.HTML object>"
      ],
      "text/html": [
       "<li><a href='http://postnauka.ru/video/47175'>http://postnauka.ru/video/47175</a></li>"
      ]
     },
     "metadata": {}
    },
    {
     "output_type": "display_data",
     "data": {
      "text/plain": [
       "<IPython.core.display.HTML object>"
      ],
      "text/html": [
       "<li><a href='http://postnauka.ru/video/14282'>http://postnauka.ru/video/14282</a></li>"
      ]
     },
     "metadata": {}
    },
    {
     "output_type": "display_data",
     "data": {
      "text/plain": [
       "<IPython.core.display.HTML object>"
      ],
      "text/html": [
       "</ul>"
      ]
     },
     "metadata": {}
    },
    {
     "output_type": "display_data",
     "data": {
      "text/plain": [
       "<IPython.core.display.HTML object>"
      ],
      "text/html": [
       "<h1>химия и материалы</h1>"
      ]
     },
     "metadata": {}
    },
    {
     "output_type": "stream",
     "name": "stdout",
     "text": [
      "Материал, температура, структура, вещество, химический, соединение, поверхность, свойство, химия, молекула, давление, углерод, металл, сверхпроводимость, применение\n"
     ]
    },
    {
     "output_type": "display_data",
     "data": {
      "text/plain": [
       "<IPython.core.display.HTML object>"
      ],
      "text/html": [
       "<ul>"
      ]
     },
     "metadata": {}
    },
    {
     "output_type": "display_data",
     "data": {
      "text/plain": [
       "<IPython.core.display.HTML object>"
      ],
      "text/html": [
       "<li><a href='http://postnauka.ru/video/13700'>http://postnauka.ru/video/13700</a></li>"
      ]
     },
     "metadata": {}
    },
    {
     "output_type": "display_data",
     "data": {
      "text/plain": [
       "<IPython.core.display.HTML object>"
      ],
      "text/html": [
       "<li><a href='http://postnauka.ru/video/31182'>http://postnauka.ru/video/31182</a></li>"
      ]
     },
     "metadata": {}
    },
    {
     "output_type": "display_data",
     "data": {
      "text/plain": [
       "<IPython.core.display.HTML object>"
      ],
      "text/html": [
       "<li><a href='http://postnauka.ru/video/18048'>http://postnauka.ru/video/18048</a></li>"
      ]
     },
     "metadata": {}
    },
    {
     "output_type": "display_data",
     "data": {
      "text/plain": [
       "<IPython.core.display.HTML object>"
      ],
      "text/html": [
       "<li><a href='http://postnauka.ru/video/57995'>http://postnauka.ru/video/57995</a></li>"
      ]
     },
     "metadata": {}
    },
    {
     "output_type": "display_data",
     "data": {
      "text/plain": [
       "<IPython.core.display.HTML object>"
      ],
      "text/html": [
       "<li><a href='http://postnauka.ru/video/41686'>http://postnauka.ru/video/41686</a></li>"
      ]
     },
     "metadata": {}
    },
    {
     "output_type": "display_data",
     "data": {
      "text/plain": [
       "<IPython.core.display.HTML object>"
      ],
      "text/html": [
       "<li><a href='http://postnauka.ru/video/51490'>http://postnauka.ru/video/51490</a></li>"
      ]
     },
     "metadata": {}
    },
    {
     "output_type": "display_data",
     "data": {
      "text/plain": [
       "<IPython.core.display.HTML object>"
      ],
      "text/html": [
       "<li><a href='http://postnauka.ru/video/46379'>http://postnauka.ru/video/46379</a></li>"
      ]
     },
     "metadata": {}
    },
    {
     "output_type": "display_data",
     "data": {
      "text/plain": [
       "<IPython.core.display.HTML object>"
      ],
      "text/html": [
       "<li><a href='http://postnauka.ru/video/13544'>http://postnauka.ru/video/13544</a></li>"
      ]
     },
     "metadata": {}
    },
    {
     "output_type": "display_data",
     "data": {
      "text/plain": [
       "<IPython.core.display.HTML object>"
      ],
      "text/html": [
       "<li><a href='http://postnauka.ru/video/31682'>http://postnauka.ru/video/31682</a></li>"
      ]
     },
     "metadata": {}
    },
    {
     "output_type": "display_data",
     "data": {
      "text/plain": [
       "<IPython.core.display.HTML object>"
      ],
      "text/html": [
       "<li><a href='http://postnauka.ru/video/50340'>http://postnauka.ru/video/50340</a></li>"
      ]
     },
     "metadata": {}
    },
    {
     "output_type": "display_data",
     "data": {
      "text/plain": [
       "<IPython.core.display.HTML object>"
      ],
      "text/html": [
       "</ul>"
      ]
     },
     "metadata": {}
    },
    {
     "output_type": "display_data",
     "data": {
      "text/plain": [
       "<IPython.core.display.HTML object>"
      ],
      "text/html": [
       "<h1>история и политика</h1>"
      ]
     },
     "metadata": {}
    },
    {
     "output_type": "stream",
     "name": "stdout",
     "text": [
      "Политический, государство, власть, царь, партия, народ, церковь, средневековый, правитель, император, враг, сага, папа, шмитт, государь\n"
     ]
    },
    {
     "output_type": "display_data",
     "data": {
      "text/plain": [
       "<IPython.core.display.HTML object>"
      ],
      "text/html": [
       "<ul>"
      ]
     },
     "metadata": {}
    },
    {
     "output_type": "display_data",
     "data": {
      "text/plain": [
       "<IPython.core.display.HTML object>"
      ],
      "text/html": [
       "<li><a href='http://postnauka.ru/video/9968'>http://postnauka.ru/video/9968</a></li>"
      ]
     },
     "metadata": {}
    },
    {
     "output_type": "display_data",
     "data": {
      "text/plain": [
       "<IPython.core.display.HTML object>"
      ],
      "text/html": [
       "<li><a href='http://postnauka.ru/video/28942'>http://postnauka.ru/video/28942</a></li>"
      ]
     },
     "metadata": {}
    },
    {
     "output_type": "display_data",
     "data": {
      "text/plain": [
       "<IPython.core.display.HTML object>"
      ],
      "text/html": [
       "<li><a href='http://postnauka.ru/video/31677'>http://postnauka.ru/video/31677</a></li>"
      ]
     },
     "metadata": {}
    },
    {
     "output_type": "display_data",
     "data": {
      "text/plain": [
       "<IPython.core.display.HTML object>"
      ],
      "text/html": [
       "<li><a href='http://postnauka.ru/video/16824'>http://postnauka.ru/video/16824</a></li>"
      ]
     },
     "metadata": {}
    },
    {
     "output_type": "display_data",
     "data": {
      "text/plain": [
       "<IPython.core.display.HTML object>"
      ],
      "text/html": [
       "<li><a href='http://postnauka.ru/video/23472'>http://postnauka.ru/video/23472</a></li>"
      ]
     },
     "metadata": {}
    },
    {
     "output_type": "display_data",
     "data": {
      "text/plain": [
       "<IPython.core.display.HTML object>"
      ],
      "text/html": [
       "<li><a href='http://postnauka.ru/video/32906'>http://postnauka.ru/video/32906</a></li>"
      ]
     },
     "metadata": {}
    },
    {
     "output_type": "display_data",
     "data": {
      "text/plain": [
       "<IPython.core.display.HTML object>"
      ],
      "text/html": [
       "<li><a href='http://postnauka.ru/video/25261'>http://postnauka.ru/video/25261</a></li>"
      ]
     },
     "metadata": {}
    },
    {
     "output_type": "display_data",
     "data": {
      "text/plain": [
       "<IPython.core.display.HTML object>"
      ],
      "text/html": [
       "<li><a href='http://postnauka.ru/video/42087'>http://postnauka.ru/video/42087</a></li>"
      ]
     },
     "metadata": {}
    },
    {
     "output_type": "display_data",
     "data": {
      "text/plain": [
       "<IPython.core.display.HTML object>"
      ],
      "text/html": [
       "<li><a href='http://postnauka.ru/video/5633'>http://postnauka.ru/video/5633</a></li>"
      ]
     },
     "metadata": {}
    },
    {
     "output_type": "display_data",
     "data": {
      "text/plain": [
       "<IPython.core.display.HTML object>"
      ],
      "text/html": [
       "<li><a href='http://postnauka.ru/video/42088'>http://postnauka.ru/video/42088</a></li>"
      ]
     },
     "metadata": {}
    },
    {
     "output_type": "display_data",
     "data": {
      "text/plain": [
       "<IPython.core.display.HTML object>"
      ],
      "text/html": [
       "</ul>"
      ]
     },
     "metadata": {}
    },
    {
     "output_type": "display_data",
     "data": {
      "text/plain": [
       "<IPython.core.display.HTML object>"
      ],
      "text/html": [
       "<h1>социология</h1>"
      ]
     },
     "metadata": {}
    },
    {
     "output_type": "stream",
     "name": "stdout",
     "text": [
      "Знание, социология, социологический, познание, школа, предмет, виктор, социолог, факультет, аргумент, высказывание, логика, кафедра, прикладной, концепт\n"
     ]
    },
    {
     "output_type": "display_data",
     "data": {
      "text/plain": [
       "<IPython.core.display.HTML object>"
      ],
      "text/html": [
       "<ul>"
      ]
     },
     "metadata": {}
    },
    {
     "output_type": "display_data",
     "data": {
      "text/plain": [
       "<IPython.core.display.HTML object>"
      ],
      "text/html": [
       "<li><a href='http://postnauka.ru/video/20720'>http://postnauka.ru/video/20720</a></li>"
      ]
     },
     "metadata": {}
    },
    {
     "output_type": "display_data",
     "data": {
      "text/plain": [
       "<IPython.core.display.HTML object>"
      ],
      "text/html": [
       "<li><a href='http://postnauka.ru/video/434'>http://postnauka.ru/video/434</a></li>"
      ]
     },
     "metadata": {}
    },
    {
     "output_type": "display_data",
     "data": {
      "text/plain": [
       "<IPython.core.display.HTML object>"
      ],
      "text/html": [
       "<li><a href='http://postnauka.ru/video/6380'>http://postnauka.ru/video/6380</a></li>"
      ]
     },
     "metadata": {}
    },
    {
     "output_type": "display_data",
     "data": {
      "text/plain": [
       "<IPython.core.display.HTML object>"
      ],
      "text/html": [
       "<li><a href='http://postnauka.ru/video/6725'>http://postnauka.ru/video/6725</a></li>"
      ]
     },
     "metadata": {}
    },
    {
     "output_type": "display_data",
     "data": {
      "text/plain": [
       "<IPython.core.display.HTML object>"
      ],
      "text/html": [
       "<li><a href='http://postnauka.ru/video/12083'>http://postnauka.ru/video/12083</a></li>"
      ]
     },
     "metadata": {}
    },
    {
     "output_type": "display_data",
     "data": {
      "text/plain": [
       "<IPython.core.display.HTML object>"
      ],
      "text/html": [
       "<li><a href='http://postnauka.ru/video/7731'>http://postnauka.ru/video/7731</a></li>"
      ]
     },
     "metadata": {}
    },
    {
     "output_type": "display_data",
     "data": {
      "text/plain": [
       "<IPython.core.display.HTML object>"
      ],
      "text/html": [
       "<li><a href='http://postnauka.ru/video/10783'>http://postnauka.ru/video/10783</a></li>"
      ]
     },
     "metadata": {}
    },
    {
     "output_type": "display_data",
     "data": {
      "text/plain": [
       "<IPython.core.display.HTML object>"
      ],
      "text/html": [
       "<li><a href='http://postnauka.ru/video/14295'>http://postnauka.ru/video/14295</a></li>"
      ]
     },
     "metadata": {}
    },
    {
     "output_type": "display_data",
     "data": {
      "text/plain": [
       "<IPython.core.display.HTML object>"
      ],
      "text/html": [
       "<li><a href='http://postnauka.ru/video/51350'>http://postnauka.ru/video/51350</a></li>"
      ]
     },
     "metadata": {}
    },
    {
     "output_type": "display_data",
     "data": {
      "text/plain": [
       "<IPython.core.display.HTML object>"
      ],
      "text/html": [
       "<li><a href='http://postnauka.ru/video/12518'>http://postnauka.ru/video/12518</a></li>"
      ]
     },
     "metadata": {}
    },
    {
     "output_type": "display_data",
     "data": {
      "text/plain": [
       "<IPython.core.display.HTML object>"
      ],
      "text/html": [
       "</ul>"
      ]
     },
     "metadata": {}
    },
    {
     "output_type": "display_data",
     "data": {
      "text/plain": [
       "<IPython.core.display.HTML object>"
      ],
      "text/html": [
       "<h1>мозг и речь</h1>"
      ]
     },
     "metadata": {}
    },
    {
     "output_type": "stream",
     "name": "stdout",
     "text": [
      "Мозг, мышление, нейрон, предложение, категория, взрослый, чтение, синтаксический, лицо, детство, обезьяна, синтаксис, речевой, творческий, шимпанзе\n"
     ]
    },
    {
     "output_type": "display_data",
     "data": {
      "text/plain": [
       "<IPython.core.display.HTML object>"
      ],
      "text/html": [
       "<ul>"
      ]
     },
     "metadata": {}
    },
    {
     "output_type": "display_data",
     "data": {
      "text/plain": [
       "<IPython.core.display.HTML object>"
      ],
      "text/html": [
       "<li><a href='http://postnauka.ru/video/50793'>http://postnauka.ru/video/50793</a></li>"
      ]
     },
     "metadata": {}
    },
    {
     "output_type": "display_data",
     "data": {
      "text/plain": [
       "<IPython.core.display.HTML object>"
      ],
      "text/html": [
       "<li><a href='http://postnauka.ru/video/55068'>http://postnauka.ru/video/55068</a></li>"
      ]
     },
     "metadata": {}
    },
    {
     "output_type": "display_data",
     "data": {
      "text/plain": [
       "<IPython.core.display.HTML object>"
      ],
      "text/html": [
       "<li><a href='http://postnauka.ru/video/7068'>http://postnauka.ru/video/7068</a></li>"
      ]
     },
     "metadata": {}
    },
    {
     "output_type": "display_data",
     "data": {
      "text/plain": [
       "<IPython.core.display.HTML object>"
      ],
      "text/html": [
       "<li><a href='http://postnauka.ru/video/12521'>http://postnauka.ru/video/12521</a></li>"
      ]
     },
     "metadata": {}
    },
    {
     "output_type": "display_data",
     "data": {
      "text/plain": [
       "<IPython.core.display.HTML object>"
      ],
      "text/html": [
       "<li><a href='http://postnauka.ru/video/26207'>http://postnauka.ru/video/26207</a></li>"
      ]
     },
     "metadata": {}
    },
    {
     "output_type": "display_data",
     "data": {
      "text/plain": [
       "<IPython.core.display.HTML object>"
      ],
      "text/html": [
       "<li><a href='http://postnauka.ru/video/47548'>http://postnauka.ru/video/47548</a></li>"
      ]
     },
     "metadata": {}
    },
    {
     "output_type": "display_data",
     "data": {
      "text/plain": [
       "<IPython.core.display.HTML object>"
      ],
      "text/html": [
       "<li><a href='http://postnauka.ru/video/36350'>http://postnauka.ru/video/36350</a></li>"
      ]
     },
     "metadata": {}
    },
    {
     "output_type": "display_data",
     "data": {
      "text/plain": [
       "<IPython.core.display.HTML object>"
      ],
      "text/html": [
       "<li><a href='http://postnauka.ru/video/25891'>http://postnauka.ru/video/25891</a></li>"
      ]
     },
     "metadata": {}
    },
    {
     "output_type": "display_data",
     "data": {
      "text/plain": [
       "<IPython.core.display.HTML object>"
      ],
      "text/html": [
       "<li><a href='http://postnauka.ru/video/25101'>http://postnauka.ru/video/25101</a></li>"
      ]
     },
     "metadata": {}
    },
    {
     "output_type": "display_data",
     "data": {
      "text/plain": [
       "<IPython.core.display.HTML object>"
      ],
      "text/html": [
       "<li><a href='http://postnauka.ru/video/41350'>http://postnauka.ru/video/41350</a></li>"
      ]
     },
     "metadata": {}
    },
    {
     "output_type": "display_data",
     "data": {
      "text/plain": [
       "<IPython.core.display.HTML object>"
      ],
      "text/html": [
       "</ul>"
      ]
     },
     "metadata": {}
    },
    {
     "output_type": "display_data",
     "data": {
      "text/plain": [
       "<IPython.core.display.HTML object>"
      ],
      "text/html": [
       "<h1>мифология</h1>"
      ]
     },
     "metadata": {}
    },
    {
     "output_type": "stream",
     "name": "stdout",
     "text": [
      "Бог, миф, греческий, герой, религия, ритуал, душа, мифология, грек, море, мифологический, культ, персонаж, божество, гусейнов\n"
     ]
    },
    {
     "output_type": "display_data",
     "data": {
      "text/plain": [
       "<IPython.core.display.HTML object>"
      ],
      "text/html": [
       "<ul>"
      ]
     },
     "metadata": {}
    },
    {
     "output_type": "display_data",
     "data": {
      "text/plain": [
       "<IPython.core.display.HTML object>"
      ],
      "text/html": [
       "<li><a href='http://postnauka.ru/video/9997'>http://postnauka.ru/video/9997</a></li>"
      ]
     },
     "metadata": {}
    },
    {
     "output_type": "display_data",
     "data": {
      "text/plain": [
       "<IPython.core.display.HTML object>"
      ],
      "text/html": [
       "<li><a href='http://postnauka.ru/video/43664'>http://postnauka.ru/video/43664</a></li>"
      ]
     },
     "metadata": {}
    },
    {
     "output_type": "display_data",
     "data": {
      "text/plain": [
       "<IPython.core.display.HTML object>"
      ],
      "text/html": [
       "<li><a href='http://postnauka.ru/video/12156'>http://postnauka.ru/video/12156</a></li>"
      ]
     },
     "metadata": {}
    },
    {
     "output_type": "display_data",
     "data": {
      "text/plain": [
       "<IPython.core.display.HTML object>"
      ],
      "text/html": [
       "<li><a href='http://postnauka.ru/video/47300'>http://postnauka.ru/video/47300</a></li>"
      ]
     },
     "metadata": {}
    },
    {
     "output_type": "display_data",
     "data": {
      "text/plain": [
       "<IPython.core.display.HTML object>"
      ],
      "text/html": [
       "<li><a href='http://postnauka.ru/video/5999'>http://postnauka.ru/video/5999</a></li>"
      ]
     },
     "metadata": {}
    },
    {
     "output_type": "display_data",
     "data": {
      "text/plain": [
       "<IPython.core.display.HTML object>"
      ],
      "text/html": [
       "<li><a href='http://postnauka.ru/video/9992'>http://postnauka.ru/video/9992</a></li>"
      ]
     },
     "metadata": {}
    },
    {
     "output_type": "display_data",
     "data": {
      "text/plain": [
       "<IPython.core.display.HTML object>"
      ],
      "text/html": [
       "<li><a href='http://postnauka.ru/video/31990'>http://postnauka.ru/video/31990</a></li>"
      ]
     },
     "metadata": {}
    },
    {
     "output_type": "display_data",
     "data": {
      "text/plain": [
       "<IPython.core.display.HTML object>"
      ],
      "text/html": [
       "<li><a href='http://postnauka.ru/video/42796'>http://postnauka.ru/video/42796</a></li>"
      ]
     },
     "metadata": {}
    },
    {
     "output_type": "display_data",
     "data": {
      "text/plain": [
       "<IPython.core.display.HTML object>"
      ],
      "text/html": [
       "<li><a href='http://postnauka.ru/video/46427'>http://postnauka.ru/video/46427</a></li>"
      ]
     },
     "metadata": {}
    },
    {
     "output_type": "display_data",
     "data": {
      "text/plain": [
       "<IPython.core.display.HTML object>"
      ],
      "text/html": [
       "<li><a href='http://postnauka.ru/video/12290'>http://postnauka.ru/video/12290</a></li>"
      ]
     },
     "metadata": {}
    },
    {
     "output_type": "display_data",
     "data": {
      "text/plain": [
       "<IPython.core.display.HTML object>"
      ],
      "text/html": [
       "</ul>"
      ]
     },
     "metadata": {}
    },
    {
     "output_type": "display_data",
     "data": {
      "text/plain": [
       "<IPython.core.display.HTML object>"
      ],
      "text/html": [
       "<h1>словесность</h1>"
      ]
     },
     "metadata": {}
    },
    {
     "output_type": "stream",
     "name": "stdout",
     "text": [
      "Слово, русский, текст, словарь, перевод, корпус, гласный, согласный, немецкий, говор, академия, древнерусский, произносить, цитата, издание\n"
     ]
    },
    {
     "output_type": "display_data",
     "data": {
      "text/plain": [
       "<IPython.core.display.HTML object>"
      ],
      "text/html": [
       "<ul>"
      ]
     },
     "metadata": {}
    },
    {
     "output_type": "display_data",
     "data": {
      "text/plain": [
       "<IPython.core.display.HTML object>"
      ],
      "text/html": [
       "<li><a href='http://postnauka.ru/video/10773'>http://postnauka.ru/video/10773</a></li>"
      ]
     },
     "metadata": {}
    },
    {
     "output_type": "display_data",
     "data": {
      "text/plain": [
       "<IPython.core.display.HTML object>"
      ],
      "text/html": [
       "<li><a href='http://postnauka.ru/video/51171'>http://postnauka.ru/video/51171</a></li>"
      ]
     },
     "metadata": {}
    },
    {
     "output_type": "display_data",
     "data": {
      "text/plain": [
       "<IPython.core.display.HTML object>"
      ],
      "text/html": [
       "<li><a href='http://postnauka.ru/video/8964'>http://postnauka.ru/video/8964</a></li>"
      ]
     },
     "metadata": {}
    },
    {
     "output_type": "display_data",
     "data": {
      "text/plain": [
       "<IPython.core.display.HTML object>"
      ],
      "text/html": [
       "<li><a href='http://postnauka.ru/video/40001'>http://postnauka.ru/video/40001</a></li>"
      ]
     },
     "metadata": {}
    },
    {
     "output_type": "display_data",
     "data": {
      "text/plain": [
       "<IPython.core.display.HTML object>"
      ],
      "text/html": [
       "<li><a href='http://postnauka.ru/video/48114'>http://postnauka.ru/video/48114</a></li>"
      ]
     },
     "metadata": {}
    },
    {
     "output_type": "display_data",
     "data": {
      "text/plain": [
       "<IPython.core.display.HTML object>"
      ],
      "text/html": [
       "<li><a href='http://postnauka.ru/video/36272'>http://postnauka.ru/video/36272</a></li>"
      ]
     },
     "metadata": {}
    },
    {
     "output_type": "display_data",
     "data": {
      "text/plain": [
       "<IPython.core.display.HTML object>"
      ],
      "text/html": [
       "<li><a href='http://postnauka.ru/video/41689'>http://postnauka.ru/video/41689</a></li>"
      ]
     },
     "metadata": {}
    },
    {
     "output_type": "display_data",
     "data": {
      "text/plain": [
       "<IPython.core.display.HTML object>"
      ],
      "text/html": [
       "<li><a href='http://postnauka.ru/video/48112'>http://postnauka.ru/video/48112</a></li>"
      ]
     },
     "metadata": {}
    },
    {
     "output_type": "display_data",
     "data": {
      "text/plain": [
       "<IPython.core.display.HTML object>"
      ],
      "text/html": [
       "<li><a href='http://postnauka.ru/video/52957'>http://postnauka.ru/video/52957</a></li>"
      ]
     },
     "metadata": {}
    },
    {
     "output_type": "display_data",
     "data": {
      "text/plain": [
       "<IPython.core.display.HTML object>"
      ],
      "text/html": [
       "<li><a href='http://postnauka.ru/video/3379'>http://postnauka.ru/video/3379</a></li>"
      ]
     },
     "metadata": {}
    },
    {
     "output_type": "display_data",
     "data": {
      "text/plain": [
       "<IPython.core.display.HTML object>"
      ],
      "text/html": [
       "</ul>"
      ]
     },
     "metadata": {}
    },
    {
     "output_type": "display_data",
     "data": {
      "text/plain": [
       "<IPython.core.display.HTML object>"
      ],
      "text/html": [
       "<h1>география</h1>"
      ]
     },
     "metadata": {}
    },
    {
     "output_type": "stream",
     "name": "stdout",
     "text": [
      "Трудность, раса, африка, праздник, шаман, станислав, нос, остров, америка, тест, задание, монголоид, дробышевский, шаманский, индеец\n"
     ]
    },
    {
     "output_type": "display_data",
     "data": {
      "text/plain": [
       "<IPython.core.display.HTML object>"
      ],
      "text/html": [
       "<ul>"
      ]
     },
     "metadata": {}
    },
    {
     "output_type": "display_data",
     "data": {
      "text/plain": [
       "<IPython.core.display.HTML object>"
      ],
      "text/html": [
       "<li><a href='http://postnauka.ru/video/17397'>http://postnauka.ru/video/17397</a></li>"
      ]
     },
     "metadata": {}
    },
    {
     "output_type": "display_data",
     "data": {
      "text/plain": [
       "<IPython.core.display.HTML object>"
      ],
      "text/html": [
       "<li><a href='http://postnauka.ru/video/31707'>http://postnauka.ru/video/31707</a></li>"
      ]
     },
     "metadata": {}
    },
    {
     "output_type": "display_data",
     "data": {
      "text/plain": [
       "<IPython.core.display.HTML object>"
      ],
      "text/html": [
       "<li><a href='http://postnauka.ru/video/37732'>http://postnauka.ru/video/37732</a></li>"
      ]
     },
     "metadata": {}
    },
    {
     "output_type": "display_data",
     "data": {
      "text/plain": [
       "<IPython.core.display.HTML object>"
      ],
      "text/html": [
       "<li><a href='http://postnauka.ru/video/32898'>http://postnauka.ru/video/32898</a></li>"
      ]
     },
     "metadata": {}
    },
    {
     "output_type": "display_data",
     "data": {
      "text/plain": [
       "<IPython.core.display.HTML object>"
      ],
      "text/html": [
       "<li><a href='http://postnauka.ru/video/15341'>http://postnauka.ru/video/15341</a></li>"
      ]
     },
     "metadata": {}
    },
    {
     "output_type": "display_data",
     "data": {
      "text/plain": [
       "<IPython.core.display.HTML object>"
      ],
      "text/html": [
       "<li><a href='http://postnauka.ru/video/35150'>http://postnauka.ru/video/35150</a></li>"
      ]
     },
     "metadata": {}
    },
    {
     "output_type": "display_data",
     "data": {
      "text/plain": [
       "<IPython.core.display.HTML object>"
      ],
      "text/html": [
       "<li><a href='http://postnauka.ru/video/42707'>http://postnauka.ru/video/42707</a></li>"
      ]
     },
     "metadata": {}
    },
    {
     "output_type": "display_data",
     "data": {
      "text/plain": [
       "<IPython.core.display.HTML object>"
      ],
      "text/html": [
       "<li><a href='http://postnauka.ru/video/42735'>http://postnauka.ru/video/42735</a></li>"
      ]
     },
     "metadata": {}
    },
    {
     "output_type": "display_data",
     "data": {
      "text/plain": [
       "<IPython.core.display.HTML object>"
      ],
      "text/html": [
       "<li><a href='http://postnauka.ru/video/40880'>http://postnauka.ru/video/40880</a></li>"
      ]
     },
     "metadata": {}
    },
    {
     "output_type": "display_data",
     "data": {
      "text/plain": [
       "<IPython.core.display.HTML object>"
      ],
      "text/html": [
       "<li><a href='http://postnauka.ru/video/31675'>http://postnauka.ru/video/31675</a></li>"
      ]
     },
     "metadata": {}
    },
    {
     "output_type": "display_data",
     "data": {
      "text/plain": [
       "<IPython.core.display.HTML object>"
      ],
      "text/html": [
       "</ul>"
      ]
     },
     "metadata": {}
    },
    {
     "output_type": "display_data",
     "data": {
      "text/plain": [
       "<IPython.core.display.HTML object>"
      ],
      "text/html": [
       "<h1>право</h1>"
      ]
     },
     "metadata": {}
    },
    {
     "output_type": "stream",
     "name": "stdout",
     "text": [
      "Право, римский, правовой, юрист, суд, юридический, должник, собственность, обязательство, владение, исполнение, рим, собственник, поэзия, договор\n"
     ]
    },
    {
     "output_type": "display_data",
     "data": {
      "text/plain": [
       "<IPython.core.display.HTML object>"
      ],
      "text/html": [
       "<ul>"
      ]
     },
     "metadata": {}
    },
    {
     "output_type": "display_data",
     "data": {
      "text/plain": [
       "<IPython.core.display.HTML object>"
      ],
      "text/html": [
       "<li><a href='http://postnauka.ru/video/9299'>http://postnauka.ru/video/9299</a></li>"
      ]
     },
     "metadata": {}
    },
    {
     "output_type": "display_data",
     "data": {
      "text/plain": [
       "<IPython.core.display.HTML object>"
      ],
      "text/html": [
       "<li><a href='http://postnauka.ru/video/31688'>http://postnauka.ru/video/31688</a></li>"
      ]
     },
     "metadata": {}
    },
    {
     "output_type": "display_data",
     "data": {
      "text/plain": [
       "<IPython.core.display.HTML object>"
      ],
      "text/html": [
       "<li><a href='http://postnauka.ru/video/38009'>http://postnauka.ru/video/38009</a></li>"
      ]
     },
     "metadata": {}
    },
    {
     "output_type": "display_data",
     "data": {
      "text/plain": [
       "<IPython.core.display.HTML object>"
      ],
      "text/html": [
       "<li><a href='http://postnauka.ru/video/34414'>http://postnauka.ru/video/34414</a></li>"
      ]
     },
     "metadata": {}
    },
    {
     "output_type": "display_data",
     "data": {
      "text/plain": [
       "<IPython.core.display.HTML object>"
      ],
      "text/html": [
       "<li><a href='http://postnauka.ru/video/49455'>http://postnauka.ru/video/49455</a></li>"
      ]
     },
     "metadata": {}
    },
    {
     "output_type": "display_data",
     "data": {
      "text/plain": [
       "<IPython.core.display.HTML object>"
      ],
      "text/html": [
       "<li><a href='http://postnauka.ru/video/42221'>http://postnauka.ru/video/42221</a></li>"
      ]
     },
     "metadata": {}
    },
    {
     "output_type": "display_data",
     "data": {
      "text/plain": [
       "<IPython.core.display.HTML object>"
      ],
      "text/html": [
       "<li><a href='http://postnauka.ru/video/17912'>http://postnauka.ru/video/17912</a></li>"
      ]
     },
     "metadata": {}
    },
    {
     "output_type": "display_data",
     "data": {
      "text/plain": [
       "<IPython.core.display.HTML object>"
      ],
      "text/html": [
       "<li><a href='http://postnauka.ru/video/16822'>http://postnauka.ru/video/16822</a></li>"
      ]
     },
     "metadata": {}
    },
    {
     "output_type": "display_data",
     "data": {
      "text/plain": [
       "<IPython.core.display.HTML object>"
      ],
      "text/html": [
       "<li><a href='http://postnauka.ru/video/31666'>http://postnauka.ru/video/31666</a></li>"
      ]
     },
     "metadata": {}
    },
    {
     "output_type": "display_data",
     "data": {
      "text/plain": [
       "<IPython.core.display.HTML object>"
      ],
      "text/html": [
       "<li><a href='http://postnauka.ru/video/17913'>http://postnauka.ru/video/17913</a></li>"
      ]
     },
     "metadata": {}
    },
    {
     "output_type": "display_data",
     "data": {
      "text/plain": [
       "<IPython.core.display.HTML object>"
      ],
      "text/html": [
       "</ul>"
      ]
     },
     "metadata": {}
    },
    {
     "output_type": "display_data",
     "data": {
      "text/plain": [
       "<IPython.core.display.HTML object>"
      ],
      "text/html": [
       "<h1>медицина</h1>"
      ]
     },
     "metadata": {}
    },
    {
     "output_type": "stream",
     "name": "stdout",
     "text": [
      "Болезнь, заболевание, пациент, лечение, медицина, врач, боль, препарат, медицинский, лекарство, иммунный, сон, операция, опухоль, больной\n"
     ]
    },
    {
     "output_type": "display_data",
     "data": {
      "text/plain": [
       "<IPython.core.display.HTML object>"
      ],
      "text/html": [
       "<ul>"
      ]
     },
     "metadata": {}
    },
    {
     "output_type": "display_data",
     "data": {
      "text/plain": [
       "<IPython.core.display.HTML object>"
      ],
      "text/html": [
       "<li><a href='http://postnauka.ru/video/13746'>http://postnauka.ru/video/13746</a></li>"
      ]
     },
     "metadata": {}
    },
    {
     "output_type": "display_data",
     "data": {
      "text/plain": [
       "<IPython.core.display.HTML object>"
      ],
      "text/html": [
       "<li><a href='http://postnauka.ru/video/12974'>http://postnauka.ru/video/12974</a></li>"
      ]
     },
     "metadata": {}
    },
    {
     "output_type": "display_data",
     "data": {
      "text/plain": [
       "<IPython.core.display.HTML object>"
      ],
      "text/html": [
       "<li><a href='http://postnauka.ru/video/7753'>http://postnauka.ru/video/7753</a></li>"
      ]
     },
     "metadata": {}
    },
    {
     "output_type": "display_data",
     "data": {
      "text/plain": [
       "<IPython.core.display.HTML object>"
      ],
      "text/html": [
       "<li><a href='http://postnauka.ru/video/2541'>http://postnauka.ru/video/2541</a></li>"
      ]
     },
     "metadata": {}
    },
    {
     "output_type": "display_data",
     "data": {
      "text/plain": [
       "<IPython.core.display.HTML object>"
      ],
      "text/html": [
       "<li><a href='http://postnauka.ru/video/532'>http://postnauka.ru/video/532</a></li>"
      ]
     },
     "metadata": {}
    },
    {
     "output_type": "display_data",
     "data": {
      "text/plain": [
       "<IPython.core.display.HTML object>"
      ],
      "text/html": [
       "<li><a href='http://postnauka.ru/video/11361'>http://postnauka.ru/video/11361</a></li>"
      ]
     },
     "metadata": {}
    },
    {
     "output_type": "display_data",
     "data": {
      "text/plain": [
       "<IPython.core.display.HTML object>"
      ],
      "text/html": [
       "<li><a href='http://postnauka.ru/video/57657'>http://postnauka.ru/video/57657</a></li>"
      ]
     },
     "metadata": {}
    },
    {
     "output_type": "display_data",
     "data": {
      "text/plain": [
       "<IPython.core.display.HTML object>"
      ],
      "text/html": [
       "<li><a href='http://postnauka.ru/video/49206'>http://postnauka.ru/video/49206</a></li>"
      ]
     },
     "metadata": {}
    },
    {
     "output_type": "display_data",
     "data": {
      "text/plain": [
       "<IPython.core.display.HTML object>"
      ],
      "text/html": [
       "<li><a href='http://postnauka.ru/video/11850'>http://postnauka.ru/video/11850</a></li>"
      ]
     },
     "metadata": {}
    },
    {
     "output_type": "display_data",
     "data": {
      "text/plain": [
       "<IPython.core.display.HTML object>"
      ],
      "text/html": [
       "<li><a href='http://postnauka.ru/video/45961'>http://postnauka.ru/video/45961</a></li>"
      ]
     },
     "metadata": {}
    },
    {
     "output_type": "display_data",
     "data": {
      "text/plain": [
       "<IPython.core.display.HTML object>"
      ],
      "text/html": [
       "</ul>"
      ]
     },
     "metadata": {}
    },
    {
     "output_type": "display_data",
     "data": {
      "text/plain": [
       "<IPython.core.display.HTML object>"
      ],
      "text/html": [
       "<h1>биология</h1>"
      ]
     },
     "metadata": {}
    },
    {
     "output_type": "stream",
     "name": "stdout",
     "text": [
      "Животное, вода, организм, робот, растение, микроорганизм, рецептор, биологический, океан, мембрана, популяция, кислород, метан, микроб, мышца\n"
     ]
    },
    {
     "output_type": "display_data",
     "data": {
      "text/plain": [
       "<IPython.core.display.HTML object>"
      ],
      "text/html": [
       "<ul>"
      ]
     },
     "metadata": {}
    },
    {
     "output_type": "display_data",
     "data": {
      "text/plain": [
       "<IPython.core.display.HTML object>"
      ],
      "text/html": [
       "<li><a href='http://postnauka.ru/video/2531'>http://postnauka.ru/video/2531</a></li>"
      ]
     },
     "metadata": {}
    },
    {
     "output_type": "display_data",
     "data": {
      "text/plain": [
       "<IPython.core.display.HTML object>"
      ],
      "text/html": [
       "<li><a href='http://postnauka.ru/video/9861'>http://postnauka.ru/video/9861</a></li>"
      ]
     },
     "metadata": {}
    },
    {
     "output_type": "display_data",
     "data": {
      "text/plain": [
       "<IPython.core.display.HTML object>"
      ],
      "text/html": [
       "<li><a href='http://postnauka.ru/video/7113'>http://postnauka.ru/video/7113</a></li>"
      ]
     },
     "metadata": {}
    },
    {
     "output_type": "display_data",
     "data": {
      "text/plain": [
       "<IPython.core.display.HTML object>"
      ],
      "text/html": [
       "<li><a href='http://postnauka.ru/video/30673'>http://postnauka.ru/video/30673</a></li>"
      ]
     },
     "metadata": {}
    },
    {
     "output_type": "display_data",
     "data": {
      "text/plain": [
       "<IPython.core.display.HTML object>"
      ],
      "text/html": [
       "<li><a href='http://postnauka.ru/video/8953'>http://postnauka.ru/video/8953</a></li>"
      ]
     },
     "metadata": {}
    },
    {
     "output_type": "display_data",
     "data": {
      "text/plain": [
       "<IPython.core.display.HTML object>"
      ],
      "text/html": [
       "<li><a href='http://postnauka.ru/video/19071'>http://postnauka.ru/video/19071</a></li>"
      ]
     },
     "metadata": {}
    },
    {
     "output_type": "display_data",
     "data": {
      "text/plain": [
       "<IPython.core.display.HTML object>"
      ],
      "text/html": [
       "<li><a href='http://postnauka.ru/video/25889'>http://postnauka.ru/video/25889</a></li>"
      ]
     },
     "metadata": {}
    },
    {
     "output_type": "display_data",
     "data": {
      "text/plain": [
       "<IPython.core.display.HTML object>"
      ],
      "text/html": [
       "<li><a href='http://postnauka.ru/video/32635'>http://postnauka.ru/video/32635</a></li>"
      ]
     },
     "metadata": {}
    },
    {
     "output_type": "display_data",
     "data": {
      "text/plain": [
       "<IPython.core.display.HTML object>"
      ],
      "text/html": [
       "<li><a href='http://postnauka.ru/video/49437'>http://postnauka.ru/video/49437</a></li>"
      ]
     },
     "metadata": {}
    },
    {
     "output_type": "display_data",
     "data": {
      "text/plain": [
       "<IPython.core.display.HTML object>"
      ],
      "text/html": [
       "<li><a href='http://postnauka.ru/video/31671'>http://postnauka.ru/video/31671</a></li>"
      ]
     },
     "metadata": {}
    },
    {
     "output_type": "display_data",
     "data": {
      "text/plain": [
       "<IPython.core.display.HTML object>"
      ],
      "text/html": [
       "</ul>"
      ]
     },
     "metadata": {}
    },
    {
     "output_type": "display_data",
     "data": {
      "text/plain": [
       "<IPython.core.display.HTML object>"
      ],
      "text/html": [
       "<h1>психология</h1>"
      ]
     },
     "metadata": {}
    },
    {
     "output_type": "stream",
     "name": "stdout",
     "text": [
      "Память, восприятие, психология, сознание, когнитивный, внимание, психолог, психологический, ощущение, эмоциональный, активность, зрительный, феномен, психический, нервный\n"
     ]
    },
    {
     "output_type": "display_data",
     "data": {
      "text/plain": [
       "<IPython.core.display.HTML object>"
      ],
      "text/html": [
       "<ul>"
      ]
     },
     "metadata": {}
    },
    {
     "output_type": "display_data",
     "data": {
      "text/plain": [
       "<IPython.core.display.HTML object>"
      ],
      "text/html": [
       "<li><a href='http://postnauka.ru/video/25267'>http://postnauka.ru/video/25267</a></li>"
      ]
     },
     "metadata": {}
    },
    {
     "output_type": "display_data",
     "data": {
      "text/plain": [
       "<IPython.core.display.HTML object>"
      ],
      "text/html": [
       "<li><a href='http://postnauka.ru/video/53949'>http://postnauka.ru/video/53949</a></li>"
      ]
     },
     "metadata": {}
    },
    {
     "output_type": "display_data",
     "data": {
      "text/plain": [
       "<IPython.core.display.HTML object>"
      ],
      "text/html": [
       "<li><a href='http://postnauka.ru/video/17421'>http://postnauka.ru/video/17421</a></li>"
      ]
     },
     "metadata": {}
    },
    {
     "output_type": "display_data",
     "data": {
      "text/plain": [
       "<IPython.core.display.HTML object>"
      ],
      "text/html": [
       "<li><a href='http://postnauka.ru/video/56052'>http://postnauka.ru/video/56052</a></li>"
      ]
     },
     "metadata": {}
    },
    {
     "output_type": "display_data",
     "data": {
      "text/plain": [
       "<IPython.core.display.HTML object>"
      ],
      "text/html": [
       "<li><a href='http://postnauka.ru/video/54916'>http://postnauka.ru/video/54916</a></li>"
      ]
     },
     "metadata": {}
    },
    {
     "output_type": "display_data",
     "data": {
      "text/plain": [
       "<IPython.core.display.HTML object>"
      ],
      "text/html": [
       "<li><a href='http://postnauka.ru/video/16159'>http://postnauka.ru/video/16159</a></li>"
      ]
     },
     "metadata": {}
    },
    {
     "output_type": "display_data",
     "data": {
      "text/plain": [
       "<IPython.core.display.HTML object>"
      ],
      "text/html": [
       "<li><a href='http://postnauka.ru/video/23829'>http://postnauka.ru/video/23829</a></li>"
      ]
     },
     "metadata": {}
    },
    {
     "output_type": "display_data",
     "data": {
      "text/plain": [
       "<IPython.core.display.HTML object>"
      ],
      "text/html": [
       "<li><a href='http://postnauka.ru/video/57336'>http://postnauka.ru/video/57336</a></li>"
      ]
     },
     "metadata": {}
    },
    {
     "output_type": "display_data",
     "data": {
      "text/plain": [
       "<IPython.core.display.HTML object>"
      ],
      "text/html": [
       "<li><a href='http://postnauka.ru/video/48962'>http://postnauka.ru/video/48962</a></li>"
      ]
     },
     "metadata": {}
    },
    {
     "output_type": "display_data",
     "data": {
      "text/plain": [
       "<IPython.core.display.HTML object>"
      ],
      "text/html": [
       "<li><a href='http://postnauka.ru/video/56050'>http://postnauka.ru/video/56050</a></li>"
      ]
     },
     "metadata": {}
    },
    {
     "output_type": "display_data",
     "data": {
      "text/plain": [
       "<IPython.core.display.HTML object>"
      ],
      "text/html": [
       "</ul>"
      ]
     },
     "metadata": {}
    },
    {
     "output_type": "display_data",
     "data": {
      "text/plain": [
       "<IPython.core.display.HTML object>"
      ],
      "text/html": [
       "<h1>история Руси</h1>"
      ]
     },
     "metadata": {}
    },
    {
     "output_type": "stream",
     "name": "stdout",
     "text": [
      "Германия, университет, русь, святой, немецкий, князь, андрей, византийский, апостол, польский, илья, иван, повесть, николай, византия\n"
     ]
    },
    {
     "output_type": "display_data",
     "data": {
      "text/plain": [
       "<IPython.core.display.HTML object>"
      ],
      "text/html": [
       "<ul>"
      ]
     },
     "metadata": {}
    },
    {
     "output_type": "display_data",
     "data": {
      "text/plain": [
       "<IPython.core.display.HTML object>"
      ],
      "text/html": [
       "<li><a href='http://postnauka.ru/video/3348'>http://postnauka.ru/video/3348</a></li>"
      ]
     },
     "metadata": {}
    },
    {
     "output_type": "display_data",
     "data": {
      "text/plain": [
       "<IPython.core.display.HTML object>"
      ],
      "text/html": [
       "<li><a href='http://postnauka.ru/video/24034'>http://postnauka.ru/video/24034</a></li>"
      ]
     },
     "metadata": {}
    },
    {
     "output_type": "display_data",
     "data": {
      "text/plain": [
       "<IPython.core.display.HTML object>"
      ],
      "text/html": [
       "<li><a href='http://postnauka.ru/video/24039'>http://postnauka.ru/video/24039</a></li>"
      ]
     },
     "metadata": {}
    },
    {
     "output_type": "display_data",
     "data": {
      "text/plain": [
       "<IPython.core.display.HTML object>"
      ],
      "text/html": [
       "<li><a href='http://postnauka.ru/video/19574'>http://postnauka.ru/video/19574</a></li>"
      ]
     },
     "metadata": {}
    },
    {
     "output_type": "display_data",
     "data": {
      "text/plain": [
       "<IPython.core.display.HTML object>"
      ],
      "text/html": [
       "<li><a href='http://postnauka.ru/video/32637'>http://postnauka.ru/video/32637</a></li>"
      ]
     },
     "metadata": {}
    },
    {
     "output_type": "display_data",
     "data": {
      "text/plain": [
       "<IPython.core.display.HTML object>"
      ],
      "text/html": [
       "<li><a href='http://postnauka.ru/video/23900'>http://postnauka.ru/video/23900</a></li>"
      ]
     },
     "metadata": {}
    },
    {
     "output_type": "display_data",
     "data": {
      "text/plain": [
       "<IPython.core.display.HTML object>"
      ],
      "text/html": [
       "<li><a href='http://postnauka.ru/video/50668'>http://postnauka.ru/video/50668</a></li>"
      ]
     },
     "metadata": {}
    },
    {
     "output_type": "display_data",
     "data": {
      "text/plain": [
       "<IPython.core.display.HTML object>"
      ],
      "text/html": [
       "<li><a href='http://postnauka.ru/video/24030'>http://postnauka.ru/video/24030</a></li>"
      ]
     },
     "metadata": {}
    },
    {
     "output_type": "display_data",
     "data": {
      "text/plain": [
       "<IPython.core.display.HTML object>"
      ],
      "text/html": [
       "<li><a href='http://postnauka.ru/video/47449'>http://postnauka.ru/video/47449</a></li>"
      ]
     },
     "metadata": {}
    },
    {
     "output_type": "display_data",
     "data": {
      "text/plain": [
       "<IPython.core.display.HTML object>"
      ],
      "text/html": [
       "<li><a href='http://postnauka.ru/video/34936'>http://postnauka.ru/video/34936</a></li>"
      ]
     },
     "metadata": {}
    },
    {
     "output_type": "display_data",
     "data": {
      "text/plain": [
       "<IPython.core.display.HTML object>"
      ],
      "text/html": [
       "</ul>"
      ]
     },
     "metadata": {}
    },
    {
     "output_type": "display_data",
     "data": {
      "text/plain": [
       "<IPython.core.display.HTML object>"
      ],
      "text/html": [
       "<h1>общество и культура</h1>"
      ]
     },
     "metadata": {}
    },
    {
     "output_type": "stream",
     "name": "stdout",
     "text": [
      "Город, социальный, общество, исторический, история, понятие, наука, рассказывать, культурный, политика, кандидат, российский, городской, каков, искусство\n"
     ]
    },
    {
     "output_type": "display_data",
     "data": {
      "text/plain": [
       "<IPython.core.display.HTML object>"
      ],
      "text/html": [
       "<ul>"
      ]
     },
     "metadata": {}
    },
    {
     "output_type": "display_data",
     "data": {
      "text/plain": [
       "<IPython.core.display.HTML object>"
      ],
      "text/html": [
       "<li><a href='http://postnauka.ru/video/12148'>http://postnauka.ru/video/12148</a></li>"
      ]
     },
     "metadata": {}
    },
    {
     "output_type": "display_data",
     "data": {
      "text/plain": [
       "<IPython.core.display.HTML object>"
      ],
      "text/html": [
       "<li><a href='http://postnauka.ru/video/7778'>http://postnauka.ru/video/7778</a></li>"
      ]
     },
     "metadata": {}
    },
    {
     "output_type": "display_data",
     "data": {
      "text/plain": [
       "<IPython.core.display.HTML object>"
      ],
      "text/html": [
       "<li><a href='http://postnauka.ru/video/9870'>http://postnauka.ru/video/9870</a></li>"
      ]
     },
     "metadata": {}
    },
    {
     "output_type": "display_data",
     "data": {
      "text/plain": [
       "<IPython.core.display.HTML object>"
      ],
      "text/html": [
       "<li><a href='http://postnauka.ru/video/5394'>http://postnauka.ru/video/5394</a></li>"
      ]
     },
     "metadata": {}
    },
    {
     "output_type": "display_data",
     "data": {
      "text/plain": [
       "<IPython.core.display.HTML object>"
      ],
      "text/html": [
       "<li><a href='http://postnauka.ru/video/9148'>http://postnauka.ru/video/9148</a></li>"
      ]
     },
     "metadata": {}
    },
    {
     "output_type": "display_data",
     "data": {
      "text/plain": [
       "<IPython.core.display.HTML object>"
      ],
      "text/html": [
       "<li><a href='http://postnauka.ru/video/5878'>http://postnauka.ru/video/5878</a></li>"
      ]
     },
     "metadata": {}
    },
    {
     "output_type": "display_data",
     "data": {
      "text/plain": [
       "<IPython.core.display.HTML object>"
      ],
      "text/html": [
       "<li><a href='http://postnauka.ru/video/10385'>http://postnauka.ru/video/10385</a></li>"
      ]
     },
     "metadata": {}
    },
    {
     "output_type": "display_data",
     "data": {
      "text/plain": [
       "<IPython.core.display.HTML object>"
      ],
      "text/html": [
       "<li><a href='http://postnauka.ru/video/5198'>http://postnauka.ru/video/5198</a></li>"
      ]
     },
     "metadata": {}
    },
    {
     "output_type": "display_data",
     "data": {
      "text/plain": [
       "<IPython.core.display.HTML object>"
      ],
      "text/html": [
       "<li><a href='http://postnauka.ru/video/7541'>http://postnauka.ru/video/7541</a></li>"
      ]
     },
     "metadata": {}
    },
    {
     "output_type": "display_data",
     "data": {
      "text/plain": [
       "<IPython.core.display.HTML object>"
      ],
      "text/html": [
       "<li><a href='http://postnauka.ru/video/3417'>http://postnauka.ru/video/3417</a></li>"
      ]
     },
     "metadata": {}
    },
    {
     "output_type": "display_data",
     "data": {
      "text/plain": [
       "<IPython.core.display.HTML object>"
      ],
      "text/html": [
       "</ul>"
      ]
     },
     "metadata": {}
    },
    {
     "output_type": "display_data",
     "data": {
      "text/plain": [
       "<IPython.core.display.HTML object>"
      ],
      "text/html": [
       "<h1>астрофизика</h1>"
      ]
     },
     "metadata": {}
    },
    {
     "output_type": "stream",
     "name": "stdout",
     "text": [
      "Галактика, планета, земля, черный, дыра, газ, масса, атмосфера, солнце, диск, солнечный, расстояние, скопление, вокруг, спутник\n"
     ]
    },
    {
     "output_type": "display_data",
     "data": {
      "text/plain": [
       "<IPython.core.display.HTML object>"
      ],
      "text/html": [
       "<ul>"
      ]
     },
     "metadata": {}
    },
    {
     "output_type": "display_data",
     "data": {
      "text/plain": [
       "<IPython.core.display.HTML object>"
      ],
      "text/html": [
       "<li><a href='http://postnauka.ru/video/2971'>http://postnauka.ru/video/2971</a></li>"
      ]
     },
     "metadata": {}
    },
    {
     "output_type": "display_data",
     "data": {
      "text/plain": [
       "<IPython.core.display.HTML object>"
      ],
      "text/html": [
       "<li><a href='http://postnauka.ru/video/9835'>http://postnauka.ru/video/9835</a></li>"
      ]
     },
     "metadata": {}
    },
    {
     "output_type": "display_data",
     "data": {
      "text/plain": [
       "<IPython.core.display.HTML object>"
      ],
      "text/html": [
       "<li><a href='http://postnauka.ru/video/48109'>http://postnauka.ru/video/48109</a></li>"
      ]
     },
     "metadata": {}
    },
    {
     "output_type": "display_data",
     "data": {
      "text/plain": [
       "<IPython.core.display.HTML object>"
      ],
      "text/html": [
       "<li><a href='http://postnauka.ru/video/49451'>http://postnauka.ru/video/49451</a></li>"
      ]
     },
     "metadata": {}
    },
    {
     "output_type": "display_data",
     "data": {
      "text/plain": [
       "<IPython.core.display.HTML object>"
      ],
      "text/html": [
       "<li><a href='http://postnauka.ru/video/31193'>http://postnauka.ru/video/31193</a></li>"
      ]
     },
     "metadata": {}
    },
    {
     "output_type": "display_data",
     "data": {
      "text/plain": [
       "<IPython.core.display.HTML object>"
      ],
      "text/html": [
       "<li><a href='http://postnauka.ru/video/57338'>http://postnauka.ru/video/57338</a></li>"
      ]
     },
     "metadata": {}
    },
    {
     "output_type": "display_data",
     "data": {
      "text/plain": [
       "<IPython.core.display.HTML object>"
      ],
      "text/html": [
       "<li><a href='http://postnauka.ru/video/31695'>http://postnauka.ru/video/31695</a></li>"
      ]
     },
     "metadata": {}
    },
    {
     "output_type": "display_data",
     "data": {
      "text/plain": [
       "<IPython.core.display.HTML object>"
      ],
      "text/html": [
       "<li><a href='http://postnauka.ru/video/3423'>http://postnauka.ru/video/3423</a></li>"
      ]
     },
     "metadata": {}
    },
    {
     "output_type": "display_data",
     "data": {
      "text/plain": [
       "<IPython.core.display.HTML object>"
      ],
      "text/html": [
       "<li><a href='http://postnauka.ru/video/59636'>http://postnauka.ru/video/59636</a></li>"
      ]
     },
     "metadata": {}
    },
    {
     "output_type": "display_data",
     "data": {
      "text/plain": [
       "<IPython.core.display.HTML object>"
      ],
      "text/html": [
       "<li><a href='http://postnauka.ru/video/58744'>http://postnauka.ru/video/58744</a></li>"
      ]
     },
     "metadata": {}
    },
    {
     "output_type": "display_data",
     "data": {
      "text/plain": [
       "<IPython.core.display.HTML object>"
      ],
      "text/html": [
       "</ul>"
      ]
     },
     "metadata": {}
    },
    {
     "output_type": "display_data",
     "data": {
      "text/plain": [
       "<IPython.core.display.HTML object>"
      ],
      "text/html": [
       "<h1>экономика</h1>"
      ]
     },
     "metadata": {}
    },
    {
     "output_type": "stream",
     "name": "stdout",
     "text": [
      "Решение, экономический, экономика, деньги, компания, оценка, принятие, критерий, выбор, ценность, рынок, финансовый, экономист, безопасность, поведенческий\n"
     ]
    },
    {
     "output_type": "display_data",
     "data": {
      "text/plain": [
       "<IPython.core.display.HTML object>"
      ],
      "text/html": [
       "<ul>"
      ]
     },
     "metadata": {}
    },
    {
     "output_type": "display_data",
     "data": {
      "text/plain": [
       "<IPython.core.display.HTML object>"
      ],
      "text/html": [
       "<li><a href='http://postnauka.ru/video/24286'>http://postnauka.ru/video/24286</a></li>"
      ]
     },
     "metadata": {}
    },
    {
     "output_type": "display_data",
     "data": {
      "text/plain": [
       "<IPython.core.display.HTML object>"
      ],
      "text/html": [
       "<li><a href='http://postnauka.ru/video/26616'>http://postnauka.ru/video/26616</a></li>"
      ]
     },
     "metadata": {}
    },
    {
     "output_type": "display_data",
     "data": {
      "text/plain": [
       "<IPython.core.display.HTML object>"
      ],
      "text/html": [
       "<li><a href='http://postnauka.ru/video/53415'>http://postnauka.ru/video/53415</a></li>"
      ]
     },
     "metadata": {}
    },
    {
     "output_type": "display_data",
     "data": {
      "text/plain": [
       "<IPython.core.display.HTML object>"
      ],
      "text/html": [
       "<li><a href='http://postnauka.ru/video/13152'>http://postnauka.ru/video/13152</a></li>"
      ]
     },
     "metadata": {}
    },
    {
     "output_type": "display_data",
     "data": {
      "text/plain": [
       "<IPython.core.display.HTML object>"
      ],
      "text/html": [
       "<li><a href='http://postnauka.ru/video/5465'>http://postnauka.ru/video/5465</a></li>"
      ]
     },
     "metadata": {}
    },
    {
     "output_type": "display_data",
     "data": {
      "text/plain": [
       "<IPython.core.display.HTML object>"
      ],
      "text/html": [
       "<li><a href='http://postnauka.ru/video/27823'>http://postnauka.ru/video/27823</a></li>"
      ]
     },
     "metadata": {}
    },
    {
     "output_type": "display_data",
     "data": {
      "text/plain": [
       "<IPython.core.display.HTML object>"
      ],
      "text/html": [
       "<li><a href='http://postnauka.ru/video/6376'>http://postnauka.ru/video/6376</a></li>"
      ]
     },
     "metadata": {}
    },
    {
     "output_type": "display_data",
     "data": {
      "text/plain": [
       "<IPython.core.display.HTML object>"
      ],
      "text/html": [
       "<li><a href='http://postnauka.ru/video/7781'>http://postnauka.ru/video/7781</a></li>"
      ]
     },
     "metadata": {}
    },
    {
     "output_type": "display_data",
     "data": {
      "text/plain": [
       "<IPython.core.display.HTML object>"
      ],
      "text/html": [
       "<li><a href='http://postnauka.ru/video/26119'>http://postnauka.ru/video/26119</a></li>"
      ]
     },
     "metadata": {}
    },
    {
     "output_type": "display_data",
     "data": {
      "text/plain": [
       "<IPython.core.display.HTML object>"
      ],
      "text/html": [
       "<li><a href='http://postnauka.ru/video/28282'>http://postnauka.ru/video/28282</a></li>"
      ]
     },
     "metadata": {}
    },
    {
     "output_type": "display_data",
     "data": {
      "text/plain": [
       "<IPython.core.display.HTML object>"
      ],
      "text/html": [
       "</ul>"
      ]
     },
     "metadata": {}
    },
    {
     "output_type": "display_data",
     "data": {
      "text/plain": [
       "<IPython.core.display.HTML object>"
      ],
      "text/html": [
       "<h1>семья</h1>"
      ]
     },
     "metadata": {}
    },
    {
     "output_type": "stream",
     "name": "stdout",
     "text": [
      "Ребенок, женщина, поведение, семья, эмоция, конфликт, личность, мужчина, мать, коллективный, родитель, стратегия, социальный, травма, метро\n"
     ]
    },
    {
     "output_type": "display_data",
     "data": {
      "text/plain": [
       "<IPython.core.display.HTML object>"
      ],
      "text/html": [
       "<ul>"
      ]
     },
     "metadata": {}
    },
    {
     "output_type": "display_data",
     "data": {
      "text/plain": [
       "<IPython.core.display.HTML object>"
      ],
      "text/html": [
       "<li><a href='http://postnauka.ru/video/22892'>http://postnauka.ru/video/22892</a></li>"
      ]
     },
     "metadata": {}
    },
    {
     "output_type": "display_data",
     "data": {
      "text/plain": [
       "<IPython.core.display.HTML object>"
      ],
      "text/html": [
       "<li><a href='http://postnauka.ru/video/26223'>http://postnauka.ru/video/26223</a></li>"
      ]
     },
     "metadata": {}
    },
    {
     "output_type": "display_data",
     "data": {
      "text/plain": [
       "<IPython.core.display.HTML object>"
      ],
      "text/html": [
       "<li><a href='http://postnauka.ru/video/21643'>http://postnauka.ru/video/21643</a></li>"
      ]
     },
     "metadata": {}
    },
    {
     "output_type": "display_data",
     "data": {
      "text/plain": [
       "<IPython.core.display.HTML object>"
      ],
      "text/html": [
       "<li><a href='http://postnauka.ru/video/52948'>http://postnauka.ru/video/52948</a></li>"
      ]
     },
     "metadata": {}
    },
    {
     "output_type": "display_data",
     "data": {
      "text/plain": [
       "<IPython.core.display.HTML object>"
      ],
      "text/html": [
       "<li><a href='http://postnauka.ru/video/30678'>http://postnauka.ru/video/30678</a></li>"
      ]
     },
     "metadata": {}
    },
    {
     "output_type": "display_data",
     "data": {
      "text/plain": [
       "<IPython.core.display.HTML object>"
      ],
      "text/html": [
       "<li><a href='http://postnauka.ru/video/40866'>http://postnauka.ru/video/40866</a></li>"
      ]
     },
     "metadata": {}
    },
    {
     "output_type": "display_data",
     "data": {
      "text/plain": [
       "<IPython.core.display.HTML object>"
      ],
      "text/html": [
       "<li><a href='http://postnauka.ru/video/22883'>http://postnauka.ru/video/22883</a></li>"
      ]
     },
     "metadata": {}
    },
    {
     "output_type": "display_data",
     "data": {
      "text/plain": [
       "<IPython.core.display.HTML object>"
      ],
      "text/html": [
       "<li><a href='http://postnauka.ru/video/31220'>http://postnauka.ru/video/31220</a></li>"
      ]
     },
     "metadata": {}
    },
    {
     "output_type": "display_data",
     "data": {
      "text/plain": [
       "<IPython.core.display.HTML object>"
      ],
      "text/html": [
       "<li><a href='http://postnauka.ru/video/9865'>http://postnauka.ru/video/9865</a></li>"
      ]
     },
     "metadata": {}
    },
    {
     "output_type": "display_data",
     "data": {
      "text/plain": [
       "<IPython.core.display.HTML object>"
      ],
      "text/html": [
       "<li><a href='http://postnauka.ru/video/40266'>http://postnauka.ru/video/40266</a></li>"
      ]
     },
     "metadata": {}
    },
    {
     "output_type": "display_data",
     "data": {
      "text/plain": [
       "<IPython.core.display.HTML object>"
      ],
      "text/html": [
       "</ul>"
      ]
     },
     "metadata": {}
    },
    {
     "output_type": "display_data",
     "data": {
      "text/plain": [
       "<IPython.core.display.HTML object>"
      ],
      "text/html": [
       "<h1>информатика</h1>"
      ]
     },
     "metadata": {}
    },
    {
     "output_type": "stream",
     "name": "stdout",
     "text": [
      "Задача, данные, компьютер, сеть, программа, компьютерный, интернет, искусственный, алгоритм, интеллект, обучение, разработка, ошибка, сложность, вычислительный\n"
     ]
    },
    {
     "output_type": "display_data",
     "data": {
      "text/plain": [
       "<IPython.core.display.HTML object>"
      ],
      "text/html": [
       "<ul>"
      ]
     },
     "metadata": {}
    },
    {
     "output_type": "display_data",
     "data": {
      "text/plain": [
       "<IPython.core.display.HTML object>"
      ],
      "text/html": [
       "<li><a href='http://postnauka.ru/video/8313'>http://postnauka.ru/video/8313</a></li>"
      ]
     },
     "metadata": {}
    },
    {
     "output_type": "display_data",
     "data": {
      "text/plain": [
       "<IPython.core.display.HTML object>"
      ],
      "text/html": [
       "<li><a href='http://postnauka.ru/video/24306'>http://postnauka.ru/video/24306</a></li>"
      ]
     },
     "metadata": {}
    },
    {
     "output_type": "display_data",
     "data": {
      "text/plain": [
       "<IPython.core.display.HTML object>"
      ],
      "text/html": [
       "<li><a href='http://postnauka.ru/video/32901'>http://postnauka.ru/video/32901</a></li>"
      ]
     },
     "metadata": {}
    },
    {
     "output_type": "display_data",
     "data": {
      "text/plain": [
       "<IPython.core.display.HTML object>"
      ],
      "text/html": [
       "<li><a href='http://postnauka.ru/video/9998'>http://postnauka.ru/video/9998</a></li>"
      ]
     },
     "metadata": {}
    },
    {
     "output_type": "display_data",
     "data": {
      "text/plain": [
       "<IPython.core.display.HTML object>"
      ],
      "text/html": [
       "<li><a href='http://postnauka.ru/video/33885'>http://postnauka.ru/video/33885</a></li>"
      ]
     },
     "metadata": {}
    },
    {
     "output_type": "display_data",
     "data": {
      "text/plain": [
       "<IPython.core.display.HTML object>"
      ],
      "text/html": [
       "<li><a href='http://postnauka.ru/video/12172'>http://postnauka.ru/video/12172</a></li>"
      ]
     },
     "metadata": {}
    },
    {
     "output_type": "display_data",
     "data": {
      "text/plain": [
       "<IPython.core.display.HTML object>"
      ],
      "text/html": [
       "<li><a href='http://postnauka.ru/video/26228'>http://postnauka.ru/video/26228</a></li>"
      ]
     },
     "metadata": {}
    },
    {
     "output_type": "display_data",
     "data": {
      "text/plain": [
       "<IPython.core.display.HTML object>"
      ],
      "text/html": [
       "<li><a href='http://postnauka.ru/video/34964'>http://postnauka.ru/video/34964</a></li>"
      ]
     },
     "metadata": {}
    },
    {
     "output_type": "display_data",
     "data": {
      "text/plain": [
       "<IPython.core.display.HTML object>"
      ],
      "text/html": [
       "<li><a href='http://postnauka.ru/video/47810'>http://postnauka.ru/video/47810</a></li>"
      ]
     },
     "metadata": {}
    },
    {
     "output_type": "display_data",
     "data": {
      "text/plain": [
       "<IPython.core.display.HTML object>"
      ],
      "text/html": [
       "<li><a href='http://postnauka.ru/video/55303'>http://postnauka.ru/video/55303</a></li>"
      ]
     },
     "metadata": {}
    },
    {
     "output_type": "display_data",
     "data": {
      "text/plain": [
       "<IPython.core.display.HTML object>"
      ],
      "text/html": [
       "</ul>"
      ]
     },
     "metadata": {}
    },
    {
     "output_type": "display_data",
     "data": {
      "text/plain": [
       "<IPython.core.display.HTML object>"
      ],
      "text/html": [
       "<h1>письменность</h1>"
      ]
     },
     "metadata": {}
    },
    {
     "output_type": "stream",
     "name": "stdout",
     "text": [
      "Территория, древний, восток, империя, письменность, северный, китай, памятник, письмо, население, восточный, южный, китайский, регион, местный\n"
     ]
    },
    {
     "output_type": "display_data",
     "data": {
      "text/plain": [
       "<IPython.core.display.HTML object>"
      ],
      "text/html": [
       "<ul>"
      ]
     },
     "metadata": {}
    },
    {
     "output_type": "display_data",
     "data": {
      "text/plain": [
       "<IPython.core.display.HTML object>"
      ],
      "text/html": [
       "<li><a href='http://postnauka.ru/video/53171'>http://postnauka.ru/video/53171</a></li>"
      ]
     },
     "metadata": {}
    },
    {
     "output_type": "display_data",
     "data": {
      "text/plain": [
       "<IPython.core.display.HTML object>"
      ],
      "text/html": [
       "<li><a href='http://postnauka.ru/video/5891'>http://postnauka.ru/video/5891</a></li>"
      ]
     },
     "metadata": {}
    },
    {
     "output_type": "display_data",
     "data": {
      "text/plain": [
       "<IPython.core.display.HTML object>"
      ],
      "text/html": [
       "<li><a href='http://postnauka.ru/video/59201'>http://postnauka.ru/video/59201</a></li>"
      ]
     },
     "metadata": {}
    },
    {
     "output_type": "display_data",
     "data": {
      "text/plain": [
       "<IPython.core.display.HTML object>"
      ],
      "text/html": [
       "<li><a href='http://postnauka.ru/video/2527'>http://postnauka.ru/video/2527</a></li>"
      ]
     },
     "metadata": {}
    },
    {
     "output_type": "display_data",
     "data": {
      "text/plain": [
       "<IPython.core.display.HTML object>"
      ],
      "text/html": [
       "<li><a href='http://postnauka.ru/video/51380'>http://postnauka.ru/video/51380</a></li>"
      ]
     },
     "metadata": {}
    },
    {
     "output_type": "display_data",
     "data": {
      "text/plain": [
       "<IPython.core.display.HTML object>"
      ],
      "text/html": [
       "<li><a href='http://postnauka.ru/video/17041'>http://postnauka.ru/video/17041</a></li>"
      ]
     },
     "metadata": {}
    },
    {
     "output_type": "display_data",
     "data": {
      "text/plain": [
       "<IPython.core.display.HTML object>"
      ],
      "text/html": [
       "<li><a href='http://postnauka.ru/video/56302'>http://postnauka.ru/video/56302</a></li>"
      ]
     },
     "metadata": {}
    },
    {
     "output_type": "display_data",
     "data": {
      "text/plain": [
       "<IPython.core.display.HTML object>"
      ],
      "text/html": [
       "<li><a href='http://postnauka.ru/video/6377'>http://postnauka.ru/video/6377</a></li>"
      ]
     },
     "metadata": {}
    },
    {
     "output_type": "display_data",
     "data": {
      "text/plain": [
       "<IPython.core.display.HTML object>"
      ],
      "text/html": [
       "<li><a href='http://postnauka.ru/video/45458'>http://postnauka.ru/video/45458</a></li>"
      ]
     },
     "metadata": {}
    },
    {
     "output_type": "display_data",
     "data": {
      "text/plain": [
       "<IPython.core.display.HTML object>"
      ],
      "text/html": [
       "<li><a href='http://postnauka.ru/video/52958'>http://postnauka.ru/video/52958</a></li>"
      ]
     },
     "metadata": {}
    },
    {
     "output_type": "display_data",
     "data": {
      "text/plain": [
       "<IPython.core.display.HTML object>"
      ],
      "text/html": [
       "</ul>"
      ]
     },
     "metadata": {}
    },
    {
     "output_type": "display_data",
     "data": {
      "text/plain": [
       "<IPython.core.display.HTML object>"
      ],
      "text/html": [
       "<h1>клеточная теория и биология</h1>"
      ]
     },
     "metadata": {}
    },
    {
     "output_type": "stream",
     "name": "stdout",
     "text": [
      "Клетка, ген, днк, белок, генетический, организм, молекула, биологический, молекулярный, геном, бактерия, ткань, рнк, мутация, биология\n"
     ]
    },
    {
     "output_type": "display_data",
     "data": {
      "text/plain": [
       "<IPython.core.display.HTML object>"
      ],
      "text/html": [
       "<ul>"
      ]
     },
     "metadata": {}
    },
    {
     "output_type": "display_data",
     "data": {
      "text/plain": [
       "<IPython.core.display.HTML object>"
      ],
      "text/html": [
       "<li><a href='http://postnauka.ru/video/5915'>http://postnauka.ru/video/5915</a></li>"
      ]
     },
     "metadata": {}
    },
    {
     "output_type": "display_data",
     "data": {
      "text/plain": [
       "<IPython.core.display.HTML object>"
      ],
      "text/html": [
       "<li><a href='http://postnauka.ru/video/5390'>http://postnauka.ru/video/5390</a></li>"
      ]
     },
     "metadata": {}
    },
    {
     "output_type": "display_data",
     "data": {
      "text/plain": [
       "<IPython.core.display.HTML object>"
      ],
      "text/html": [
       "<li><a href='http://postnauka.ru/video/19436'>http://postnauka.ru/video/19436</a></li>"
      ]
     },
     "metadata": {}
    },
    {
     "output_type": "display_data",
     "data": {
      "text/plain": [
       "<IPython.core.display.HTML object>"
      ],
      "text/html": [
       "<li><a href='http://postnauka.ru/video/17051'>http://postnauka.ru/video/17051</a></li>"
      ]
     },
     "metadata": {}
    },
    {
     "output_type": "display_data",
     "data": {
      "text/plain": [
       "<IPython.core.display.HTML object>"
      ],
      "text/html": [
       "<li><a href='http://postnauka.ru/video/16156'>http://postnauka.ru/video/16156</a></li>"
      ]
     },
     "metadata": {}
    },
    {
     "output_type": "display_data",
     "data": {
      "text/plain": [
       "<IPython.core.display.HTML object>"
      ],
      "text/html": [
       "<li><a href='http://postnauka.ru/video/35051'>http://postnauka.ru/video/35051</a></li>"
      ]
     },
     "metadata": {}
    },
    {
     "output_type": "display_data",
     "data": {
      "text/plain": [
       "<IPython.core.display.HTML object>"
      ],
      "text/html": [
       "<li><a href='http://postnauka.ru/video/10475'>http://postnauka.ru/video/10475</a></li>"
      ]
     },
     "metadata": {}
    },
    {
     "output_type": "display_data",
     "data": {
      "text/plain": [
       "<IPython.core.display.HTML object>"
      ],
      "text/html": [
       "<li><a href='http://postnauka.ru/video/35461'>http://postnauka.ru/video/35461</a></li>"
      ]
     },
     "metadata": {}
    },
    {
     "output_type": "display_data",
     "data": {
      "text/plain": [
       "<IPython.core.display.HTML object>"
      ],
      "text/html": [
       "<li><a href='http://postnauka.ru/video/37537'>http://postnauka.ru/video/37537</a></li>"
      ]
     },
     "metadata": {}
    },
    {
     "output_type": "display_data",
     "data": {
      "text/plain": [
       "<IPython.core.display.HTML object>"
      ],
      "text/html": [
       "<li><a href='http://postnauka.ru/video/11628'>http://postnauka.ru/video/11628</a></li>"
      ]
     },
     "metadata": {}
    },
    {
     "output_type": "display_data",
     "data": {
      "text/plain": [
       "<IPython.core.display.HTML object>"
      ],
      "text/html": [
       "</ul>"
      ]
     },
     "metadata": {}
    },
    {
     "output_type": "display_data",
     "data": {
      "text/plain": [
       "<IPython.core.display.HTML object>"
      ],
      "text/html": [
       "<h1>квантовая теория</h1>"
      ]
     },
     "metadata": {}
    },
    {
     "output_type": "stream",
     "name": "stdout",
     "text": [
      "Квантовый, поле, свет, магнитный, волна, атом, электрон, эффект, фотон, измерение, оптический, частота, ток, импульс, жидкость\n"
     ]
    },
    {
     "output_type": "display_data",
     "data": {
      "text/plain": [
       "<IPython.core.display.HTML object>"
      ],
      "text/html": [
       "<ul>"
      ]
     },
     "metadata": {}
    },
    {
     "output_type": "display_data",
     "data": {
      "text/plain": [
       "<IPython.core.display.HTML object>"
      ],
      "text/html": [
       "<li><a href='http://postnauka.ru/video/25875'>http://postnauka.ru/video/25875</a></li>"
      ]
     },
     "metadata": {}
    },
    {
     "output_type": "display_data",
     "data": {
      "text/plain": [
       "<IPython.core.display.HTML object>"
      ],
      "text/html": [
       "<li><a href='http://postnauka.ru/video/21662'>http://postnauka.ru/video/21662</a></li>"
      ]
     },
     "metadata": {}
    },
    {
     "output_type": "display_data",
     "data": {
      "text/plain": [
       "<IPython.core.display.HTML object>"
      ],
      "text/html": [
       "<li><a href='http://postnauka.ru/video/19457'>http://postnauka.ru/video/19457</a></li>"
      ]
     },
     "metadata": {}
    },
    {
     "output_type": "display_data",
     "data": {
      "text/plain": [
       "<IPython.core.display.HTML object>"
      ],
      "text/html": [
       "<li><a href='http://postnauka.ru/video/25902'>http://postnauka.ru/video/25902</a></li>"
      ]
     },
     "metadata": {}
    },
    {
     "output_type": "display_data",
     "data": {
      "text/plain": [
       "<IPython.core.display.HTML object>"
      ],
      "text/html": [
       "<li><a href='http://postnauka.ru/video/19509'>http://postnauka.ru/video/19509</a></li>"
      ]
     },
     "metadata": {}
    },
    {
     "output_type": "display_data",
     "data": {
      "text/plain": [
       "<IPython.core.display.HTML object>"
      ],
      "text/html": [
       "<li><a href='http://postnauka.ru/video/36187'>http://postnauka.ru/video/36187</a></li>"
      ]
     },
     "metadata": {}
    },
    {
     "output_type": "display_data",
     "data": {
      "text/plain": [
       "<IPython.core.display.HTML object>"
      ],
      "text/html": [
       "<li><a href='http://postnauka.ru/video/24434'>http://postnauka.ru/video/24434</a></li>"
      ]
     },
     "metadata": {}
    },
    {
     "output_type": "display_data",
     "data": {
      "text/plain": [
       "<IPython.core.display.HTML object>"
      ],
      "text/html": [
       "<li><a href='http://postnauka.ru/video/51174'>http://postnauka.ru/video/51174</a></li>"
      ]
     },
     "metadata": {}
    },
    {
     "output_type": "display_data",
     "data": {
      "text/plain": [
       "<IPython.core.display.HTML object>"
      ],
      "text/html": [
       "<li><a href='http://postnauka.ru/video/26609'>http://postnauka.ru/video/26609</a></li>"
      ]
     },
     "metadata": {}
    },
    {
     "output_type": "display_data",
     "data": {
      "text/plain": [
       "<IPython.core.display.HTML object>"
      ],
      "text/html": [
       "<li><a href='http://postnauka.ru/video/23335'>http://postnauka.ru/video/23335</a></li>"
      ]
     },
     "metadata": {}
    },
    {
     "output_type": "display_data",
     "data": {
      "text/plain": [
       "<IPython.core.display.HTML object>"
      ],
      "text/html": [
       "</ul>"
      ]
     },
     "metadata": {}
    },
    {
     "output_type": "display_data",
     "data": {
      "text/plain": [
       "<IPython.core.display.HTML object>"
      ],
      "text/html": [
       "<h1>философия и литература</h1>"
      ]
     },
     "metadata": {}
    },
    {
     "output_type": "stream",
     "name": "stdout",
     "text": [
      "Культура, философия, литература, философский, философ, произведение, литературный, автор, роман, платон, писать, писатель, поэт, критика, мысль\n"
     ]
    },
    {
     "output_type": "display_data",
     "data": {
      "text/plain": [
       "<IPython.core.display.HTML object>"
      ],
      "text/html": [
       "<ul>"
      ]
     },
     "metadata": {}
    },
    {
     "output_type": "display_data",
     "data": {
      "text/plain": [
       "<IPython.core.display.HTML object>"
      ],
      "text/html": [
       "<li><a href='http://postnauka.ru/video/2529'>http://postnauka.ru/video/2529</a></li>"
      ]
     },
     "metadata": {}
    },
    {
     "output_type": "display_data",
     "data": {
      "text/plain": [
       "<IPython.core.display.HTML object>"
      ],
      "text/html": [
       "<li><a href='http://postnauka.ru/video/2524'>http://postnauka.ru/video/2524</a></li>"
      ]
     },
     "metadata": {}
    },
    {
     "output_type": "display_data",
     "data": {
      "text/plain": [
       "<IPython.core.display.HTML object>"
      ],
      "text/html": [
       "<li><a href='http://postnauka.ru/video/12738'>http://postnauka.ru/video/12738</a></li>"
      ]
     },
     "metadata": {}
    },
    {
     "output_type": "display_data",
     "data": {
      "text/plain": [
       "<IPython.core.display.HTML object>"
      ],
      "text/html": [
       "<li><a href='http://postnauka.ru/video/7764'>http://postnauka.ru/video/7764</a></li>"
      ]
     },
     "metadata": {}
    },
    {
     "output_type": "display_data",
     "data": {
      "text/plain": [
       "<IPython.core.display.HTML object>"
      ],
      "text/html": [
       "<li><a href='http://postnauka.ru/video/9728'>http://postnauka.ru/video/9728</a></li>"
      ]
     },
     "metadata": {}
    },
    {
     "output_type": "display_data",
     "data": {
      "text/plain": [
       "<IPython.core.display.HTML object>"
      ],
      "text/html": [
       "<li><a href='http://postnauka.ru/video/23834'>http://postnauka.ru/video/23834</a></li>"
      ]
     },
     "metadata": {}
    },
    {
     "output_type": "display_data",
     "data": {
      "text/plain": [
       "<IPython.core.display.HTML object>"
      ],
      "text/html": [
       "<li><a href='http://postnauka.ru/video/32664'>http://postnauka.ru/video/32664</a></li>"
      ]
     },
     "metadata": {}
    },
    {
     "output_type": "display_data",
     "data": {
      "text/plain": [
       "<IPython.core.display.HTML object>"
      ],
      "text/html": [
       "<li><a href='http://postnauka.ru/video/26234'>http://postnauka.ru/video/26234</a></li>"
      ]
     },
     "metadata": {}
    },
    {
     "output_type": "display_data",
     "data": {
      "text/plain": [
       "<IPython.core.display.HTML object>"
      ],
      "text/html": [
       "<li><a href='http://postnauka.ru/video/53513'>http://postnauka.ru/video/53513</a></li>"
      ]
     },
     "metadata": {}
    },
    {
     "output_type": "display_data",
     "data": {
      "text/plain": [
       "<IPython.core.display.HTML object>"
      ],
      "text/html": [
       "<li><a href='http://postnauka.ru/video/13181'>http://postnauka.ru/video/13181</a></li>"
      ]
     },
     "metadata": {}
    },
    {
     "output_type": "display_data",
     "data": {
      "text/plain": [
       "<IPython.core.display.HTML object>"
      ],
      "text/html": [
       "</ul>"
      ]
     },
     "metadata": {}
    },
    {
     "output_type": "display_data",
     "data": {
      "text/plain": [
       "<IPython.core.display.HTML object>"
      ],
      "text/html": [
       "<h1>история и государственность</h1>"
      ]
     },
     "metadata": {}
    },
    {
     "output_type": "stream",
     "name": "stdout",
     "text": [
      "Революция, страна, государственный, король, французский, реформа, петр, франция, историк, против, сталин, смерть, крестьянин, кризис, гражданин\n"
     ]
    },
    {
     "output_type": "display_data",
     "data": {
      "text/plain": [
       "<IPython.core.display.HTML object>"
      ],
      "text/html": [
       "<ul>"
      ]
     },
     "metadata": {}
    },
    {
     "output_type": "display_data",
     "data": {
      "text/plain": [
       "<IPython.core.display.HTML object>"
      ],
      "text/html": [
       "<li><a href='http://postnauka.ru/video/53577'>http://postnauka.ru/video/53577</a></li>"
      ]
     },
     "metadata": {}
    },
    {
     "output_type": "display_data",
     "data": {
      "text/plain": [
       "<IPython.core.display.HTML object>"
      ],
      "text/html": [
       "<li><a href='http://postnauka.ru/video/36246'>http://postnauka.ru/video/36246</a></li>"
      ]
     },
     "metadata": {}
    },
    {
     "output_type": "display_data",
     "data": {
      "text/plain": [
       "<IPython.core.display.HTML object>"
      ],
      "text/html": [
       "<li><a href='http://postnauka.ru/video/48492'>http://postnauka.ru/video/48492</a></li>"
      ]
     },
     "metadata": {}
    },
    {
     "output_type": "display_data",
     "data": {
      "text/plain": [
       "<IPython.core.display.HTML object>"
      ],
      "text/html": [
       "<li><a href='http://postnauka.ru/video/47823'>http://postnauka.ru/video/47823</a></li>"
      ]
     },
     "metadata": {}
    },
    {
     "output_type": "display_data",
     "data": {
      "text/plain": [
       "<IPython.core.display.HTML object>"
      ],
      "text/html": [
       "<li><a href='http://postnauka.ru/video/51331'>http://postnauka.ru/video/51331</a></li>"
      ]
     },
     "metadata": {}
    },
    {
     "output_type": "display_data",
     "data": {
      "text/plain": [
       "<IPython.core.display.HTML object>"
      ],
      "text/html": [
       "<li><a href='http://postnauka.ru/video/54175'>http://postnauka.ru/video/54175</a></li>"
      ]
     },
     "metadata": {}
    },
    {
     "output_type": "display_data",
     "data": {
      "text/plain": [
       "<IPython.core.display.HTML object>"
      ],
      "text/html": [
       "<li><a href='http://postnauka.ru/video/50656'>http://postnauka.ru/video/50656</a></li>"
      ]
     },
     "metadata": {}
    },
    {
     "output_type": "display_data",
     "data": {
      "text/plain": [
       "<IPython.core.display.HTML object>"
      ],
      "text/html": [
       "<li><a href='http://postnauka.ru/video/25882'>http://postnauka.ru/video/25882</a></li>"
      ]
     },
     "metadata": {}
    },
    {
     "output_type": "display_data",
     "data": {
      "text/plain": [
       "<IPython.core.display.HTML object>"
      ],
      "text/html": [
       "<li><a href='http://postnauka.ru/video/1893'>http://postnauka.ru/video/1893</a></li>"
      ]
     },
     "metadata": {}
    },
    {
     "output_type": "display_data",
     "data": {
      "text/plain": [
       "<IPython.core.display.HTML object>"
      ],
      "text/html": [
       "<li><a href='http://postnauka.ru/video/58542'>http://postnauka.ru/video/58542</a></li>"
      ]
     },
     "metadata": {}
    },
    {
     "output_type": "display_data",
     "data": {
      "text/plain": [
       "<IPython.core.display.HTML object>"
      ],
      "text/html": [
       "</ul>"
      ]
     },
     "metadata": {}
    },
    {
     "output_type": "display_data",
     "data": {
      "text/plain": [
       "<IPython.core.display.HTML object>"
      ],
      "text/html": [
       "<h1>СССР</h1>"
      ]
     },
     "metadata": {}
    },
    {
     "output_type": "stream",
     "name": "stdout",
     "text": [
      "Война, россия, советский, мировой, союз, военный, гражданский, песня, армия, обряд, самка, ссср, самец, эмиграция, большевик\n"
     ]
    },
    {
     "output_type": "display_data",
     "data": {
      "text/plain": [
       "<IPython.core.display.HTML object>"
      ],
      "text/html": [
       "<ul>"
      ]
     },
     "metadata": {}
    },
    {
     "output_type": "display_data",
     "data": {
      "text/plain": [
       "<IPython.core.display.HTML object>"
      ],
      "text/html": [
       "<li><a href='http://postnauka.ru/video/25906'>http://postnauka.ru/video/25906</a></li>"
      ]
     },
     "metadata": {}
    },
    {
     "output_type": "display_data",
     "data": {
      "text/plain": [
       "<IPython.core.display.HTML object>"
      ],
      "text/html": [
       "<li><a href='http://postnauka.ru/video/25097'>http://postnauka.ru/video/25097</a></li>"
      ]
     },
     "metadata": {}
    },
    {
     "output_type": "display_data",
     "data": {
      "text/plain": [
       "<IPython.core.display.HTML object>"
      ],
      "text/html": [
       "<li><a href='http://postnauka.ru/video/34413'>http://postnauka.ru/video/34413</a></li>"
      ]
     },
     "metadata": {}
    },
    {
     "output_type": "display_data",
     "data": {
      "text/plain": [
       "<IPython.core.display.HTML object>"
      ],
      "text/html": [
       "<li><a href='http://postnauka.ru/video/46939'>http://postnauka.ru/video/46939</a></li>"
      ]
     },
     "metadata": {}
    },
    {
     "output_type": "display_data",
     "data": {
      "text/plain": [
       "<IPython.core.display.HTML object>"
      ],
      "text/html": [
       "<li><a href='http://postnauka.ru/video/52936'>http://postnauka.ru/video/52936</a></li>"
      ]
     },
     "metadata": {}
    },
    {
     "output_type": "display_data",
     "data": {
      "text/plain": [
       "<IPython.core.display.HTML object>"
      ],
      "text/html": [
       "<li><a href='http://postnauka.ru/video/30261'>http://postnauka.ru/video/30261</a></li>"
      ]
     },
     "metadata": {}
    },
    {
     "output_type": "display_data",
     "data": {
      "text/plain": [
       "<IPython.core.display.HTML object>"
      ],
      "text/html": [
       "<li><a href='http://postnauka.ru/video/57259'>http://postnauka.ru/video/57259</a></li>"
      ]
     },
     "metadata": {}
    },
    {
     "output_type": "display_data",
     "data": {
      "text/plain": [
       "<IPython.core.display.HTML object>"
      ],
      "text/html": [
       "<li><a href='http://postnauka.ru/video/47816'>http://postnauka.ru/video/47816</a></li>"
      ]
     },
     "metadata": {}
    },
    {
     "output_type": "display_data",
     "data": {
      "text/plain": [
       "<IPython.core.display.HTML object>"
      ],
      "text/html": [
       "<li><a href='http://postnauka.ru/video/41680'>http://postnauka.ru/video/41680</a></li>"
      ]
     },
     "metadata": {}
    },
    {
     "output_type": "display_data",
     "data": {
      "text/plain": [
       "<IPython.core.display.HTML object>"
      ],
      "text/html": [
       "<li><a href='http://postnauka.ru/video/55219'>http://postnauka.ru/video/55219</a></li>"
      ]
     },
     "metadata": {}
    },
    {
     "output_type": "display_data",
     "data": {
      "text/plain": [
       "<IPython.core.display.HTML object>"
      ],
      "text/html": [
       "</ul>"
      ]
     },
     "metadata": {}
    },
    {
     "output_type": "display_data",
     "data": {
      "text/plain": [
       "<IPython.core.display.HTML object>"
      ],
      "text/html": [
       "<h1>христианство и язык</h1>"
      ]
     },
     "metadata": {}
    },
    {
     "output_type": "stream",
     "name": "stdout",
     "text": [
      "Язык, христианский, христианство, лингвист, глагол, лингвистика, языковой, христианин, грамматика, английский, лингвистический, филологический, арабский, падеж, сирийский\n"
     ]
    },
    {
     "output_type": "display_data",
     "data": {
      "text/plain": [
       "<IPython.core.display.HTML object>"
      ],
      "text/html": [
       "<ul>"
      ]
     },
     "metadata": {}
    },
    {
     "output_type": "display_data",
     "data": {
      "text/plain": [
       "<IPython.core.display.HTML object>"
      ],
      "text/html": [
       "<li><a href='http://postnauka.ru/video/7755'>http://postnauka.ru/video/7755</a></li>"
      ]
     },
     "metadata": {}
    },
    {
     "output_type": "display_data",
     "data": {
      "text/plain": [
       "<IPython.core.display.HTML object>"
      ],
      "text/html": [
       "<li><a href='http://postnauka.ru/video/13041'>http://postnauka.ru/video/13041</a></li>"
      ]
     },
     "metadata": {}
    },
    {
     "output_type": "display_data",
     "data": {
      "text/plain": [
       "<IPython.core.display.HTML object>"
      ],
      "text/html": [
       "<li><a href='http://postnauka.ru/video/55301'>http://postnauka.ru/video/55301</a></li>"
      ]
     },
     "metadata": {}
    },
    {
     "output_type": "display_data",
     "data": {
      "text/plain": [
       "<IPython.core.display.HTML object>"
      ],
      "text/html": [
       "<li><a href='http://postnauka.ru/video/10473'>http://postnauka.ru/video/10473</a></li>"
      ]
     },
     "metadata": {}
    },
    {
     "output_type": "display_data",
     "data": {
      "text/plain": [
       "<IPython.core.display.HTML object>"
      ],
      "text/html": [
       "<li><a href='http://postnauka.ru/video/52778'>http://postnauka.ru/video/52778</a></li>"
      ]
     },
     "metadata": {}
    },
    {
     "output_type": "display_data",
     "data": {
      "text/plain": [
       "<IPython.core.display.HTML object>"
      ],
      "text/html": [
       "<li><a href='http://postnauka.ru/video/16157'>http://postnauka.ru/video/16157</a></li>"
      ]
     },
     "metadata": {}
    },
    {
     "output_type": "display_data",
     "data": {
      "text/plain": [
       "<IPython.core.display.HTML object>"
      ],
      "text/html": [
       "<li><a href='http://postnauka.ru/video/53169'>http://postnauka.ru/video/53169</a></li>"
      ]
     },
     "metadata": {}
    },
    {
     "output_type": "display_data",
     "data": {
      "text/plain": [
       "<IPython.core.display.HTML object>"
      ],
      "text/html": [
       "<li><a href='http://postnauka.ru/video/2957'>http://postnauka.ru/video/2957</a></li>"
      ]
     },
     "metadata": {}
    },
    {
     "output_type": "display_data",
     "data": {
      "text/plain": [
       "<IPython.core.display.HTML object>"
      ],
      "text/html": [
       "<li><a href='http://postnauka.ru/video/22433'>http://postnauka.ru/video/22433</a></li>"
      ]
     },
     "metadata": {}
    },
    {
     "output_type": "display_data",
     "data": {
      "text/plain": [
       "<IPython.core.display.HTML object>"
      ],
      "text/html": [
       "<li><a href='http://postnauka.ru/video/9556'>http://postnauka.ru/video/9556</a></li>"
      ]
     },
     "metadata": {}
    },
    {
     "output_type": "display_data",
     "data": {
      "text/plain": [
       "<IPython.core.display.HTML object>"
      ],
      "text/html": [
       "</ul>"
      ]
     },
     "metadata": {}
    },
    {
     "output_type": "display_data",
     "data": {
      "text/plain": [
       "<IPython.core.display.HTML object>"
      ],
      "text/html": [
       "<h1>математика</h1>"
      ]
     },
     "metadata": {}
    },
    {
     "output_type": "stream",
     "name": "stdout",
     "text": [
      "Теория, пространство, математический, матрица, уравнение, математика, описание, описывать, теоретический, линейный, эйнштейн, относительность, геометрия, механика, математик\n"
     ]
    },
    {
     "output_type": "display_data",
     "data": {
      "text/plain": [
       "<IPython.core.display.HTML object>"
      ],
      "text/html": [
       "<ul>"
      ]
     },
     "metadata": {}
    },
    {
     "output_type": "display_data",
     "data": {
      "text/plain": [
       "<IPython.core.display.HTML object>"
      ],
      "text/html": [
       "<li><a href='http://postnauka.ru/video/3388'>http://postnauka.ru/video/3388</a></li>"
      ]
     },
     "metadata": {}
    },
    {
     "output_type": "display_data",
     "data": {
      "text/plain": [
       "<IPython.core.display.HTML object>"
      ],
      "text/html": [
       "<li><a href='http://postnauka.ru/video/57128'>http://postnauka.ru/video/57128</a></li>"
      ]
     },
     "metadata": {}
    },
    {
     "output_type": "display_data",
     "data": {
      "text/plain": [
       "<IPython.core.display.HTML object>"
      ],
      "text/html": [
       "<li><a href='http://postnauka.ru/video/36804'>http://postnauka.ru/video/36804</a></li>"
      ]
     },
     "metadata": {}
    },
    {
     "output_type": "display_data",
     "data": {
      "text/plain": [
       "<IPython.core.display.HTML object>"
      ],
      "text/html": [
       "<li><a href='http://postnauka.ru/video/55069'>http://postnauka.ru/video/55069</a></li>"
      ]
     },
     "metadata": {}
    },
    {
     "output_type": "display_data",
     "data": {
      "text/plain": [
       "<IPython.core.display.HTML object>"
      ],
      "text/html": [
       "<li><a href='http://postnauka.ru/video/18086'>http://postnauka.ru/video/18086</a></li>"
      ]
     },
     "metadata": {}
    },
    {
     "output_type": "display_data",
     "data": {
      "text/plain": [
       "<IPython.core.display.HTML object>"
      ],
      "text/html": [
       "<li><a href='http://postnauka.ru/video/18085'>http://postnauka.ru/video/18085</a></li>"
      ]
     },
     "metadata": {}
    },
    {
     "output_type": "display_data",
     "data": {
      "text/plain": [
       "<IPython.core.display.HTML object>"
      ],
      "text/html": [
       "<li><a href='http://postnauka.ru/video/19456'>http://postnauka.ru/video/19456</a></li>"
      ]
     },
     "metadata": {}
    },
    {
     "output_type": "display_data",
     "data": {
      "text/plain": [
       "<IPython.core.display.HTML object>"
      ],
      "text/html": [
       "<li><a href='http://postnauka.ru/video/7032'>http://postnauka.ru/video/7032</a></li>"
      ]
     },
     "metadata": {}
    },
    {
     "output_type": "display_data",
     "data": {
      "text/plain": [
       "<IPython.core.display.HTML object>"
      ],
      "text/html": [
       "<li><a href='http://postnauka.ru/video/51371'>http://postnauka.ru/video/51371</a></li>"
      ]
     },
     "metadata": {}
    },
    {
     "output_type": "display_data",
     "data": {
      "text/plain": [
       "<IPython.core.display.HTML object>"
      ],
      "text/html": [
       "<li><a href='http://postnauka.ru/video/11651'>http://postnauka.ru/video/11651</a></li>"
      ]
     },
     "metadata": {}
    },
    {
     "output_type": "display_data",
     "data": {
      "text/plain": [
       "<IPython.core.display.HTML object>"
      ],
      "text/html": [
       "</ul>"
      ]
     },
     "metadata": {}
    },
    {
     "output_type": "display_data",
     "data": {
      "text/plain": [
       "<IPython.core.display.HTML object>"
      ],
      "text/html": [
       "<h1>театр</h1>"
      ]
     },
     "metadata": {}
    },
    {
     "output_type": "stream",
     "name": "stdout",
     "text": [
      "Театр, костюм, пьеса, актер, сцена, театральный, фильтр, телесный, скелет, зритель, одежда, порнография, термоэлектрический, зуб, чувствительность\n"
     ]
    },
    {
     "output_type": "display_data",
     "data": {
      "text/plain": [
       "<IPython.core.display.HTML object>"
      ],
      "text/html": [
       "<ul>"
      ]
     },
     "metadata": {}
    },
    {
     "output_type": "display_data",
     "data": {
      "text/plain": [
       "<IPython.core.display.HTML object>"
      ],
      "text/html": [
       "<li><a href='http://postnauka.ru/video/40004'>http://postnauka.ru/video/40004</a></li>"
      ]
     },
     "metadata": {}
    },
    {
     "output_type": "display_data",
     "data": {
      "text/plain": [
       "<IPython.core.display.HTML object>"
      ],
      "text/html": [
       "<li><a href='http://postnauka.ru/video/43843'>http://postnauka.ru/video/43843</a></li>"
      ]
     },
     "metadata": {}
    },
    {
     "output_type": "display_data",
     "data": {
      "text/plain": [
       "<IPython.core.display.HTML object>"
      ],
      "text/html": [
       "<li><a href='http://postnauka.ru/video/31228'>http://postnauka.ru/video/31228</a></li>"
      ]
     },
     "metadata": {}
    },
    {
     "output_type": "display_data",
     "data": {
      "text/plain": [
       "<IPython.core.display.HTML object>"
      ],
      "text/html": [
       "<li><a href='http://postnauka.ru/video/49866'>http://postnauka.ru/video/49866</a></li>"
      ]
     },
     "metadata": {}
    },
    {
     "output_type": "display_data",
     "data": {
      "text/plain": [
       "<IPython.core.display.HTML object>"
      ],
      "text/html": [
       "<li><a href='http://postnauka.ru/video/57127'>http://postnauka.ru/video/57127</a></li>"
      ]
     },
     "metadata": {}
    },
    {
     "output_type": "display_data",
     "data": {
      "text/plain": [
       "<IPython.core.display.HTML object>"
      ],
      "text/html": [
       "<li><a href='http://postnauka.ru/video/37978'>http://postnauka.ru/video/37978</a></li>"
      ]
     },
     "metadata": {}
    },
    {
     "output_type": "display_data",
     "data": {
      "text/plain": [
       "<IPython.core.display.HTML object>"
      ],
      "text/html": [
       "<li><a href='http://postnauka.ru/video/48624'>http://postnauka.ru/video/48624</a></li>"
      ]
     },
     "metadata": {}
    },
    {
     "output_type": "display_data",
     "data": {
      "text/plain": [
       "<IPython.core.display.HTML object>"
      ],
      "text/html": [
       "<li><a href='http://postnauka.ru/video/13156'>http://postnauka.ru/video/13156</a></li>"
      ]
     },
     "metadata": {}
    },
    {
     "output_type": "display_data",
     "data": {
      "text/plain": [
       "<IPython.core.display.HTML object>"
      ],
      "text/html": [
       "<li><a href='http://postnauka.ru/video/46559'>http://postnauka.ru/video/46559</a></li>"
      ]
     },
     "metadata": {}
    },
    {
     "output_type": "display_data",
     "data": {
      "text/plain": [
       "<IPython.core.display.HTML object>"
      ],
      "text/html": [
       "<li><a href='http://postnauka.ru/video/57524'>http://postnauka.ru/video/57524</a></li>"
      ]
     },
     "metadata": {}
    },
    {
     "output_type": "display_data",
     "data": {
      "text/plain": [
       "<IPython.core.display.HTML object>"
      ],
      "text/html": [
       "</ul>"
      ]
     },
     "metadata": {}
    },
    {
     "output_type": "display_data",
     "data": {
      "text/plain": [
       "<IPython.core.display.HTML object>"
      ],
      "text/html": [
       "<h1>астрономия</h1>"
      ]
     },
     "metadata": {}
    },
    {
     "output_type": "stream",
     "name": "stdout",
     "text": [
      "Звезда, вселенная, скорость, излучение, объект, телескоп, белый, космический, гравитационный, нейтронный, вещество, карлик, темный, спектр, измерять\n"
     ]
    },
    {
     "output_type": "display_data",
     "data": {
      "text/plain": [
       "<IPython.core.display.HTML object>"
      ],
      "text/html": [
       "<ul>"
      ]
     },
     "metadata": {}
    },
    {
     "output_type": "display_data",
     "data": {
      "text/plain": [
       "<IPython.core.display.HTML object>"
      ],
      "text/html": [
       "<li><a href='http://postnauka.ru/video/53693'>http://postnauka.ru/video/53693</a></li>"
      ]
     },
     "metadata": {}
    },
    {
     "output_type": "display_data",
     "data": {
      "text/plain": [
       "<IPython.core.display.HTML object>"
      ],
      "text/html": [
       "<li><a href='http://postnauka.ru/video/6673'>http://postnauka.ru/video/6673</a></li>"
      ]
     },
     "metadata": {}
    },
    {
     "output_type": "display_data",
     "data": {
      "text/plain": [
       "<IPython.core.display.HTML object>"
      ],
      "text/html": [
       "<li><a href='http://postnauka.ru/video/7067'>http://postnauka.ru/video/7067</a></li>"
      ]
     },
     "metadata": {}
    },
    {
     "output_type": "display_data",
     "data": {
      "text/plain": [
       "<IPython.core.display.HTML object>"
      ],
      "text/html": [
       "<li><a href='http://postnauka.ru/video/30015'>http://postnauka.ru/video/30015</a></li>"
      ]
     },
     "metadata": {}
    },
    {
     "output_type": "display_data",
     "data": {
      "text/plain": [
       "<IPython.core.display.HTML object>"
      ],
      "text/html": [
       "<li><a href='http://postnauka.ru/video/17779'>http://postnauka.ru/video/17779</a></li>"
      ]
     },
     "metadata": {}
    },
    {
     "output_type": "display_data",
     "data": {
      "text/plain": [
       "<IPython.core.display.HTML object>"
      ],
      "text/html": [
       "<li><a href='http://postnauka.ru/video/59202'>http://postnauka.ru/video/59202</a></li>"
      ]
     },
     "metadata": {}
    },
    {
     "output_type": "display_data",
     "data": {
      "text/plain": [
       "<IPython.core.display.HTML object>"
      ],
      "text/html": [
       "<li><a href='http://postnauka.ru/video/10756'>http://postnauka.ru/video/10756</a></li>"
      ]
     },
     "metadata": {}
    },
    {
     "output_type": "display_data",
     "data": {
      "text/plain": [
       "<IPython.core.display.HTML object>"
      ],
      "text/html": [
       "<li><a href='http://postnauka.ru/video/19085'>http://postnauka.ru/video/19085</a></li>"
      ]
     },
     "metadata": {}
    },
    {
     "output_type": "display_data",
     "data": {
      "text/plain": [
       "<IPython.core.display.HTML object>"
      ],
      "text/html": [
       "<li><a href='http://postnauka.ru/video/23969'>http://postnauka.ru/video/23969</a></li>"
      ]
     },
     "metadata": {}
    },
    {
     "output_type": "display_data",
     "data": {
      "text/plain": [
       "<IPython.core.display.HTML object>"
      ],
      "text/html": [
       "<li><a href='http://postnauka.ru/video/23500'>http://postnauka.ru/video/23500</a></li>"
      ]
     },
     "metadata": {}
    },
    {
     "output_type": "display_data",
     "data": {
      "text/plain": [
       "<IPython.core.display.HTML object>"
      ],
      "text/html": [
       "</ul>"
      ]
     },
     "metadata": {}
    },
    {
     "output_type": "display_data",
     "data": {
      "text/plain": [
       "<IPython.core.display.HTML object>"
      ],
      "text/html": [
       "<h1>кинематограф</h1>"
      ]
     },
     "metadata": {}
    },
    {
     "output_type": "stream",
     "name": "stdout",
     "text": [
      "Фильм, свобода, кино, кинематограф, культовый, климат, глобальный, тема, классика, вечный, насилие, жанр, радиация, бердяев, климатический\n"
     ]
    },
    {
     "output_type": "display_data",
     "data": {
      "text/plain": [
       "<IPython.core.display.HTML object>"
      ],
      "text/html": [
       "<ul>"
      ]
     },
     "metadata": {}
    },
    {
     "output_type": "display_data",
     "data": {
      "text/plain": [
       "<IPython.core.display.HTML object>"
      ],
      "text/html": [
       "<li><a href='http://postnauka.ru/video/5396'>http://postnauka.ru/video/5396</a></li>"
      ]
     },
     "metadata": {}
    },
    {
     "output_type": "display_data",
     "data": {
      "text/plain": [
       "<IPython.core.display.HTML object>"
      ],
      "text/html": [
       "<li><a href='http://postnauka.ru/video/11246'>http://postnauka.ru/video/11246</a></li>"
      ]
     },
     "metadata": {}
    },
    {
     "output_type": "display_data",
     "data": {
      "text/plain": [
       "<IPython.core.display.HTML object>"
      ],
      "text/html": [
       "<li><a href='http://postnauka.ru/video/9429'>http://postnauka.ru/video/9429</a></li>"
      ]
     },
     "metadata": {}
    },
    {
     "output_type": "display_data",
     "data": {
      "text/plain": [
       "<IPython.core.display.HTML object>"
      ],
      "text/html": [
       "<li><a href='http://postnauka.ru/video/13098'>http://postnauka.ru/video/13098</a></li>"
      ]
     },
     "metadata": {}
    },
    {
     "output_type": "display_data",
     "data": {
      "text/plain": [
       "<IPython.core.display.HTML object>"
      ],
      "text/html": [
       "<li><a href='http://postnauka.ru/video/10779'>http://postnauka.ru/video/10779</a></li>"
      ]
     },
     "metadata": {}
    },
    {
     "output_type": "display_data",
     "data": {
      "text/plain": [
       "<IPython.core.display.HTML object>"
      ],
      "text/html": [
       "<li><a href='http://postnauka.ru/video/39723'>http://postnauka.ru/video/39723</a></li>"
      ]
     },
     "metadata": {}
    },
    {
     "output_type": "display_data",
     "data": {
      "text/plain": [
       "<IPython.core.display.HTML object>"
      ],
      "text/html": [
       "<li><a href='http://postnauka.ru/video/10759'>http://postnauka.ru/video/10759</a></li>"
      ]
     },
     "metadata": {}
    },
    {
     "output_type": "display_data",
     "data": {
      "text/plain": [
       "<IPython.core.display.HTML object>"
      ],
      "text/html": [
       "<li><a href='http://postnauka.ru/video/13541'>http://postnauka.ru/video/13541</a></li>"
      ]
     },
     "metadata": {}
    },
    {
     "output_type": "display_data",
     "data": {
      "text/plain": [
       "<IPython.core.display.HTML object>"
      ],
      "text/html": [
       "<li><a href='http://postnauka.ru/video/7074'>http://postnauka.ru/video/7074</a></li>"
      ]
     },
     "metadata": {}
    },
    {
     "output_type": "display_data",
     "data": {
      "text/plain": [
       "<IPython.core.display.HTML object>"
      ],
      "text/html": [
       "<li><a href='http://postnauka.ru/video/57126'>http://postnauka.ru/video/57126</a></li>"
      ]
     },
     "metadata": {}
    },
    {
     "output_type": "display_data",
     "data": {
      "text/plain": [
       "<IPython.core.display.HTML object>"
      ],
      "text/html": [
       "</ul>"
      ]
     },
     "metadata": {}
    },
    {
     "output_type": "display_data",
     "data": {
      "text/plain": [
       "<IPython.core.display.HTML object>"
      ],
      "text/html": [
       "<h1>Фоновая тема</h1>"
      ]
     },
     "metadata": {}
    },
    {
     "output_type": "stream",
     "name": "stdout",
     "text": [
      "Быть, что, это, который, этот, как, они, мочь, такой, очень, для, человек, или, тот, один\n"
     ]
    },
    {
     "output_type": "display_data",
     "data": {
      "text/plain": [
       "<IPython.core.display.HTML object>"
      ],
      "text/html": [
       "<ul>"
      ]
     },
     "metadata": {}
    },
    {
     "output_type": "display_data",
     "data": {
      "text/plain": [
       "<IPython.core.display.HTML object>"
      ],
      "text/html": [
       "<li><a href='http://postnauka.ru/video/51365'>http://postnauka.ru/video/51365</a></li>"
      ]
     },
     "metadata": {}
    },
    {
     "output_type": "display_data",
     "data": {
      "text/plain": [
       "<IPython.core.display.HTML object>"
      ],
      "text/html": [
       "<li><a href='http://postnauka.ru/video/42436'>http://postnauka.ru/video/42436</a></li>"
      ]
     },
     "metadata": {}
    },
    {
     "output_type": "display_data",
     "data": {
      "text/plain": [
       "<IPython.core.display.HTML object>"
      ],
      "text/html": [
       "<li><a href='http://postnauka.ru/video/58752'>http://postnauka.ru/video/58752</a></li>"
      ]
     },
     "metadata": {}
    },
    {
     "output_type": "display_data",
     "data": {
      "text/plain": [
       "<IPython.core.display.HTML object>"
      ],
      "text/html": [
       "<li><a href='http://postnauka.ru/video/49851'>http://postnauka.ru/video/49851</a></li>"
      ]
     },
     "metadata": {}
    },
    {
     "output_type": "display_data",
     "data": {
      "text/plain": [
       "<IPython.core.display.HTML object>"
      ],
      "text/html": [
       "<li><a href='http://postnauka.ru/video/51184'>http://postnauka.ru/video/51184</a></li>"
      ]
     },
     "metadata": {}
    },
    {
     "output_type": "display_data",
     "data": {
      "text/plain": [
       "<IPython.core.display.HTML object>"
      ],
      "text/html": [
       "<li><a href='http://postnauka.ru/video/12376'>http://postnauka.ru/video/12376</a></li>"
      ]
     },
     "metadata": {}
    },
    {
     "output_type": "display_data",
     "data": {
      "text/plain": [
       "<IPython.core.display.HTML object>"
      ],
      "text/html": [
       "<li><a href='http://postnauka.ru/video/10750'>http://postnauka.ru/video/10750</a></li>"
      ]
     },
     "metadata": {}
    },
    {
     "output_type": "display_data",
     "data": {
      "text/plain": [
       "<IPython.core.display.HTML object>"
      ],
      "text/html": [
       "<li><a href='http://postnauka.ru/video/32670'>http://postnauka.ru/video/32670</a></li>"
      ]
     },
     "metadata": {}
    },
    {
     "output_type": "display_data",
     "data": {
      "text/plain": [
       "<IPython.core.display.HTML object>"
      ],
      "text/html": [
       "<li><a href='http://postnauka.ru/video/31214'>http://postnauka.ru/video/31214</a></li>"
      ]
     },
     "metadata": {}
    },
    {
     "output_type": "display_data",
     "data": {
      "text/plain": [
       "<IPython.core.display.HTML object>"
      ],
      "text/html": [
       "<li><a href='http://postnauka.ru/video/51494'>http://postnauka.ru/video/51494</a></li>"
      ]
     },
     "metadata": {}
    },
    {
     "output_type": "display_data",
     "data": {
      "text/plain": [
       "<IPython.core.display.HTML object>"
      ],
      "text/html": [
       "</ul>"
      ]
     },
     "metadata": {}
    }
   ],
   "metadata": {
    "collapsed": true
   }
  },
  {
   "cell_type": "markdown",
   "source": [
    "##### Заключение"
   ],
   "metadata": {}
  },
  {
   "cell_type": "markdown",
   "source": [
    "В этом Peer Review мы познакомились с базовыми возможностями библиотеки BigARTM и с методами визуализации тематических моделей. Визуализация тематических моделей - это широкая и активно развивающаяся область научных исследований. Мы рассмотрели только самые простые приемы. Желающие могут попробовать применить [Serendip](http://vep.cs.wisc.edu/serendip/#serendipHero), разработанный в  University of Wisconsin-Madison, к построенной модели. Эта библиотека позволяет максимально полно охарактеризовать темы и написана для языка python. \n",
    "\n",
    "Сделав задание, вы можете выбрать в навигаторе наиболее интересную для вас тему и посмотреть видеолекции :) На Постнауке очень много интересных материалов. "
   ],
   "metadata": {}
  }
 ],
 "metadata": {
  "kernelspec": {
   "name": "python3",
   "display_name": "Python 3.7.7 64-bit ('venv': venv)"
  },
  "language_info": {
   "codemirror_mode": {
    "name": "ipython",
    "version": 3
   },
   "file_extension": ".py",
   "mimetype": "text/x-python",
   "name": "python",
   "nbconvert_exporter": "python",
   "pygments_lexer": "ipython3",
   "version": "3.7.7"
  },
  "interpreter": {
   "hash": "62fde4b93298729ed436ba070fd2457ffd31ce485c5f95756476547d88a75ff8"
  }
 },
 "nbformat": 4,
 "nbformat_minor": 1
}