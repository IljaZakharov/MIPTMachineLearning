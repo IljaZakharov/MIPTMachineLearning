{
 "cells": [
  {
   "cell_type": "markdown",
   "source": [
    "# Пример использования библиотеки BigARTM для тематического моделирования\n",
    "## Для Bigartm v0.8.0\n",
    "### Редактировал Максим Чурилин"
   ],
   "metadata": {}
  },
  {
   "cell_type": "markdown",
   "source": [
    "Импортируем BigARTM:"
   ],
   "metadata": {}
  },
  {
   "cell_type": "code",
   "execution_count": 1,
   "source": [
    "from matplotlib import pyplot as plt\n",
    "%matplotlib inline"
   ],
   "outputs": [],
   "metadata": {
    "collapsed": false
   }
  },
  {
   "cell_type": "code",
   "execution_count": 2,
   "source": [
    "import artm"
   ],
   "outputs": [],
   "metadata": {
    "collapsed": true
   }
  },
  {
   "cell_type": "markdown",
   "source": [
    "Первое считывание данных (преобразуем удобный для человека формат в формат, который использует модель):"
   ],
   "metadata": {}
  },
  {
   "cell_type": "code",
   "execution_count": 4,
   "source": [
    "batch_vectorizer = artm.BatchVectorizer(data_path=\"school.txt\", data_format=\"vowpal_wabbit\", target_folder=\"school_batches\", \n",
    "                                       batch_size=100)"
   ],
   "outputs": [],
   "metadata": {
    "collapsed": false
   }
  },
  {
   "cell_type": "markdown",
   "source": [
    "В следующий раз данные можно считывать уже из батчей:"
   ],
   "metadata": {}
  },
  {
   "cell_type": "code",
   "execution_count": 5,
   "source": [
    "batch_vectorizer = artm.BatchVectorizer(data_path=\"school_batches\", data_format='batches')"
   ],
   "outputs": [],
   "metadata": {
    "collapsed": false
   }
  },
  {
   "cell_type": "markdown",
   "source": [
    "Создаем объект модели:"
   ],
   "metadata": {}
  },
  {
   "cell_type": "code",
   "execution_count": 6,
   "source": [
    "T = 10   # количество тем\n",
    "model_artm = artm.ARTM(num_topics=T, topic_names=[\"sbj\"+str(i) for i in range(T)], class_ids={\"text\":1}, \n",
    "                       num_document_passes=1, reuse_theta=True, cache_theta=True, seed=-1)\n",
    "# число после названия модальностей - это их веса"
   ],
   "outputs": [],
   "metadata": {
    "collapsed": false
   }
  },
  {
   "cell_type": "markdown",
   "source": [
    "Создаем словарь и инициализируем модель с его помощью"
   ],
   "metadata": {}
  },
  {
   "cell_type": "code",
   "execution_count": 7,
   "source": [
    "dictionary = artm.Dictionary('dictionary')\n",
    "dictionary.gather(batch_vectorizer.data_path)"
   ],
   "outputs": [],
   "metadata": {
    "collapsed": false
   }
  },
  {
   "cell_type": "code",
   "execution_count": 9,
   "source": [
    "model_artm.scores.add(artm.PerplexityScore(name='PerplexityScore',\n",
    "                                           dictionary='dictionary'))\n",
    "model_artm.scores.add(artm.SparsityPhiScore(name='SparsityPhiScore', class_id=\"text\"))\n",
    "model_artm.scores.add(artm.SparsityThetaScore(name='SparsityThetaScore'))\n",
    "model_artm.scores.add(artm.TopTokensScore(name=\"top_words\", num_tokens=15, class_id=\"text\"))"
   ],
   "outputs": [],
   "metadata": {
    "collapsed": false
   }
  },
  {
   "cell_type": "code",
   "execution_count": 10,
   "source": [
    "model_artm.initialize('dictionary')"
   ],
   "outputs": [],
   "metadata": {
    "collapsed": false
   }
  },
  {
   "cell_type": "markdown",
   "source": [
    "Строим модель. Offline - проходит по всей коллекции много раз. Удобно, когда коллекция маленькая."
   ],
   "metadata": {}
  },
  {
   "cell_type": "code",
   "execution_count": 11,
   "source": [
    "model_artm.fit_offline(batch_vectorizer=batch_vectorizer, num_collection_passes=40)"
   ],
   "outputs": [],
   "metadata": {
    "collapsed": false
   }
  },
  {
   "cell_type": "markdown",
   "source": [
    "Необходимое число итераций можно отслеживать по графику перплексии. Когда она перестала меняться, модель сошлась."
   ],
   "metadata": {}
  },
  {
   "cell_type": "code",
   "execution_count": 12,
   "source": [
    "plt.plot(model_artm.score_tracker[\"PerplexityScore\"].value)"
   ],
   "outputs": [
    {
     "output_type": "execute_result",
     "data": {
      "text/plain": [
       "[<matplotlib.lines.Line2D at 0x7f8542d2c850>]"
      ]
     },
     "metadata": {},
     "execution_count": 12
    },
    {
     "output_type": "display_data",
     "data": {
      "text/plain": [
       "<Figure size 432x288 with 1 Axes>"
      ],
      "image/png": "[encoded data removed]"
     },
     "metadata": {
      "needs_background": "light"
     }
    }
   ],
   "metadata": {
    "collapsed": false
   }
  },
  {
   "cell_type": "markdown",
   "source": [
    "Выведем топы слов:"
   ],
   "metadata": {}
  },
  {
   "cell_type": "code",
   "execution_count": 14,
   "source": [
    "for topic_name in model_artm.topic_names:\n",
    "    print(topic_name + ': ')\n",
    "    tokens = model_artm.score_tracker[\"top_words\"].last_tokens\n",
    "    for word in tokens[topic_name]:    \n",
    "        print(word)\n",
    "    print('')"
   ],
   "outputs": [
    {
     "output_type": "stream",
     "name": "stdout",
     "text": [
      "sbj0: \n",
      "который\n",
      "быть\n",
      "что\n",
      "это\n",
      "человек\n",
      "этот\n",
      "как\n",
      "свой\n",
      "для\n",
      "они\n",
      "его\n",
      "весь\n",
      "такой\n",
      "время\n",
      "себя\n",
      "\n",
      "sbj1: \n",
      "возведение\n",
      "a\n",
      "b\n",
      "множитель\n",
      "раскладывать\n",
      "x\n",
      "выражение\n",
      "умножение\n",
      "скобка\n",
      "разложение\n",
      "сокращенный\n",
      "квадрат\n",
      "ответ\n",
      "переменный\n",
      "целый\n",
      "\n",
      "sbj2: \n",
      "обособление\n",
      "куприн\n",
      "слово\n",
      "раскольников\n",
      "мастер\n",
      "роман\n",
      "словосочетание\n",
      "маргарита\n",
      "подчинительный\n",
      "соня\n",
      "оборот\n",
      "вера\n",
      "браслет\n",
      "старик\n",
      "сантьяго\n",
      "\n",
      "sbj3: \n",
      "который\n",
      "быть\n",
      "год\n",
      "свой\n",
      "время\n",
      "государство\n",
      "человек\n",
      "мир\n",
      "становиться\n",
      "северный\n",
      "жизнь\n",
      "первый\n",
      "война\n",
      "африка\n",
      "ребенок\n",
      "\n",
      "sbj4: \n",
      "x\n",
      "a\n",
      "b\n",
      "уравнение\n",
      "дробь\n",
      "квадратный\n",
      "y\n",
      "степень\n",
      "функция\n",
      "число\n",
      "f\n",
      "решение\n",
      "корень\n",
      "c\n",
      "пример\n",
      "\n",
      "sbj5: \n",
      "быть\n",
      "год\n",
      "пушкин\n",
      "функция\n",
      "свой\n",
      "его\n",
      "русский\n",
      "который\n",
      "поэт\n",
      "империя\n",
      "a\n",
      "культура\n",
      "весь\n",
      "f\n",
      "трение\n",
      "\n",
      "sbj6: \n",
      "сила\n",
      "быть\n",
      "тело\n",
      "энергия\n",
      "поле\n",
      "при\n",
      "магнитный\n",
      "точка\n",
      "географический\n",
      "наречие\n",
      "если\n",
      "частица\n",
      "например\n",
      "заряд\n",
      "величина\n",
      "\n",
      "sbj7: \n",
      "который\n",
      "что\n",
      "это\n",
      "как\n",
      "человек\n",
      "для\n",
      "этот\n",
      "такой\n",
      "быть\n",
      "являться\n",
      "мочь\n",
      "себя\n",
      "она\n",
      "его\n",
      "свой\n",
      "\n",
      "sbj8: \n",
      "который\n",
      "быть\n",
      "что\n",
      "это\n",
      "свой\n",
      "как\n",
      "этот\n",
      "человек\n",
      "для\n",
      "x\n",
      "они\n",
      "такой\n",
      "государство\n",
      "a\n",
      "весь\n",
      "\n",
      "sbj9: \n",
      "который\n",
      "быть\n",
      "что\n",
      "этот\n",
      "это\n",
      "как\n",
      "человек\n",
      "свой\n",
      "для\n",
      "такой\n",
      "весь\n",
      "они\n",
      "его\n",
      "жизнь\n",
      "являться\n",
      "\n"
     ]
    }
   ],
   "metadata": {
    "collapsed": false
   }
  },
  {
   "cell_type": "markdown",
   "source": [
    "Давайте посмотрим также на разреженность матриц:"
   ],
   "metadata": {}
  },
  {
   "cell_type": "code",
   "execution_count": 16,
   "source": [
    "print(model_artm.score_tracker[\"SparsityPhiScore\"].last_value)\n",
    "print(model_artm.score_tracker[\"SparsityThetaScore\"].last_value)"
   ],
   "outputs": [
    {
     "output_type": "stream",
     "name": "stdout",
     "text": [
      "0.7333747148513794\n",
      "0.1655462235212326\n"
     ]
    }
   ],
   "metadata": {
    "collapsed": false
   }
  },
  {
   "cell_type": "markdown",
   "source": [
    "В темах много общеупотребительных слов (так называемой, фоновой лексики). Чтобы этого избежать, будем использовать разреживающий регуляризатор для матрицы фи. Он будет подавлять слова, которые имеют большую частоту во всей коллекции."
   ],
   "metadata": {}
  },
  {
   "cell_type": "code",
   "execution_count": 17,
   "source": [
    "model_artm.regularizers.add(artm.SmoothSparsePhiRegularizer(name='SparsePhi', tau=-100, dictionary=dictionary))\n",
    "#если вы хотите применять регуляризатор только к некоторым модальностям, указывайте это в параметре class_ids: class_ids=[\"text\"]"
   ],
   "outputs": [],
   "metadata": {
    "collapsed": false
   }
  },
  {
   "cell_type": "code",
   "execution_count": 18,
   "source": [
    "model_artm.fit_offline(batch_vectorizer=batch_vectorizer, num_collection_passes=15)"
   ],
   "outputs": [],
   "metadata": {
    "collapsed": true
   }
  },
  {
   "cell_type": "code",
   "execution_count": 24,
   "source": [
    "def print_last_words():\n",
    "    for topic_name in model_artm.topic_names:\n",
    "        print(topic_name + ': ')\n",
    "        tokens = model_artm.score_tracker[\"top_words\"].last_tokens\n",
    "        for word in tokens.get(topic_name, []):    \n",
    "            print(word)\n",
    "        print('')\n",
    "print_last_words()"
   ],
   "outputs": [
    {
     "output_type": "stream",
     "name": "stdout",
     "text": [
      "sbj0: \n",
      "предложение\n",
      "вода\n",
      "корень\n",
      "древний\n",
      "квадратный\n",
      "дом\n",
      "n\n",
      "океан\n",
      "жить\n",
      "собственный\n",
      "крестьянин\n",
      "член\n",
      "александр\n",
      "зона\n",
      "достигать\n",
      "\n",
      "sbj1: \n",
      "\n",
      "sbj2: \n",
      "\n",
      "sbj3: \n",
      "северный\n",
      "африка\n",
      "ресурс\n",
      "сфера\n",
      "географический\n",
      "конфликт\n",
      "климат\n",
      "цивилизация\n",
      "международный\n",
      "ядерный\n",
      "гражданин\n",
      "материк\n",
      "остров\n",
      "организация\n",
      "среда\n",
      "\n",
      "sbj4: \n",
      "\n",
      "sbj5: \n",
      "функция\n",
      "пушкин\n",
      "империя\n",
      "f\n",
      "определение\n",
      "область\n",
      "промежуток\n",
      "восстание\n",
      "трение\n",
      "существительное\n",
      "английский\n",
      "пояс\n",
      "павел\n",
      "падеж\n",
      "оборот\n",
      "\n",
      "sbj6: \n",
      "\n",
      "sbj7: \n",
      "лермонтов\n",
      "поэма\n",
      "толстой\n",
      "правило\n",
      "иван\n",
      "лиза\n",
      "мертвый\n",
      "общение\n",
      "средство\n",
      "хотеть\n",
      "детство\n",
      "относительно\n",
      "поведение\n",
      "ничто\n",
      "одиночество\n",
      "\n",
      "sbj8: \n",
      "x\n",
      "a\n",
      "два\n",
      "b\n",
      "ребенок\n",
      "город\n",
      "равный\n",
      "уравнение\n",
      "сторона\n",
      "y\n",
      "движение\n",
      "условие\n",
      "различный\n",
      "решение\n",
      "поле\n",
      "\n",
      "sbj9: \n",
      "который\n",
      "быть\n",
      "что\n",
      "это\n",
      "этот\n",
      "человек\n",
      "как\n",
      "свой\n",
      "для\n",
      "такой\n",
      "они\n",
      "весь\n",
      "его\n",
      "год\n",
      "жизнь\n",
      "\n"
     ]
    }
   ],
   "metadata": {
    "collapsed": false
   }
  },
  {
   "cell_type": "code",
   "execution_count": 21,
   "source": [
    "print(model_artm.score_tracker[\"SparsityPhiScore\"].last_value)\n",
    "print(model_artm.score_tracker[\"SparsityThetaScore\"].last_value)"
   ],
   "outputs": [
    {
     "output_type": "stream",
     "name": "stdout",
     "text": [
      "0.8179576396942139\n",
      "0.3355042040348053\n"
     ]
    }
   ],
   "metadata": {
    "collapsed": false
   }
  },
  {
   "cell_type": "markdown",
   "source": [
    "Попробуем менять коэффициент регуляризации:"
   ],
   "metadata": {}
  },
  {
   "cell_type": "code",
   "execution_count": 22,
   "source": [
    "model_artm.regularizers['SparsePhi'].tau = -5*1e4"
   ],
   "outputs": [],
   "metadata": {
    "collapsed": false
   }
  },
  {
   "cell_type": "code",
   "execution_count": 23,
   "source": [
    "model_artm.fit_offline(batch_vectorizer=batch_vectorizer, num_collection_passes=15)"
   ],
   "outputs": [],
   "metadata": {
    "collapsed": false
   }
  },
  {
   "cell_type": "code",
   "execution_count": 25,
   "source": [
    "print_last_words()"
   ],
   "outputs": [
    {
     "output_type": "stream",
     "name": "stdout",
     "text": [
      "sbj0: \n",
      "предложение\n",
      "вода\n",
      "корень\n",
      "древний\n",
      "квадратный\n",
      "дом\n",
      "n\n",
      "океан\n",
      "жить\n",
      "собственный\n",
      "крестьянин\n",
      "член\n",
      "александр\n",
      "зона\n",
      "достигать\n",
      "\n",
      "sbj1: \n",
      "\n",
      "sbj2: \n",
      "\n",
      "sbj3: \n",
      "северный\n",
      "африка\n",
      "ресурс\n",
      "сфера\n",
      "географический\n",
      "конфликт\n",
      "климат\n",
      "цивилизация\n",
      "международный\n",
      "ядерный\n",
      "гражданин\n",
      "материк\n",
      "остров\n",
      "организация\n",
      "среда\n",
      "\n",
      "sbj4: \n",
      "\n",
      "sbj5: \n",
      "функция\n",
      "пушкин\n",
      "империя\n",
      "f\n",
      "определение\n",
      "область\n",
      "промежуток\n",
      "восстание\n",
      "трение\n",
      "существительное\n",
      "английский\n",
      "пояс\n",
      "павел\n",
      "падеж\n",
      "оборот\n",
      "\n",
      "sbj6: \n",
      "\n",
      "sbj7: \n",
      "лермонтов\n",
      "поэма\n",
      "толстой\n",
      "правило\n",
      "иван\n",
      "лиза\n",
      "мертвый\n",
      "общение\n",
      "средство\n",
      "хотеть\n",
      "детство\n",
      "относительно\n",
      "поведение\n",
      "ничто\n",
      "одиночество\n",
      "\n",
      "sbj8: \n",
      "x\n",
      "a\n",
      "два\n",
      "b\n",
      "ребенок\n",
      "город\n",
      "равный\n",
      "уравнение\n",
      "сторона\n",
      "y\n",
      "движение\n",
      "условие\n",
      "различный\n",
      "решение\n",
      "поле\n",
      "\n",
      "sbj9: \n",
      "который\n",
      "быть\n",
      "что\n",
      "это\n",
      "этот\n",
      "человек\n",
      "как\n",
      "свой\n",
      "для\n",
      "такой\n",
      "они\n",
      "весь\n",
      "его\n",
      "год\n",
      "жизнь\n",
      "\n"
     ]
    }
   ],
   "metadata": {
    "collapsed": false
   }
  },
  {
   "cell_type": "code",
   "execution_count": 26,
   "source": [
    "# еще раз посмотрим на разреженность\n",
    "print(model_artm.score_tracker[\"SparsityPhiScore\"].last_value)\n",
    "print(model_artm.score_tracker[\"SparsityThetaScore\"].last_value)"
   ],
   "outputs": [
    {
     "output_type": "stream",
     "name": "stdout",
     "text": [
      "0.9119634628295898\n",
      "0.5050420165061951\n"
     ]
    }
   ],
   "metadata": {
    "collapsed": false
   }
  },
  {
   "cell_type": "markdown",
   "source": [
    "Обратите внимание, что разреживать модель рекомендуется только после того, как она сошлась без регуляризации."
   ],
   "metadata": {}
  },
  {
   "cell_type": "markdown",
   "source": [
    "Сохранение и загрузка модели:"
   ],
   "metadata": {}
  },
  {
   "cell_type": "code",
   "execution_count": 31,
   "source": [
    "model_artm.save(\"my_model\")"
   ],
   "outputs": [],
   "metadata": {
    "collapsed": true
   }
  },
  {
   "cell_type": "code",
   "execution_count": 32,
   "source": [
    "model_artm.load(\"my_model\")"
   ],
   "outputs": [],
   "metadata": {
    "collapsed": false
   }
  },
  {
   "cell_type": "markdown",
   "source": [
    "Можно попросить матрицы в чистом виде:"
   ],
   "metadata": {}
  },
  {
   "cell_type": "code",
   "execution_count": 33,
   "source": [
    "phi = model_artm.get_phi()"
   ],
   "outputs": [],
   "metadata": {
    "collapsed": false
   }
  },
  {
   "cell_type": "code",
   "execution_count": 34,
   "source": [
    "phi"
   ],
   "outputs": [
    {
     "output_type": "execute_result",
     "data": {
      "text/plain": [
       "                             sbj0  sbj1  sbj2  sbj3  sbj4      sbj5  sbj6  \\\n",
       "(text, бивень)           0.000000   0.0   0.0   0.0   0.0  0.000138   0.0   \n",
       "(text, фигурка)          0.000000   0.0   0.0   0.0   0.0  0.000138   0.0   \n",
       "(text, мамонт)           0.000000   0.0   0.0   0.0   0.0  0.000276   0.0   \n",
       "(text, неандерталец)     0.000000   0.0   0.0   0.0   0.0  0.000138   0.0   \n",
       "(text, неандертальский)  0.000000   0.0   0.0   0.0   0.0  0.000138   0.0   \n",
       "...                           ...   ...   ...   ...   ...       ...   ...   \n",
       "(text, областной)        0.000000   0.0   0.0   0.0   0.0  0.000000   0.0   \n",
       "(text, выталкивать)      0.000000   0.0   0.0   0.0   0.0  0.000138   0.0   \n",
       "(text, селенга)          0.000071   0.0   0.0   0.0   0.0  0.000000   0.0   \n",
       "(text, вскользь)         0.000000   0.0   0.0   0.0   0.0  0.000000   0.0   \n",
       "(text, теркин)           0.000000   0.0   0.0   0.0   0.0  0.000000   0.0   \n",
       "\n",
       "                             sbj7  sbj8  sbj9  \n",
       "(text, бивень)           0.000000   0.0   0.0  \n",
       "(text, фигурка)          0.000000   0.0   0.0  \n",
       "(text, мамонт)           0.000000   0.0   0.0  \n",
       "(text, неандерталец)     0.000000   0.0   0.0  \n",
       "(text, неандертальский)  0.000000   0.0   0.0  \n",
       "...                           ...   ...   ...  \n",
       "(text, областной)        0.000288   0.0   0.0  \n",
       "(text, выталкивать)      0.000000   0.0   0.0  \n",
       "(text, селенга)          0.000000   0.0   0.0  \n",
       "(text, вскользь)         0.000288   0.0   0.0  \n",
       "(text, теркин)           0.001441   0.0   0.0  \n",
       "\n",
       "[16099 rows x 10 columns]"
      ],
      "text/html": [
       "<div>\n",
       "<style scoped>\n",
       "    .dataframe tbody tr th:only-of-type {\n",
       "        vertical-align: middle;\n",
       "    }\n",
       "\n",
       "    .dataframe tbody tr th {\n",
       "        vertical-align: top;\n",
       "    }\n",
       "\n",
       "    .dataframe thead th {\n",
       "        text-align: right;\n",
       "    }\n",
       "</style>\n",
       "<table border=\"1\" class=\"dataframe\">\n",
       "  <thead>\n",
       "    <tr style=\"text-align: right;\">\n",
       "      <th></th>\n",
       "      <th>sbj0</th>\n",
       "      <th>sbj1</th>\n",
       "      <th>sbj2</th>\n",
       "      <th>sbj3</th>\n",
       "      <th>sbj4</th>\n",
       "      <th>sbj5</th>\n",
       "      <th>sbj6</th>\n",
       "      <th>sbj7</th>\n",
       "      <th>sbj8</th>\n",
       "      <th>sbj9</th>\n",
       "    </tr>\n",
       "  </thead>\n",
       "  <tbody>\n",
       "    <tr>\n",
       "      <th>(text, бивень)</th>\n",
       "      <td>0.000000</td>\n",
       "      <td>0.0</td>\n",
       "      <td>0.0</td>\n",
       "      <td>0.0</td>\n",
       "      <td>0.0</td>\n",
       "      <td>0.000138</td>\n",
       "      <td>0.0</td>\n",
       "      <td>0.000000</td>\n",
       "      <td>0.0</td>\n",
       "      <td>0.0</td>\n",
       "    </tr>\n",
       "    <tr>\n",
       "      <th>(text, фигурка)</th>\n",
       "      <td>0.000000</td>\n",
       "      <td>0.0</td>\n",
       "      <td>0.0</td>\n",
       "      <td>0.0</td>\n",
       "      <td>0.0</td>\n",
       "      <td>0.000138</td>\n",
       "      <td>0.0</td>\n",
       "      <td>0.000000</td>\n",
       "      <td>0.0</td>\n",
       "      <td>0.0</td>\n",
       "    </tr>\n",
       "    <tr>\n",
       "      <th>(text, мамонт)</th>\n",
       "      <td>0.000000</td>\n",
       "      <td>0.0</td>\n",
       "      <td>0.0</td>\n",
       "      <td>0.0</td>\n",
       "      <td>0.0</td>\n",
       "      <td>0.000276</td>\n",
       "      <td>0.0</td>\n",
       "      <td>0.000000</td>\n",
       "      <td>0.0</td>\n",
       "      <td>0.0</td>\n",
       "    </tr>\n",
       "    <tr>\n",
       "      <th>(text, неандерталец)</th>\n",
       "      <td>0.000000</td>\n",
       "      <td>0.0</td>\n",
       "      <td>0.0</td>\n",
       "      <td>0.0</td>\n",
       "      <td>0.0</td>\n",
       "      <td>0.000138</td>\n",
       "      <td>0.0</td>\n",
       "      <td>0.000000</td>\n",
       "      <td>0.0</td>\n",
       "      <td>0.0</td>\n",
       "    </tr>\n",
       "    <tr>\n",
       "      <th>(text, неандертальский)</th>\n",
       "      <td>0.000000</td>\n",
       "      <td>0.0</td>\n",
       "      <td>0.0</td>\n",
       "      <td>0.0</td>\n",
       "      <td>0.0</td>\n",
       "      <td>0.000138</td>\n",
       "      <td>0.0</td>\n",
       "      <td>0.000000</td>\n",
       "      <td>0.0</td>\n",
       "      <td>0.0</td>\n",
       "    </tr>\n",
       "    <tr>\n",
       "      <th>...</th>\n",
       "      <td>...</td>\n",
       "      <td>...</td>\n",
       "      <td>...</td>\n",
       "      <td>...</td>\n",
       "      <td>...</td>\n",
       "      <td>...</td>\n",
       "      <td>...</td>\n",
       "      <td>...</td>\n",
       "      <td>...</td>\n",
       "      <td>...</td>\n",
       "    </tr>\n",
       "    <tr>\n",
       "      <th>(text, областной)</th>\n",
       "      <td>0.000000</td>\n",
       "      <td>0.0</td>\n",
       "      <td>0.0</td>\n",
       "      <td>0.0</td>\n",
       "      <td>0.0</td>\n",
       "      <td>0.000000</td>\n",
       "      <td>0.0</td>\n",
       "      <td>0.000288</td>\n",
       "      <td>0.0</td>\n",
       "      <td>0.0</td>\n",
       "    </tr>\n",
       "    <tr>\n",
       "      <th>(text, выталкивать)</th>\n",
       "      <td>0.000000</td>\n",
       "      <td>0.0</td>\n",
       "      <td>0.0</td>\n",
       "      <td>0.0</td>\n",
       "      <td>0.0</td>\n",
       "      <td>0.000138</td>\n",
       "      <td>0.0</td>\n",
       "      <td>0.000000</td>\n",
       "      <td>0.0</td>\n",
       "      <td>0.0</td>\n",
       "    </tr>\n",
       "    <tr>\n",
       "      <th>(text, селенга)</th>\n",
       "      <td>0.000071</td>\n",
       "      <td>0.0</td>\n",
       "      <td>0.0</td>\n",
       "      <td>0.0</td>\n",
       "      <td>0.0</td>\n",
       "      <td>0.000000</td>\n",
       "      <td>0.0</td>\n",
       "      <td>0.000000</td>\n",
       "      <td>0.0</td>\n",
       "      <td>0.0</td>\n",
       "    </tr>\n",
       "    <tr>\n",
       "      <th>(text, вскользь)</th>\n",
       "      <td>0.000000</td>\n",
       "      <td>0.0</td>\n",
       "      <td>0.0</td>\n",
       "      <td>0.0</td>\n",
       "      <td>0.0</td>\n",
       "      <td>0.000000</td>\n",
       "      <td>0.0</td>\n",
       "      <td>0.000288</td>\n",
       "      <td>0.0</td>\n",
       "      <td>0.0</td>\n",
       "    </tr>\n",
       "    <tr>\n",
       "      <th>(text, теркин)</th>\n",
       "      <td>0.000000</td>\n",
       "      <td>0.0</td>\n",
       "      <td>0.0</td>\n",
       "      <td>0.0</td>\n",
       "      <td>0.0</td>\n",
       "      <td>0.000000</td>\n",
       "      <td>0.0</td>\n",
       "      <td>0.001441</td>\n",
       "      <td>0.0</td>\n",
       "      <td>0.0</td>\n",
       "    </tr>\n",
       "  </tbody>\n",
       "</table>\n",
       "<p>16099 rows × 10 columns</p>\n",
       "</div>"
      ]
     },
     "metadata": {},
     "execution_count": 34
    }
   ],
   "metadata": {
    "collapsed": false
   }
  },
  {
   "cell_type": "markdown",
   "source": [
    "Матрица вероятностей тем в документах."
   ],
   "metadata": {}
  },
  {
   "cell_type": "code",
   "execution_count": 35,
   "source": [
    "theta = model_artm.get_theta()\n",
    "theta"
   ],
   "outputs": [
    {
     "output_type": "execute_result",
     "data": {
      "text/plain": [
       "           100       101       102       103       104       105       106  \\\n",
       "sbj0  0.041801  0.071918  0.030556  0.085106  0.159864  0.044164  0.150769   \n",
       "sbj1  0.000000  0.000000  0.000000  0.000000  0.000000  0.000000  0.000000   \n",
       "sbj2  0.000000  0.000000  0.000000  0.000000  0.000000  0.000000  0.000000   \n",
       "sbj3  0.032154  0.257862  0.008333  0.334073  0.060528  0.011041  0.061538   \n",
       "sbj4  0.000000  0.000000  0.000000  0.000000  0.000000  0.000000  0.000000   \n",
       "sbj5  0.013156  0.109589  0.005556  0.012766  0.027211  0.052224  0.033846   \n",
       "sbj6  0.000000  0.000000  0.000000  0.000000  0.000000  0.000000  0.000000   \n",
       "sbj7  0.101986  0.003425  0.295483  0.017021  0.023810  0.240530  0.030742   \n",
       "sbj8  0.048845  0.154110  0.058731  0.102128  0.119048  0.062078  0.073873   \n",
       "sbj9  0.762058  0.403097  0.601342  0.448905  0.609541  0.589963  0.649231   \n",
       "\n",
       "           107       108       109  ...       466       467       468  \\\n",
       "sbj0  0.091703  0.060201  0.024096  ...  0.057269  0.020911  0.042208   \n",
       "sbj1  0.000000  0.000000  0.000000  ...  0.000000  0.000000  0.000000   \n",
       "sbj2  0.000000  0.000000  0.000000  ...  0.000000  0.000000  0.000000   \n",
       "sbj3  0.026201  0.003344  0.088353  ...  0.061674  0.025974  0.055195   \n",
       "sbj4  0.000000  0.000000  0.000000  ...  0.000000  0.000000  0.000000   \n",
       "sbj5  0.074236  0.036789  0.008032  ...  0.145374  0.144216  0.113181   \n",
       "sbj6  0.000000  0.000000  0.000000  ...  0.000000  0.000000  0.000000   \n",
       "sbj7  0.087305  0.006689  0.072289  ...  0.021928  0.000458  0.003702   \n",
       "sbj8  0.087368  0.217391  0.068273  ...  0.189526  0.077922  0.090909   \n",
       "sbj9  0.633188  0.675585  0.738956  ...  0.524229  0.730519  0.694805   \n",
       "\n",
       "           469       470       471       472       473       474       475  \n",
       "sbj0  0.080247  0.058264  0.049123  0.081560  0.057143  0.075075  0.060897  \n",
       "sbj1  0.000000  0.000000  0.000000  0.000000  0.000000  0.000000  0.000000  \n",
       "sbj2  0.000000  0.000000  0.000000  0.000000  0.000000  0.000000  0.000000  \n",
       "sbj3  0.018519  0.006522  0.010526  0.053192  0.019048  0.069069  0.025641  \n",
       "sbj4  0.000000  0.000000  0.000000  0.000000  0.000000  0.000000  0.000000  \n",
       "sbj5  0.089506  0.354780  0.084211  0.138298  0.009524  0.198198  0.099359  \n",
       "sbj6  0.000000  0.000000  0.000000  0.000000  0.000000  0.000000  0.000000  \n",
       "sbj7  0.032260  0.008696  0.063158  0.000000  0.030661  0.000000  0.021379  \n",
       "sbj8  0.066506  0.058696  0.052632  0.067376  0.083625  0.078078  0.049134  \n",
       "sbj9  0.712963  0.513043  0.740351  0.659574  0.800000  0.579579  0.743590  \n",
       "\n",
       "[10 rows x 476 columns]"
      ],
      "text/html": [
       "<div>\n",
       "<style scoped>\n",
       "    .dataframe tbody tr th:only-of-type {\n",
       "        vertical-align: middle;\n",
       "    }\n",
       "\n",
       "    .dataframe tbody tr th {\n",
       "        vertical-align: top;\n",
       "    }\n",
       "\n",
       "    .dataframe thead th {\n",
       "        text-align: right;\n",
       "    }\n",
       "</style>\n",
       "<table border=\"1\" class=\"dataframe\">\n",
       "  <thead>\n",
       "    <tr style=\"text-align: right;\">\n",
       "      <th></th>\n",
       "      <th>100</th>\n",
       "      <th>101</th>\n",
       "      <th>102</th>\n",
       "      <th>103</th>\n",
       "      <th>104</th>\n",
       "      <th>105</th>\n",
       "      <th>106</th>\n",
       "      <th>107</th>\n",
       "      <th>108</th>\n",
       "      <th>109</th>\n",
       "      <th>...</th>\n",
       "      <th>466</th>\n",
       "      <th>467</th>\n",
       "      <th>468</th>\n",
       "      <th>469</th>\n",
       "      <th>470</th>\n",
       "      <th>471</th>\n",
       "      <th>472</th>\n",
       "      <th>473</th>\n",
       "      <th>474</th>\n",
       "      <th>475</th>\n",
       "    </tr>\n",
       "  </thead>\n",
       "  <tbody>\n",
       "    <tr>\n",
       "      <th>sbj0</th>\n",
       "      <td>0.041801</td>\n",
       "      <td>0.071918</td>\n",
       "      <td>0.030556</td>\n",
       "      <td>0.085106</td>\n",
       "      <td>0.159864</td>\n",
       "      <td>0.044164</td>\n",
       "      <td>0.150769</td>\n",
       "      <td>0.091703</td>\n",
       "      <td>0.060201</td>\n",
       "      <td>0.024096</td>\n",
       "      <td>...</td>\n",
       "      <td>0.057269</td>\n",
       "      <td>0.020911</td>\n",
       "      <td>0.042208</td>\n",
       "      <td>0.080247</td>\n",
       "      <td>0.058264</td>\n",
       "      <td>0.049123</td>\n",
       "      <td>0.081560</td>\n",
       "      <td>0.057143</td>\n",
       "      <td>0.075075</td>\n",
       "      <td>0.060897</td>\n",
       "    </tr>\n",
       "    <tr>\n",
       "      <th>sbj1</th>\n",
       "      <td>0.000000</td>\n",
       "      <td>0.000000</td>\n",
       "      <td>0.000000</td>\n",
       "      <td>0.000000</td>\n",
       "      <td>0.000000</td>\n",
       "      <td>0.000000</td>\n",
       "      <td>0.000000</td>\n",
       "      <td>0.000000</td>\n",
       "      <td>0.000000</td>\n",
       "      <td>0.000000</td>\n",
       "      <td>...</td>\n",
       "      <td>0.000000</td>\n",
       "      <td>0.000000</td>\n",
       "      <td>0.000000</td>\n",
       "      <td>0.000000</td>\n",
       "      <td>0.000000</td>\n",
       "      <td>0.000000</td>\n",
       "      <td>0.000000</td>\n",
       "      <td>0.000000</td>\n",
       "      <td>0.000000</td>\n",
       "      <td>0.000000</td>\n",
       "    </tr>\n",
       "    <tr>\n",
       "      <th>sbj2</th>\n",
       "      <td>0.000000</td>\n",
       "      <td>0.000000</td>\n",
       "      <td>0.000000</td>\n",
       "      <td>0.000000</td>\n",
       "      <td>0.000000</td>\n",
       "      <td>0.000000</td>\n",
       "      <td>0.000000</td>\n",
       "      <td>0.000000</td>\n",
       "      <td>0.000000</td>\n",
       "      <td>0.000000</td>\n",
       "      <td>...</td>\n",
       "      <td>0.000000</td>\n",
       "      <td>0.000000</td>\n",
       "      <td>0.000000</td>\n",
       "      <td>0.000000</td>\n",
       "      <td>0.000000</td>\n",
       "      <td>0.000000</td>\n",
       "      <td>0.000000</td>\n",
       "      <td>0.000000</td>\n",
       "      <td>0.000000</td>\n",
       "      <td>0.000000</td>\n",
       "    </tr>\n",
       "    <tr>\n",
       "      <th>sbj3</th>\n",
       "      <td>0.032154</td>\n",
       "      <td>0.257862</td>\n",
       "      <td>0.008333</td>\n",
       "      <td>0.334073</td>\n",
       "      <td>0.060528</td>\n",
       "      <td>0.011041</td>\n",
       "      <td>0.061538</td>\n",
       "      <td>0.026201</td>\n",
       "      <td>0.003344</td>\n",
       "      <td>0.088353</td>\n",
       "      <td>...</td>\n",
       "      <td>0.061674</td>\n",
       "      <td>0.025974</td>\n",
       "      <td>0.055195</td>\n",
       "      <td>0.018519</td>\n",
       "      <td>0.006522</td>\n",
       "      <td>0.010526</td>\n",
       "      <td>0.053192</td>\n",
       "      <td>0.019048</td>\n",
       "      <td>0.069069</td>\n",
       "      <td>0.025641</td>\n",
       "    </tr>\n",
       "    <tr>\n",
       "      <th>sbj4</th>\n",
       "      <td>0.000000</td>\n",
       "      <td>0.000000</td>\n",
       "      <td>0.000000</td>\n",
       "      <td>0.000000</td>\n",
       "      <td>0.000000</td>\n",
       "      <td>0.000000</td>\n",
       "      <td>0.000000</td>\n",
       "      <td>0.000000</td>\n",
       "      <td>0.000000</td>\n",
       "      <td>0.000000</td>\n",
       "      <td>...</td>\n",
       "      <td>0.000000</td>\n",
       "      <td>0.000000</td>\n",
       "      <td>0.000000</td>\n",
       "      <td>0.000000</td>\n",
       "      <td>0.000000</td>\n",
       "      <td>0.000000</td>\n",
       "      <td>0.000000</td>\n",
       "      <td>0.000000</td>\n",
       "      <td>0.000000</td>\n",
       "      <td>0.000000</td>\n",
       "    </tr>\n",
       "    <tr>\n",
       "      <th>sbj5</th>\n",
       "      <td>0.013156</td>\n",
       "      <td>0.109589</td>\n",
       "      <td>0.005556</td>\n",
       "      <td>0.012766</td>\n",
       "      <td>0.027211</td>\n",
       "      <td>0.052224</td>\n",
       "      <td>0.033846</td>\n",
       "      <td>0.074236</td>\n",
       "      <td>0.036789</td>\n",
       "      <td>0.008032</td>\n",
       "      <td>...</td>\n",
       "      <td>0.145374</td>\n",
       "      <td>0.144216</td>\n",
       "      <td>0.113181</td>\n",
       "      <td>0.089506</td>\n",
       "      <td>0.354780</td>\n",
       "      <td>0.084211</td>\n",
       "      <td>0.138298</td>\n",
       "      <td>0.009524</td>\n",
       "      <td>0.198198</td>\n",
       "      <td>0.099359</td>\n",
       "    </tr>\n",
       "    <tr>\n",
       "      <th>sbj6</th>\n",
       "      <td>0.000000</td>\n",
       "      <td>0.000000</td>\n",
       "      <td>0.000000</td>\n",
       "      <td>0.000000</td>\n",
       "      <td>0.000000</td>\n",
       "      <td>0.000000</td>\n",
       "      <td>0.000000</td>\n",
       "      <td>0.000000</td>\n",
       "      <td>0.000000</td>\n",
       "      <td>0.000000</td>\n",
       "      <td>...</td>\n",
       "      <td>0.000000</td>\n",
       "      <td>0.000000</td>\n",
       "      <td>0.000000</td>\n",
       "      <td>0.000000</td>\n",
       "      <td>0.000000</td>\n",
       "      <td>0.000000</td>\n",
       "      <td>0.000000</td>\n",
       "      <td>0.000000</td>\n",
       "      <td>0.000000</td>\n",
       "      <td>0.000000</td>\n",
       "    </tr>\n",
       "    <tr>\n",
       "      <th>sbj7</th>\n",
       "      <td>0.101986</td>\n",
       "      <td>0.003425</td>\n",
       "      <td>0.295483</td>\n",
       "      <td>0.017021</td>\n",
       "      <td>0.023810</td>\n",
       "      <td>0.240530</td>\n",
       "      <td>0.030742</td>\n",
       "      <td>0.087305</td>\n",
       "      <td>0.006689</td>\n",
       "      <td>0.072289</td>\n",
       "      <td>...</td>\n",
       "      <td>0.021928</td>\n",
       "      <td>0.000458</td>\n",
       "      <td>0.003702</td>\n",
       "      <td>0.032260</td>\n",
       "      <td>0.008696</td>\n",
       "      <td>0.063158</td>\n",
       "      <td>0.000000</td>\n",
       "      <td>0.030661</td>\n",
       "      <td>0.000000</td>\n",
       "      <td>0.021379</td>\n",
       "    </tr>\n",
       "    <tr>\n",
       "      <th>sbj8</th>\n",
       "      <td>0.048845</td>\n",
       "      <td>0.154110</td>\n",
       "      <td>0.058731</td>\n",
       "      <td>0.102128</td>\n",
       "      <td>0.119048</td>\n",
       "      <td>0.062078</td>\n",
       "      <td>0.073873</td>\n",
       "      <td>0.087368</td>\n",
       "      <td>0.217391</td>\n",
       "      <td>0.068273</td>\n",
       "      <td>...</td>\n",
       "      <td>0.189526</td>\n",
       "      <td>0.077922</td>\n",
       "      <td>0.090909</td>\n",
       "      <td>0.066506</td>\n",
       "      <td>0.058696</td>\n",
       "      <td>0.052632</td>\n",
       "      <td>0.067376</td>\n",
       "      <td>0.083625</td>\n",
       "      <td>0.078078</td>\n",
       "      <td>0.049134</td>\n",
       "    </tr>\n",
       "    <tr>\n",
       "      <th>sbj9</th>\n",
       "      <td>0.762058</td>\n",
       "      <td>0.403097</td>\n",
       "      <td>0.601342</td>\n",
       "      <td>0.448905</td>\n",
       "      <td>0.609541</td>\n",
       "      <td>0.589963</td>\n",
       "      <td>0.649231</td>\n",
       "      <td>0.633188</td>\n",
       "      <td>0.675585</td>\n",
       "      <td>0.738956</td>\n",
       "      <td>...</td>\n",
       "      <td>0.524229</td>\n",
       "      <td>0.730519</td>\n",
       "      <td>0.694805</td>\n",
       "      <td>0.712963</td>\n",
       "      <td>0.513043</td>\n",
       "      <td>0.740351</td>\n",
       "      <td>0.659574</td>\n",
       "      <td>0.800000</td>\n",
       "      <td>0.579579</td>\n",
       "      <td>0.743590</td>\n",
       "    </tr>\n",
       "  </tbody>\n",
       "</table>\n",
       "<p>10 rows × 476 columns</p>\n",
       "</div>"
      ]
     },
     "metadata": {},
     "execution_count": 35
    }
   ],
   "metadata": {
    "collapsed": false
   }
  },
  {
   "cell_type": "markdown",
   "source": [
    "Если бы у нас были новые батчи, по которым мы не строим модель, а хотим только получить матрицу theta, можно пользоваться методом transform."
   ],
   "metadata": {}
  },
  {
   "cell_type": "code",
   "execution_count": 36,
   "source": [
    "theta_test = model_artm.transform(batch_vectorizer)"
   ],
   "outputs": [],
   "metadata": {
    "collapsed": true
   }
  }
 ],
 "metadata": {
  "kernelspec": {
   "name": "python3",
   "display_name": "Python 3.7.7 64-bit ('venv': venv)"
  },
  "language_info": {
   "name": "python",
   "version": "3.7.7",
   "mimetype": "text/x-python",
   "codemirror_mode": {
    "name": "ipython",
    "version": 3
   },
   "pygments_lexer": "ipython3",
   "nbconvert_exporter": "python",
   "file_extension": ".py"
  },
  "interpreter": {
   "hash": "62fde4b93298729ed436ba070fd2457ffd31ce485c5f95756476547d88a75ff8"
  }
 },
 "nbformat": 4,
 "nbformat_minor": 2
}