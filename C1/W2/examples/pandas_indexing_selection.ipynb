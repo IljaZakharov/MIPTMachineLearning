{
 "cells": [
  {
   "cell_type": "markdown",
   "metadata": {},
   "source": [
    "# Библиотека Pandas (Версия для Python 3)"
   ]
  },
  {
   "cell_type": "markdown",
   "metadata": {},
   "source": [
    "## Data Frame"
   ]
  },
  {
   "cell_type": "code",
   "execution_count": 2,
   "metadata": {},
   "outputs": [],
   "source": [
    "import pandas as pd"
   ]
  },
  {
   "cell_type": "code",
   "execution_count": 3,
   "metadata": {},
   "outputs": [],
   "source": [
    "#создание DataFrame с помощью чтения данных из файла\n",
    "frame = pd.read_csv('data_sample_example.tsv', header=0, sep='\\t')"
   ]
  },
  {
   "cell_type": "code",
   "execution_count": 4,
   "metadata": {},
   "outputs": [
    {
     "output_type": "execute_result",
     "data": {
      "text/plain": "              Name       Birth       City  Position\n0      Иванов А.А.  22.03.1980     Москва       NaN\n1     Сорокин И.В.  07.08.1965  Волгоград   инженер\n2       Белов М.М.  13.02.1980     Ростов  менеджер\n3  Мельникова Д.С.  15.04.1985     Ростов       NaN\n4      Рыбина Е.П.  19.11.1985     Москва   инженер\n5     Костров С.О.  31.05.1985     Москва    стажер",
      "text/html": "<div>\n<style scoped>\n    .dataframe tbody tr th:only-of-type {\n        vertical-align: middle;\n    }\n\n    .dataframe tbody tr th {\n        vertical-align: top;\n    }\n\n    .dataframe thead th {\n        text-align: right;\n    }\n</style>\n<table border=\"1\" class=\"dataframe\">\n  <thead>\n    <tr style=\"text-align: right;\">\n      <th></th>\n      <th>Name</th>\n      <th>Birth</th>\n      <th>City</th>\n      <th>Position</th>\n    </tr>\n  </thead>\n  <tbody>\n    <tr>\n      <th>0</th>\n      <td>Иванов А.А.</td>\n      <td>22.03.1980</td>\n      <td>Москва</td>\n      <td>NaN</td>\n    </tr>\n    <tr>\n      <th>1</th>\n      <td>Сорокин И.В.</td>\n      <td>07.08.1965</td>\n      <td>Волгоград</td>\n      <td>инженер</td>\n    </tr>\n    <tr>\n      <th>2</th>\n      <td>Белов М.М.</td>\n      <td>13.02.1980</td>\n      <td>Ростов</td>\n      <td>менеджер</td>\n    </tr>\n    <tr>\n      <th>3</th>\n      <td>Мельникова Д.С.</td>\n      <td>15.04.1985</td>\n      <td>Ростов</td>\n      <td>NaN</td>\n    </tr>\n    <tr>\n      <th>4</th>\n      <td>Рыбина Е.П.</td>\n      <td>19.11.1985</td>\n      <td>Москва</td>\n      <td>инженер</td>\n    </tr>\n    <tr>\n      <th>5</th>\n      <td>Костров С.О.</td>\n      <td>31.05.1985</td>\n      <td>Москва</td>\n      <td>стажер</td>\n    </tr>\n  </tbody>\n</table>\n</div>"
     },
     "metadata": {},
     "execution_count": 4
    }
   ],
   "source": [
    "frame"
   ]
  },
  {
   "cell_type": "code",
   "execution_count": 5,
   "metadata": {},
   "outputs": [
    {
     "output_type": "execute_result",
     "data": {
      "text/plain": "Name        object\nBirth       object\nCity        object\nPosition    object\ndtype: object"
     },
     "metadata": {},
     "execution_count": 5
    }
   ],
   "source": [
    "frame.dtypes"
   ]
  },
  {
   "cell_type": "code",
   "execution_count": 6,
   "metadata": {},
   "outputs": [],
   "source": [
    "#изменение типа столбца с помощью функции apply\n",
    "frame.Birth = frame.Birth.apply(pd.to_datetime)"
   ]
  },
  {
   "cell_type": "code",
   "execution_count": 7,
   "metadata": {},
   "outputs": [
    {
     "output_type": "execute_result",
     "data": {
      "text/plain": "              Name      Birth       City  Position\n0      Иванов А.А. 1980-03-22     Москва       NaN\n1     Сорокин И.В. 1965-07-08  Волгоград   инженер\n2       Белов М.М. 1980-02-13     Ростов  менеджер\n3  Мельникова Д.С. 1985-04-15     Ростов       NaN\n4      Рыбина Е.П. 1985-11-19     Москва   инженер\n5     Костров С.О. 1985-05-31     Москва    стажер",
      "text/html": "<div>\n<style scoped>\n    .dataframe tbody tr th:only-of-type {\n        vertical-align: middle;\n    }\n\n    .dataframe tbody tr th {\n        vertical-align: top;\n    }\n\n    .dataframe thead th {\n        text-align: right;\n    }\n</style>\n<table border=\"1\" class=\"dataframe\">\n  <thead>\n    <tr style=\"text-align: right;\">\n      <th></th>\n      <th>Name</th>\n      <th>Birth</th>\n      <th>City</th>\n      <th>Position</th>\n    </tr>\n  </thead>\n  <tbody>\n    <tr>\n      <th>0</th>\n      <td>Иванов А.А.</td>\n      <td>1980-03-22</td>\n      <td>Москва</td>\n      <td>NaN</td>\n    </tr>\n    <tr>\n      <th>1</th>\n      <td>Сорокин И.В.</td>\n      <td>1965-07-08</td>\n      <td>Волгоград</td>\n      <td>инженер</td>\n    </tr>\n    <tr>\n      <th>2</th>\n      <td>Белов М.М.</td>\n      <td>1980-02-13</td>\n      <td>Ростов</td>\n      <td>менеджер</td>\n    </tr>\n    <tr>\n      <th>3</th>\n      <td>Мельникова Д.С.</td>\n      <td>1985-04-15</td>\n      <td>Ростов</td>\n      <td>NaN</td>\n    </tr>\n    <tr>\n      <th>4</th>\n      <td>Рыбина Е.П.</td>\n      <td>1985-11-19</td>\n      <td>Москва</td>\n      <td>инженер</td>\n    </tr>\n    <tr>\n      <th>5</th>\n      <td>Костров С.О.</td>\n      <td>1985-05-31</td>\n      <td>Москва</td>\n      <td>стажер</td>\n    </tr>\n  </tbody>\n</table>\n</div>"
     },
     "metadata": {},
     "execution_count": 7
    }
   ],
   "source": [
    "frame"
   ]
  },
  {
   "cell_type": "code",
   "execution_count": 8,
   "metadata": {},
   "outputs": [
    {
     "output_type": "execute_result",
     "data": {
      "text/plain": "Name                object\nBirth       datetime64[ns]\nCity                object\nPosition            object\ndtype: object"
     },
     "metadata": {},
     "execution_count": 8
    }
   ],
   "source": [
    "frame.dtypes"
   ]
  },
  {
   "cell_type": "code",
   "execution_count": 9,
   "metadata": {},
   "outputs": [
    {
     "output_type": "stream",
     "name": "stdout",
     "text": "<class 'pandas.core.frame.DataFrame'>\nRangeIndex: 6 entries, 0 to 5\nData columns (total 4 columns):\n #   Column    Non-Null Count  Dtype         \n---  ------    --------------  -----         \n 0   Name      6 non-null      object        \n 1   Birth     6 non-null      datetime64[ns]\n 2   City      6 non-null      object        \n 3   Position  4 non-null      object        \ndtypes: datetime64[ns](1), object(3)\nmemory usage: 320.0+ bytes\n"
    }
   ],
   "source": [
    "frame.info()"
   ]
  },
  {
   "cell_type": "code",
   "execution_count": 10,
   "metadata": {},
   "outputs": [
    {
     "output_type": "execute_result",
     "data": {
      "text/plain": "              Name      Birth       City      Position\n0      Иванов А.А. 1980-03-22     Москва  разнорабочий\n1     Сорокин И.В. 1965-07-08  Волгоград       инженер\n2       Белов М.М. 1980-02-13     Ростов      менеджер\n3  Мельникова Д.С. 1985-04-15     Ростов  разнорабочий\n4      Рыбина Е.П. 1985-11-19     Москва       инженер\n5     Костров С.О. 1985-05-31     Москва        стажер",
      "text/html": "<div>\n<style scoped>\n    .dataframe tbody tr th:only-of-type {\n        vertical-align: middle;\n    }\n\n    .dataframe tbody tr th {\n        vertical-align: top;\n    }\n\n    .dataframe thead th {\n        text-align: right;\n    }\n</style>\n<table border=\"1\" class=\"dataframe\">\n  <thead>\n    <tr style=\"text-align: right;\">\n      <th></th>\n      <th>Name</th>\n      <th>Birth</th>\n      <th>City</th>\n      <th>Position</th>\n    </tr>\n  </thead>\n  <tbody>\n    <tr>\n      <th>0</th>\n      <td>Иванов А.А.</td>\n      <td>1980-03-22</td>\n      <td>Москва</td>\n      <td>разнорабочий</td>\n    </tr>\n    <tr>\n      <th>1</th>\n      <td>Сорокин И.В.</td>\n      <td>1965-07-08</td>\n      <td>Волгоград</td>\n      <td>инженер</td>\n    </tr>\n    <tr>\n      <th>2</th>\n      <td>Белов М.М.</td>\n      <td>1980-02-13</td>\n      <td>Ростов</td>\n      <td>менеджер</td>\n    </tr>\n    <tr>\n      <th>3</th>\n      <td>Мельникова Д.С.</td>\n      <td>1985-04-15</td>\n      <td>Ростов</td>\n      <td>разнорабочий</td>\n    </tr>\n    <tr>\n      <th>4</th>\n      <td>Рыбина Е.П.</td>\n      <td>1985-11-19</td>\n      <td>Москва</td>\n      <td>инженер</td>\n    </tr>\n    <tr>\n      <th>5</th>\n      <td>Костров С.О.</td>\n      <td>1985-05-31</td>\n      <td>Москва</td>\n      <td>стажер</td>\n    </tr>\n  </tbody>\n</table>\n</div>"
     },
     "metadata": {},
     "execution_count": 10
    }
   ],
   "source": [
    "#заполнение пропущенных значений с помощью метода fillna\n",
    "frame.fillna('разнорабочий')"
   ]
  },
  {
   "cell_type": "code",
   "execution_count": 11,
   "metadata": {},
   "outputs": [],
   "source": [
    "#заполнение пропущенных значений с помощью метода fillna (inplace)\n",
    "frame.fillna('разнорабочий', inplace=True)"
   ]
  },
  {
   "cell_type": "code",
   "execution_count": 12,
   "metadata": {},
   "outputs": [
    {
     "output_type": "execute_result",
     "data": {
      "text/plain": "              Name      Birth       City      Position\n0      Иванов А.А. 1980-03-22     Москва  разнорабочий\n1     Сорокин И.В. 1965-07-08  Волгоград       инженер\n2       Белов М.М. 1980-02-13     Ростов      менеджер\n3  Мельникова Д.С. 1985-04-15     Ростов  разнорабочий\n4      Рыбина Е.П. 1985-11-19     Москва       инженер\n5     Костров С.О. 1985-05-31     Москва        стажер",
      "text/html": "<div>\n<style scoped>\n    .dataframe tbody tr th:only-of-type {\n        vertical-align: middle;\n    }\n\n    .dataframe tbody tr th {\n        vertical-align: top;\n    }\n\n    .dataframe thead th {\n        text-align: right;\n    }\n</style>\n<table border=\"1\" class=\"dataframe\">\n  <thead>\n    <tr style=\"text-align: right;\">\n      <th></th>\n      <th>Name</th>\n      <th>Birth</th>\n      <th>City</th>\n      <th>Position</th>\n    </tr>\n  </thead>\n  <tbody>\n    <tr>\n      <th>0</th>\n      <td>Иванов А.А.</td>\n      <td>1980-03-22</td>\n      <td>Москва</td>\n      <td>разнорабочий</td>\n    </tr>\n    <tr>\n      <th>1</th>\n      <td>Сорокин И.В.</td>\n      <td>1965-07-08</td>\n      <td>Волгоград</td>\n      <td>инженер</td>\n    </tr>\n    <tr>\n      <th>2</th>\n      <td>Белов М.М.</td>\n      <td>1980-02-13</td>\n      <td>Ростов</td>\n      <td>менеджер</td>\n    </tr>\n    <tr>\n      <th>3</th>\n      <td>Мельникова Д.С.</td>\n      <td>1985-04-15</td>\n      <td>Ростов</td>\n      <td>разнорабочий</td>\n    </tr>\n    <tr>\n      <th>4</th>\n      <td>Рыбина Е.П.</td>\n      <td>1985-11-19</td>\n      <td>Москва</td>\n      <td>инженер</td>\n    </tr>\n    <tr>\n      <th>5</th>\n      <td>Костров С.О.</td>\n      <td>1985-05-31</td>\n      <td>Москва</td>\n      <td>стажер</td>\n    </tr>\n  </tbody>\n</table>\n</div>"
     },
     "metadata": {},
     "execution_count": 12
    }
   ],
   "source": [
    "frame"
   ]
  },
  {
   "cell_type": "code",
   "execution_count": 13,
   "metadata": {},
   "outputs": [
    {
     "output_type": "execute_result",
     "data": {
      "text/plain": "0    разнорабочий\n1         инженер\n2        менеджер\n3    разнорабочий\n4         инженер\n5          стажер\nName: Position, dtype: object"
     },
     "metadata": {},
     "execution_count": 13
    }
   ],
   "source": [
    "frame.Position"
   ]
  },
  {
   "cell_type": "code",
   "execution_count": 14,
   "metadata": {},
   "outputs": [
    {
     "output_type": "execute_result",
     "data": {
      "text/plain": "       Position\n0  разнорабочий\n1       инженер\n2      менеджер\n3  разнорабочий\n4       инженер\n5        стажер",
      "text/html": "<div>\n<style scoped>\n    .dataframe tbody tr th:only-of-type {\n        vertical-align: middle;\n    }\n\n    .dataframe tbody tr th {\n        vertical-align: top;\n    }\n\n    .dataframe thead th {\n        text-align: right;\n    }\n</style>\n<table border=\"1\" class=\"dataframe\">\n  <thead>\n    <tr style=\"text-align: right;\">\n      <th></th>\n      <th>Position</th>\n    </tr>\n  </thead>\n  <tbody>\n    <tr>\n      <th>0</th>\n      <td>разнорабочий</td>\n    </tr>\n    <tr>\n      <th>1</th>\n      <td>инженер</td>\n    </tr>\n    <tr>\n      <th>2</th>\n      <td>менеджер</td>\n    </tr>\n    <tr>\n      <th>3</th>\n      <td>разнорабочий</td>\n    </tr>\n    <tr>\n      <th>4</th>\n      <td>инженер</td>\n    </tr>\n    <tr>\n      <th>5</th>\n      <td>стажер</td>\n    </tr>\n  </tbody>\n</table>\n</div>"
     },
     "metadata": {},
     "execution_count": 14
    }
   ],
   "source": [
    "frame[['Position']]"
   ]
  },
  {
   "cell_type": "code",
   "execution_count": 32,
   "metadata": {},
   "outputs": [
    {
     "output_type": "error",
     "ename": "AttributeError",
     "evalue": "'tuple' object has no attribute 'Name'",
     "traceback": [
      "\u001b[0;31m---------------------------------------------------------------------------\u001b[0m",
      "\u001b[0;31mAttributeError\u001b[0m                            Traceback (most recent call last)",
      "\u001b[0;32m<ipython-input-32-8bada3d92df9>\u001b[0m in \u001b[0;36m<module>\u001b[0;34m\u001b[0m\n\u001b[1;32m      1\u001b[0m \u001b[0;32mfor\u001b[0m \u001b[0mx\u001b[0m \u001b[0;32min\u001b[0m \u001b[0mframe\u001b[0m\u001b[0;34m[\u001b[0m\u001b[0;34m[\u001b[0m\u001b[0;34m'Name'\u001b[0m\u001b[0;34m,\u001b[0m \u001b[0;34m'Position'\u001b[0m\u001b[0;34m]\u001b[0m\u001b[0;34m]\u001b[0m\u001b[0;34m.\u001b[0m\u001b[0miterrows\u001b[0m\u001b[0;34m(\u001b[0m\u001b[0;34m)\u001b[0m\u001b[0;34m:\u001b[0m\u001b[0;34m\u001b[0m\u001b[0;34m\u001b[0m\u001b[0m\n\u001b[0;32m----> 2\u001b[0;31m     \u001b[0mprint\u001b[0m\u001b[0;34m(\u001b[0m\u001b[0mx\u001b[0m\u001b[0;34m.\u001b[0m\u001b[0mName\u001b[0m\u001b[0;34m)\u001b[0m\u001b[0;34m\u001b[0m\u001b[0;34m\u001b[0m\u001b[0m\n\u001b[0m",
      "\u001b[0;31mAttributeError\u001b[0m: 'tuple' object has no attribute 'Name'"
     ]
    }
   ],
   "source": [
    "for x in frame[['Name', 'Position']].iterrows():\n",
    "    print(x)"
   ]
  },
  {
   "cell_type": "code",
   "execution_count": 16,
   "metadata": {},
   "outputs": [
    {
     "output_type": "execute_result",
     "data": {
      "text/plain": "           Name      Birth       City      Position\n0   Иванов А.А. 1980-03-22     Москва  разнорабочий\n1  Сорокин И.В. 1965-07-08  Волгоград       инженер\n2    Белов М.М. 1980-02-13     Ростов      менеджер",
      "text/html": "<div>\n<style scoped>\n    .dataframe tbody tr th:only-of-type {\n        vertical-align: middle;\n    }\n\n    .dataframe tbody tr th {\n        vertical-align: top;\n    }\n\n    .dataframe thead th {\n        text-align: right;\n    }\n</style>\n<table border=\"1\" class=\"dataframe\">\n  <thead>\n    <tr style=\"text-align: right;\">\n      <th></th>\n      <th>Name</th>\n      <th>Birth</th>\n      <th>City</th>\n      <th>Position</th>\n    </tr>\n  </thead>\n  <tbody>\n    <tr>\n      <th>0</th>\n      <td>Иванов А.А.</td>\n      <td>1980-03-22</td>\n      <td>Москва</td>\n      <td>разнорабочий</td>\n    </tr>\n    <tr>\n      <th>1</th>\n      <td>Сорокин И.В.</td>\n      <td>1965-07-08</td>\n      <td>Волгоград</td>\n      <td>инженер</td>\n    </tr>\n    <tr>\n      <th>2</th>\n      <td>Белов М.М.</td>\n      <td>1980-02-13</td>\n      <td>Ростов</td>\n      <td>менеджер</td>\n    </tr>\n  </tbody>\n</table>\n</div>"
     },
     "metadata": {},
     "execution_count": 16
    }
   ],
   "source": [
    "frame[:3] #выбираем первые три записи"
   ]
  },
  {
   "cell_type": "code",
   "execution_count": 17,
   "metadata": {},
   "outputs": [
    {
     "output_type": "execute_result",
     "data": {
      "text/plain": "              Name      Birth    City      Position\n3  Мельникова Д.С. 1985-04-15  Ростов  разнорабочий\n4      Рыбина Е.П. 1985-11-19  Москва       инженер\n5     Костров С.О. 1985-05-31  Москва        стажер",
      "text/html": "<div>\n<style scoped>\n    .dataframe tbody tr th:only-of-type {\n        vertical-align: middle;\n    }\n\n    .dataframe tbody tr th {\n        vertical-align: top;\n    }\n\n    .dataframe thead th {\n        text-align: right;\n    }\n</style>\n<table border=\"1\" class=\"dataframe\">\n  <thead>\n    <tr style=\"text-align: right;\">\n      <th></th>\n      <th>Name</th>\n      <th>Birth</th>\n      <th>City</th>\n      <th>Position</th>\n    </tr>\n  </thead>\n  <tbody>\n    <tr>\n      <th>3</th>\n      <td>Мельникова Д.С.</td>\n      <td>1985-04-15</td>\n      <td>Ростов</td>\n      <td>разнорабочий</td>\n    </tr>\n    <tr>\n      <th>4</th>\n      <td>Рыбина Е.П.</td>\n      <td>1985-11-19</td>\n      <td>Москва</td>\n      <td>инженер</td>\n    </tr>\n    <tr>\n      <th>5</th>\n      <td>Костров С.О.</td>\n      <td>1985-05-31</td>\n      <td>Москва</td>\n      <td>стажер</td>\n    </tr>\n  </tbody>\n</table>\n</div>"
     },
     "metadata": {},
     "execution_count": 17
    }
   ],
   "source": [
    "frame[-3:] #выбираем три послдение записи"
   ]
  },
  {
   "cell_type": "code",
   "execution_count": 18,
   "metadata": {},
   "outputs": [
    {
     "output_type": "execute_result",
     "data": {
      "text/plain": "           Name       City\n0   Иванов А.А.     Москва\n1  Сорокин И.В.  Волгоград\n2    Белов М.М.     Ростов",
      "text/html": "<div>\n<style scoped>\n    .dataframe tbody tr th:only-of-type {\n        vertical-align: middle;\n    }\n\n    .dataframe tbody tr th {\n        vertical-align: top;\n    }\n\n    .dataframe thead th {\n        text-align: right;\n    }\n</style>\n<table border=\"1\" class=\"dataframe\">\n  <thead>\n    <tr style=\"text-align: right;\">\n      <th></th>\n      <th>Name</th>\n      <th>City</th>\n    </tr>\n  </thead>\n  <tbody>\n    <tr>\n      <th>0</th>\n      <td>Иванов А.А.</td>\n      <td>Москва</td>\n    </tr>\n    <tr>\n      <th>1</th>\n      <td>Сорокин И.В.</td>\n      <td>Волгоград</td>\n    </tr>\n    <tr>\n      <th>2</th>\n      <td>Белов М.М.</td>\n      <td>Ростов</td>\n    </tr>\n  </tbody>\n</table>\n</div>"
     },
     "metadata": {},
     "execution_count": 18
    }
   ],
   "source": [
    "frame.loc[[0,1,2], [\"Name\", \"City\"]] #работает на основе имен"
   ]
  },
  {
   "cell_type": "code",
   "execution_count": 19,
   "metadata": {},
   "outputs": [
    {
     "output_type": "execute_result",
     "data": {
      "text/plain": "              Name      Birth\n1     Сорокин И.В. 1965-07-08\n3  Мельникова Д.С. 1985-04-15\n5     Костров С.О. 1985-05-31",
      "text/html": "<div>\n<style scoped>\n    .dataframe tbody tr th:only-of-type {\n        vertical-align: middle;\n    }\n\n    .dataframe tbody tr th {\n        vertical-align: top;\n    }\n\n    .dataframe thead th {\n        text-align: right;\n    }\n</style>\n<table border=\"1\" class=\"dataframe\">\n  <thead>\n    <tr style=\"text-align: right;\">\n      <th></th>\n      <th>Name</th>\n      <th>Birth</th>\n    </tr>\n  </thead>\n  <tbody>\n    <tr>\n      <th>1</th>\n      <td>Сорокин И.В.</td>\n      <td>1965-07-08</td>\n    </tr>\n    <tr>\n      <th>3</th>\n      <td>Мельникова Д.С.</td>\n      <td>1985-04-15</td>\n    </tr>\n    <tr>\n      <th>5</th>\n      <td>Костров С.О.</td>\n      <td>1985-05-31</td>\n    </tr>\n  </tbody>\n</table>\n</div>"
     },
     "metadata": {},
     "execution_count": 19
    }
   ],
   "source": [
    "frame.iloc[[1,3,5], [0,1]] #работает на основе позиций"
   ]
  },
  {
   "cell_type": "code",
   "execution_count": 20,
   "metadata": {},
   "outputs": [
    {
     "output_type": "error",
     "ename": "AttributeError",
     "evalue": "'DataFrame' object has no attribute 'ix'",
     "traceback": [
      "\u001b[0;31m---------------------------------------------------------------------------\u001b[0m",
      "\u001b[0;31mAttributeError\u001b[0m                            Traceback (most recent call last)",
      "\u001b[0;32m<ipython-input-20-ca0a48d3abb9>\u001b[0m in \u001b[0;36m<module>\u001b[0;34m\u001b[0m\n\u001b[0;32m----> 1\u001b[0;31m \u001b[0mframe\u001b[0m\u001b[0;34m.\u001b[0m\u001b[0mix\u001b[0m\u001b[0;34m[\u001b[0m\u001b[0;34m[\u001b[0m\u001b[0;36m0\u001b[0m\u001b[0;34m,\u001b[0m\u001b[0;36m1\u001b[0m\u001b[0;34m,\u001b[0m\u001b[0;36m2\u001b[0m\u001b[0;34m]\u001b[0m\u001b[0;34m,\u001b[0m \u001b[0;34m[\u001b[0m\u001b[0;34m\"Name\"\u001b[0m\u001b[0;34m,\u001b[0m \u001b[0;34m\"City\"\u001b[0m\u001b[0;34m]\u001b[0m\u001b[0;34m]\u001b[0m  \u001b[0;31m#поддерживает и имена и позиции (пример с именами)\u001b[0m\u001b[0;34m\u001b[0m\u001b[0;34m\u001b[0m\u001b[0m\n\u001b[0m",
      "\u001b[0;32m~/src/MIPTMachineLearning/venv/lib/python3.7/site-packages/pandas/core/generic.py\u001b[0m in \u001b[0;36m__getattr__\u001b[0;34m(self, name)\u001b[0m\n\u001b[1;32m   5272\u001b[0m             \u001b[0;32mif\u001b[0m \u001b[0mself\u001b[0m\u001b[0;34m.\u001b[0m\u001b[0m_info_axis\u001b[0m\u001b[0;34m.\u001b[0m\u001b[0m_can_hold_identifiers_and_holds_name\u001b[0m\u001b[0;34m(\u001b[0m\u001b[0mname\u001b[0m\u001b[0;34m)\u001b[0m\u001b[0;34m:\u001b[0m\u001b[0;34m\u001b[0m\u001b[0;34m\u001b[0m\u001b[0m\n\u001b[1;32m   5273\u001b[0m                 \u001b[0;32mreturn\u001b[0m \u001b[0mself\u001b[0m\u001b[0;34m[\u001b[0m\u001b[0mname\u001b[0m\u001b[0;34m]\u001b[0m\u001b[0;34m\u001b[0m\u001b[0;34m\u001b[0m\u001b[0m\n\u001b[0;32m-> 5274\u001b[0;31m             \u001b[0;32mreturn\u001b[0m \u001b[0mobject\u001b[0m\u001b[0;34m.\u001b[0m\u001b[0m__getattribute__\u001b[0m\u001b[0;34m(\u001b[0m\u001b[0mself\u001b[0m\u001b[0;34m,\u001b[0m \u001b[0mname\u001b[0m\u001b[0;34m)\u001b[0m\u001b[0;34m\u001b[0m\u001b[0;34m\u001b[0m\u001b[0m\n\u001b[0m\u001b[1;32m   5275\u001b[0m \u001b[0;34m\u001b[0m\u001b[0m\n\u001b[1;32m   5276\u001b[0m     \u001b[0;32mdef\u001b[0m \u001b[0m__setattr__\u001b[0m\u001b[0;34m(\u001b[0m\u001b[0mself\u001b[0m\u001b[0;34m,\u001b[0m \u001b[0mname\u001b[0m\u001b[0;34m:\u001b[0m \u001b[0mstr\u001b[0m\u001b[0;34m,\u001b[0m \u001b[0mvalue\u001b[0m\u001b[0;34m)\u001b[0m \u001b[0;34m->\u001b[0m \u001b[0;32mNone\u001b[0m\u001b[0;34m:\u001b[0m\u001b[0;34m\u001b[0m\u001b[0;34m\u001b[0m\u001b[0m\n",
      "\u001b[0;31mAttributeError\u001b[0m: 'DataFrame' object has no attribute 'ix'"
     ]
    }
   ],
   "source": [
    "frame.ix[[0,1,2], [\"Name\", \"City\"]]  #поддерживает и имена и позиции (пример с именами)"
   ]
  },
  {
   "cell_type": "code",
   "execution_count": 21,
   "metadata": {},
   "outputs": [
    {
     "output_type": "error",
     "ename": "AttributeError",
     "evalue": "'DataFrame' object has no attribute 'ix'",
     "traceback": [
      "\u001b[0;31m---------------------------------------------------------------------------\u001b[0m",
      "\u001b[0;31mAttributeError\u001b[0m                            Traceback (most recent call last)",
      "\u001b[0;32m<ipython-input-21-259f0b7aaad8>\u001b[0m in \u001b[0;36m<module>\u001b[0;34m\u001b[0m\n\u001b[0;32m----> 1\u001b[0;31m \u001b[0mframe\u001b[0m\u001b[0;34m.\u001b[0m\u001b[0mix\u001b[0m\u001b[0;34m[\u001b[0m\u001b[0;34m[\u001b[0m\u001b[0;36m0\u001b[0m\u001b[0;34m,\u001b[0m\u001b[0;36m1\u001b[0m\u001b[0;34m,\u001b[0m\u001b[0;36m2\u001b[0m\u001b[0;34m]\u001b[0m\u001b[0;34m,\u001b[0m \u001b[0;34m[\u001b[0m\u001b[0;36m0\u001b[0m\u001b[0;34m,\u001b[0m\u001b[0;36m1\u001b[0m\u001b[0;34m]\u001b[0m\u001b[0;34m]\u001b[0m \u001b[0;31m#поддерживает и имена и позиции (пример с позициями)\u001b[0m\u001b[0;34m\u001b[0m\u001b[0;34m\u001b[0m\u001b[0m\n\u001b[0m",
      "\u001b[0;32m~/src/MIPTMachineLearning/venv/lib/python3.7/site-packages/pandas/core/generic.py\u001b[0m in \u001b[0;36m__getattr__\u001b[0;34m(self, name)\u001b[0m\n\u001b[1;32m   5272\u001b[0m             \u001b[0;32mif\u001b[0m \u001b[0mself\u001b[0m\u001b[0;34m.\u001b[0m\u001b[0m_info_axis\u001b[0m\u001b[0;34m.\u001b[0m\u001b[0m_can_hold_identifiers_and_holds_name\u001b[0m\u001b[0;34m(\u001b[0m\u001b[0mname\u001b[0m\u001b[0;34m)\u001b[0m\u001b[0;34m:\u001b[0m\u001b[0;34m\u001b[0m\u001b[0;34m\u001b[0m\u001b[0m\n\u001b[1;32m   5273\u001b[0m                 \u001b[0;32mreturn\u001b[0m \u001b[0mself\u001b[0m\u001b[0;34m[\u001b[0m\u001b[0mname\u001b[0m\u001b[0;34m]\u001b[0m\u001b[0;34m\u001b[0m\u001b[0;34m\u001b[0m\u001b[0m\n\u001b[0;32m-> 5274\u001b[0;31m             \u001b[0;32mreturn\u001b[0m \u001b[0mobject\u001b[0m\u001b[0;34m.\u001b[0m\u001b[0m__getattribute__\u001b[0m\u001b[0;34m(\u001b[0m\u001b[0mself\u001b[0m\u001b[0;34m,\u001b[0m \u001b[0mname\u001b[0m\u001b[0;34m)\u001b[0m\u001b[0;34m\u001b[0m\u001b[0;34m\u001b[0m\u001b[0m\n\u001b[0m\u001b[1;32m   5275\u001b[0m \u001b[0;34m\u001b[0m\u001b[0m\n\u001b[1;32m   5276\u001b[0m     \u001b[0;32mdef\u001b[0m \u001b[0m__setattr__\u001b[0m\u001b[0;34m(\u001b[0m\u001b[0mself\u001b[0m\u001b[0;34m,\u001b[0m \u001b[0mname\u001b[0m\u001b[0;34m:\u001b[0m \u001b[0mstr\u001b[0m\u001b[0;34m,\u001b[0m \u001b[0mvalue\u001b[0m\u001b[0;34m)\u001b[0m \u001b[0;34m->\u001b[0m \u001b[0;32mNone\u001b[0m\u001b[0;34m:\u001b[0m\u001b[0;34m\u001b[0m\u001b[0;34m\u001b[0m\u001b[0m\n",
      "\u001b[0;31mAttributeError\u001b[0m: 'DataFrame' object has no attribute 'ix'"
     ]
    }
   ],
   "source": [
    "frame.ix[[0,1,2], [0,1]] #поддерживает и имена и позиции (пример с позициями)"
   ]
  },
  {
   "cell_type": "code",
   "execution_count": 22,
   "metadata": {},
   "outputs": [
    {
     "output_type": "execute_result",
     "data": {
      "text/plain": "              Name      Birth    City      Position\n3  Мельникова Д.С. 1985-04-15  Ростов  разнорабочий\n4      Рыбина Е.П. 1985-11-19  Москва       инженер\n5     Костров С.О. 1985-05-31  Москва        стажер",
      "text/html": "<div>\n<style scoped>\n    .dataframe tbody tr th:only-of-type {\n        vertical-align: middle;\n    }\n\n    .dataframe tbody tr th {\n        vertical-align: top;\n    }\n\n    .dataframe thead th {\n        text-align: right;\n    }\n</style>\n<table border=\"1\" class=\"dataframe\">\n  <thead>\n    <tr style=\"text-align: right;\">\n      <th></th>\n      <th>Name</th>\n      <th>Birth</th>\n      <th>City</th>\n      <th>Position</th>\n    </tr>\n  </thead>\n  <tbody>\n    <tr>\n      <th>3</th>\n      <td>Мельникова Д.С.</td>\n      <td>1985-04-15</td>\n      <td>Ростов</td>\n      <td>разнорабочий</td>\n    </tr>\n    <tr>\n      <th>4</th>\n      <td>Рыбина Е.П.</td>\n      <td>1985-11-19</td>\n      <td>Москва</td>\n      <td>инженер</td>\n    </tr>\n    <tr>\n      <th>5</th>\n      <td>Костров С.О.</td>\n      <td>1985-05-31</td>\n      <td>Москва</td>\n      <td>стажер</td>\n    </tr>\n  </tbody>\n</table>\n</div>"
     },
     "metadata": {},
     "execution_count": 22
    }
   ],
   "source": [
    "#выбираем строки, которые удовлетворяют условию frame.Birth >= pd.datetime(1985,1,1)\n",
    "frame[frame.Birth >= pd.datetime(1985,1,1)]"
   ]
  },
  {
   "cell_type": "code",
   "execution_count": 23,
   "metadata": {},
   "outputs": [
    {
     "output_type": "execute_result",
     "data": {
      "text/plain": "              Name      Birth    City      Position\n3  Мельникова Д.С. 1985-04-15  Ростов  разнорабочий",
      "text/html": "<div>\n<style scoped>\n    .dataframe tbody tr th:only-of-type {\n        vertical-align: middle;\n    }\n\n    .dataframe tbody tr th {\n        vertical-align: top;\n    }\n\n    .dataframe thead th {\n        text-align: right;\n    }\n</style>\n<table border=\"1\" class=\"dataframe\">\n  <thead>\n    <tr style=\"text-align: right;\">\n      <th></th>\n      <th>Name</th>\n      <th>Birth</th>\n      <th>City</th>\n      <th>Position</th>\n    </tr>\n  </thead>\n  <tbody>\n    <tr>\n      <th>3</th>\n      <td>Мельникова Д.С.</td>\n      <td>1985-04-15</td>\n      <td>Ростов</td>\n      <td>разнорабочий</td>\n    </tr>\n  </tbody>\n</table>\n</div>"
     },
     "metadata": {},
     "execution_count": 23
    }
   ],
   "source": [
    "#выбираем строки, удовлетворяющие пересечению условий\n",
    "frame[(frame.Birth >= pd.datetime(1985,1,1)) &\n",
    "      (frame.City != 'Москва')]"
   ]
  },
  {
   "cell_type": "code",
   "execution_count": 24,
   "metadata": {},
   "outputs": [
    {
     "output_type": "execute_result",
     "data": {
      "text/plain": "              Name      Birth       City      Position\n1     Сорокин И.В. 1965-07-08  Волгоград       инженер\n3  Мельникова Д.С. 1985-04-15     Ростов  разнорабочий\n4      Рыбина Е.П. 1985-11-19     Москва       инженер\n5     Костров С.О. 1985-05-31     Москва        стажер",
      "text/html": "<div>\n<style scoped>\n    .dataframe tbody tr th:only-of-type {\n        vertical-align: middle;\n    }\n\n    .dataframe tbody tr th {\n        vertical-align: top;\n    }\n\n    .dataframe thead th {\n        text-align: right;\n    }\n</style>\n<table border=\"1\" class=\"dataframe\">\n  <thead>\n    <tr style=\"text-align: right;\">\n      <th></th>\n      <th>Name</th>\n      <th>Birth</th>\n      <th>City</th>\n      <th>Position</th>\n    </tr>\n  </thead>\n  <tbody>\n    <tr>\n      <th>1</th>\n      <td>Сорокин И.В.</td>\n      <td>1965-07-08</td>\n      <td>Волгоград</td>\n      <td>инженер</td>\n    </tr>\n    <tr>\n      <th>3</th>\n      <td>Мельникова Д.С.</td>\n      <td>1985-04-15</td>\n      <td>Ростов</td>\n      <td>разнорабочий</td>\n    </tr>\n    <tr>\n      <th>4</th>\n      <td>Рыбина Е.П.</td>\n      <td>1985-11-19</td>\n      <td>Москва</td>\n      <td>инженер</td>\n    </tr>\n    <tr>\n      <th>5</th>\n      <td>Костров С.О.</td>\n      <td>1985-05-31</td>\n      <td>Москва</td>\n      <td>стажер</td>\n    </tr>\n  </tbody>\n</table>\n</div>"
     },
     "metadata": {},
     "execution_count": 24
    }
   ],
   "source": [
    "#выбираем строки, удовлетворяющие объединению условий\n",
    "frame[(frame.Birth >= pd.datetime(1985,1,1)) |\n",
    "      (frame.City == 'Волгоград')]"
   ]
  }
 ],
 "metadata": {
  "kernelspec": {
   "display_name": "Python 3",
   "language": "python",
   "name": "python3"
  },
  "language_info": {
   "codemirror_mode": {
    "name": "ipython",
    "version": 3
   },
   "file_extension": ".py",
   "mimetype": "text/x-python",
   "name": "python",
   "nbconvert_exporter": "python",
   "pygments_lexer": "ipython3",
   "version": "3.7.7-final"
  }
 },
 "nbformat": 4,
 "nbformat_minor": 1
}